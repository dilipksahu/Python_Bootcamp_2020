{
 "cells": [
  {
   "cell_type": "markdown",
   "metadata": {},
   "source": [
    "# Python Features"
   ]
  },
  {
   "cell_type": "code",
   "execution_count": null,
   "metadata": {},
   "outputs": [],
   "source": [
    "'''\n",
    "1) python is open source programming \n",
    "2) python dynamic in data type \n",
    "3) python is multi purpouse programming \n",
    "4) python is pure OOP \n",
    "5) Python is high level programming \n",
    "6) python integrated programming \n",
    "\n",
    "Data type :\n",
    "basic data types \n",
    "Integer \n",
    " Float \n",
    " Boolean\n",
    " Complex \n",
    " str\n",
    "advance or collection datatype of python \n",
    " List \n",
    " Tuple \n",
    " Dictionary \n",
    " set\n",
    " Python variable are dynamic in datatype \n",
    "'''"
   ]
  },
  {
   "cell_type": "code",
   "execution_count": 1,
   "metadata": {},
   "outputs": [],
   "source": [
    "x= 100"
   ]
  },
  {
   "cell_type": "code",
   "execution_count": 2,
   "metadata": {},
   "outputs": [
    {
     "data": {
      "text/plain": [
       "int"
      ]
     },
     "execution_count": 2,
     "metadata": {},
     "output_type": "execute_result"
    }
   ],
   "source": [
    "type(x)"
   ]
  },
  {
   "cell_type": "code",
   "execution_count": 3,
   "metadata": {},
   "outputs": [
    {
     "data": {
      "text/plain": [
       "float"
      ]
     },
     "execution_count": 3,
     "metadata": {},
     "output_type": "execute_result"
    }
   ],
   "source": [
    "x=100.00\n",
    "type(x)"
   ]
  },
  {
   "cell_type": "code",
   "execution_count": null,
   "metadata": {},
   "outputs": [],
   "source": [
    "'''\n",
    "When we declare a variable whatever we store \n",
    "in that variable that will be datatype of it \n",
    "python recreate that same name variable at diff memory \n",
    "location on base of specified values \n",
    "'''    "
   ]
  },
  {
   "cell_type": "code",
   "execution_count": null,
   "metadata": {},
   "outputs": [],
   "source": [
    "x=\"Itvedant\"\n",
    "type(x)"
   ]
  },
  {
   "cell_type": "code",
   "execution_count": null,
   "metadata": {},
   "outputs": [],
   "source": [
    "id(x)"
   ]
  },
  {
   "cell_type": "code",
   "execution_count": null,
   "metadata": {},
   "outputs": [],
   "source": [
    "x=True\n",
    "type(x)"
   ]
  },
  {
   "cell_type": "code",
   "execution_count": null,
   "metadata": {},
   "outputs": [],
   "source": [
    "id(x)"
   ]
  },
  {
   "cell_type": "code",
   "execution_count": null,
   "metadata": {},
   "outputs": [],
   "source": [
    "x=[10,20,30]\n",
    "type(x)"
   ]
  },
  {
   "cell_type": "code",
   "execution_count": null,
   "metadata": {},
   "outputs": [],
   "source": [
    "id(x)"
   ]
  },
  {
   "cell_type": "code",
   "execution_count": null,
   "metadata": {},
   "outputs": [],
   "source": [
    "# i can also ddecalre python variable with some default value of datatye \n",
    "x=int()"
   ]
  },
  {
   "cell_type": "code",
   "execution_count": null,
   "metadata": {},
   "outputs": [],
   "source": [
    "type(x)"
   ]
  },
  {
   "cell_type": "code",
   "execution_count": null,
   "metadata": {},
   "outputs": [],
   "source": [
    "#default value of integer data type is 0 \n",
    "x"
   ]
  },
  {
   "cell_type": "code",
   "execution_count": null,
   "metadata": {},
   "outputs": [],
   "source": [
    "x=str()"
   ]
  },
  {
   "cell_type": "code",
   "execution_count": null,
   "metadata": {},
   "outputs": [],
   "source": [
    "type(x)"
   ]
  },
  {
   "cell_type": "code",
   "execution_count": null,
   "metadata": {},
   "outputs": [],
   "source": [
    "# default value of string data type is \"\"\n",
    "x"
   ]
  },
  {
   "cell_type": "code",
   "execution_count": null,
   "metadata": {},
   "outputs": [],
   "source": [
    "x=complex()"
   ]
  },
  {
   "cell_type": "code",
   "execution_count": null,
   "metadata": {},
   "outputs": [],
   "source": [
    "type(x)"
   ]
  },
  {
   "cell_type": "code",
   "execution_count": null,
   "metadata": {},
   "outputs": [],
   "source": [
    "x"
   ]
  },
  {
   "cell_type": "code",
   "execution_count": null,
   "metadata": {},
   "outputs": [],
   "source": [
    "'''\n",
    "the size of integer in python is upto memory \n",
    "so i can store 32 byte size integer value \n",
    "'''"
   ]
  },
  {
   "cell_type": "code",
   "execution_count": null,
   "metadata": {},
   "outputs": [],
   "source": [
    "x=100**100"
   ]
  },
  {
   "cell_type": "code",
   "execution_count": null,
   "metadata": {},
   "outputs": [],
   "source": [
    "x"
   ]
  },
  {
   "cell_type": "code",
   "execution_count": null,
   "metadata": {},
   "outputs": [],
   "source": [
    "x=1000**1000"
   ]
  },
  {
   "cell_type": "code",
   "execution_count": null,
   "metadata": {},
   "outputs": [],
   "source": [
    "x"
   ]
  },
  {
   "cell_type": "code",
   "execution_count": null,
   "metadata": {},
   "outputs": [],
   "source": [
    "'''\n",
    "its depend on processor which you have that much amount of value \n",
    "it can store there no specific limit for integer in python \n",
    "\n",
    "Home work \n",
    "Size of Float ,str,boolean,long,list,tuple,dictionary,set \n",
    "'''"
   ]
  },
  {
   "cell_type": "code",
   "execution_count": null,
   "metadata": {},
   "outputs": [],
   "source": [
    "'''\n",
    "Float:\n",
    "\n",
    "Almost all platforms represent Python float values as 64-bit “double-precision” values, \n",
    "according to the IEEE 754 standard. In that case, the maximum value a floating-point number \n",
    "can have is approximately 1.8 ⨉ 10308. Python will indicate a number greater than that by the string inf:\n",
    "\n",
    "'''"
   ]
  },
  {
   "cell_type": "code",
   "execution_count": 36,
   "metadata": {},
   "outputs": [
    {
     "data": {
      "text/plain": [
       "1.79e+308"
      ]
     },
     "execution_count": 36,
     "metadata": {},
     "output_type": "execute_result"
    }
   ],
   "source": [
    "x = 1.79e308\n",
    "x"
   ]
  },
  {
   "cell_type": "code",
   "execution_count": 38,
   "metadata": {},
   "outputs": [
    {
     "data": {
      "text/plain": [
       "inf"
      ]
     },
     "execution_count": 38,
     "metadata": {},
     "output_type": "execute_result"
    }
   ],
   "source": [
    "x = 1.8e308\n",
    "x"
   ]
  },
  {
   "cell_type": "code",
   "execution_count": null,
   "metadata": {},
   "outputs": [],
   "source": [
    "'''\n",
    "I would argue that a complex number needs 32 bytes for the complex number object itself \n",
    "and 2*24 bytes for the real and imaginary parts (float type). In total, a complex number needs 80 bytes in memory.\n",
    "'''"
   ]
  },
  {
   "cell_type": "code",
   "execution_count": 40,
   "metadata": {},
   "outputs": [],
   "source": [
    "x = 2+3j"
   ]
  },
  {
   "cell_type": "code",
   "execution_count": 41,
   "metadata": {},
   "outputs": [
    {
     "data": {
      "text/plain": [
       "(2+3j)"
      ]
     },
     "execution_count": 41,
     "metadata": {},
     "output_type": "execute_result"
    }
   ],
   "source": [
    "x"
   ]
  },
  {
   "cell_type": "code",
   "execution_count": 42,
   "metadata": {},
   "outputs": [
    {
     "data": {
      "text/plain": [
       "complex"
      ]
     },
     "execution_count": 42,
     "metadata": {},
     "output_type": "execute_result"
    }
   ],
   "source": [
    "type(x)"
   ]
  },
  {
   "cell_type": "code",
   "execution_count": null,
   "metadata": {},
   "outputs": [],
   "source": [
    "'''\n",
    "=> String\n",
    "Maximum length of a string is platform dependent and depends upon address space and/or RAM. \n",
    "The maxsize constant defined in sys module returns 263-1 on 64 bit system.\n",
    "'''"
   ]
  },
  {
   "cell_type": "markdown",
   "metadata": {},
   "source": [
    "# Python Assignment types"
   ]
  },
  {
   "cell_type": "code",
   "execution_count": null,
   "metadata": {},
   "outputs": [],
   "source": [
    "'''\n",
    "python provide assignment operator \n",
    "\n",
    "normal assignment operator \n",
    "    =\n",
    "shorthand assignment \n",
    "    +=\n",
    "    -=\n",
    "    /=\n",
    "    //=\n",
    "    **=\n",
    "    *=\n",
    "    %=\n",
    "to assign some values to variable \n",
    "assignment operator assigns values from right to left direction \n",
    "  x <- 100\n",
    "  x= 100 \n",
    "Rule : \n",
    " 1) in python assignment creats object referece \n",
    "    it is not creating new memory for a variable \n",
    "    x=int() # is object of integer class \n",
    "    x=10 same x is an object intgere \n",
    "    s=\"itvedant\" # object of string class s allows me to access all methods \n",
    "'''"
   ]
  },
  {
   "cell_type": "code",
   "execution_count": 45,
   "metadata": {},
   "outputs": [],
   "source": [
    "x = 100"
   ]
  },
  {
   "cell_type": "code",
   "execution_count": 46,
   "metadata": {},
   "outputs": [],
   "source": [
    "y = x"
   ]
  },
  {
   "cell_type": "code",
   "execution_count": 47,
   "metadata": {},
   "outputs": [
    {
     "data": {
      "text/plain": [
       "100"
      ]
     },
     "execution_count": 47,
     "metadata": {},
     "output_type": "execute_result"
    }
   ],
   "source": [
    "x"
   ]
  },
  {
   "cell_type": "code",
   "execution_count": 48,
   "metadata": {},
   "outputs": [
    {
     "data": {
      "text/plain": [
       "100"
      ]
     },
     "execution_count": 48,
     "metadata": {},
     "output_type": "execute_result"
    }
   ],
   "source": [
    "y"
   ]
  },
  {
   "cell_type": "code",
   "execution_count": 49,
   "metadata": {},
   "outputs": [],
   "source": [
    "y = 20"
   ]
  },
  {
   "cell_type": "code",
   "execution_count": 50,
   "metadata": {},
   "outputs": [
    {
     "data": {
      "text/plain": [
       "20"
      ]
     },
     "execution_count": 50,
     "metadata": {},
     "output_type": "execute_result"
    }
   ],
   "source": [
    "y"
   ]
  },
  {
   "cell_type": "code",
   "execution_count": 51,
   "metadata": {},
   "outputs": [
    {
     "data": {
      "text/plain": [
       "100"
      ]
     },
     "execution_count": 51,
     "metadata": {},
     "output_type": "execute_result"
    }
   ],
   "source": [
    "x"
   ]
  },
  {
   "cell_type": "code",
   "execution_count": 52,
   "metadata": {},
   "outputs": [
    {
     "data": {
      "text/plain": [
       "140735117045232"
      ]
     },
     "execution_count": 52,
     "metadata": {},
     "output_type": "execute_result"
    }
   ],
   "source": [
    "id(x)"
   ]
  },
  {
   "cell_type": "code",
   "execution_count": 53,
   "metadata": {},
   "outputs": [
    {
     "data": {
      "text/plain": [
       "140735117042672"
      ]
     },
     "execution_count": 53,
     "metadata": {},
     "output_type": "execute_result"
    }
   ],
   "source": [
    "# diff memory address\n",
    "id(y)"
   ]
  },
  {
   "cell_type": "code",
   "execution_count": null,
   "metadata": {},
   "outputs": [],
   "source": [
    "'''\n",
    "2) python creates a variable name the first time when they\n",
    "are assign a value \n",
    "\n",
    "3) Name must be assigned before being referenced \n",
    "\n",
    "4) there are some operation that perform assignments implicity \n",
    "'''"
   ]
  },
  {
   "cell_type": "markdown",
   "metadata": {},
   "source": [
    "## Assignment Types"
   ]
  },
  {
   "cell_type": "code",
   "execution_count": 54,
   "metadata": {},
   "outputs": [],
   "source": [
    "# 1) Basic Assignments \n",
    "x=100\n",
    "name='Itvedant'\n",
    "y=str()"
   ]
  },
  {
   "cell_type": "code",
   "execution_count": 67,
   "metadata": {},
   "outputs": [
    {
     "name": "stdout",
     "output_type": "stream",
     "text": [
      "x =>  50 loc 1765186603504\n",
      "y =>  100 loc 1765185318768\n"
     ]
    }
   ],
   "source": [
    "# 2) Tuple Assignments \n",
    "x,y=50,100\n",
    "print(\"x => \",x,\"loc\",id(a))\n",
    "print(\"y => \",y,\"loc\",id(b))"
   ]
  },
  {
   "cell_type": "code",
   "execution_count": 56,
   "metadata": {},
   "outputs": [
    {
     "name": "stdout",
     "output_type": "stream",
     "text": [
      "a =>  2\n",
      "b =>  4\n"
     ]
    }
   ],
   "source": [
    "# 3) List Assignments \n",
    "[a,b]=[2,4]\n",
    "print(\"a => \",a)\n",
    "print(\"b => \",b)"
   ]
  },
  {
   "cell_type": "code",
   "execution_count": 57,
   "metadata": {},
   "outputs": [
    {
     "data": {
      "text/plain": [
       "int"
      ]
     },
     "execution_count": 57,
     "metadata": {},
     "output_type": "execute_result"
    }
   ],
   "source": [
    "type(a)"
   ]
  },
  {
   "cell_type": "code",
   "execution_count": 58,
   "metadata": {},
   "outputs": [
    {
     "data": {
      "text/plain": [
       "int"
      ]
     },
     "execution_count": 58,
     "metadata": {},
     "output_type": "execute_result"
    }
   ],
   "source": [
    "type(b)"
   ]
  },
  {
   "cell_type": "code",
   "execution_count": 59,
   "metadata": {},
   "outputs": [
    {
     "name": "stdout",
     "output_type": "stream",
     "text": [
      "a =>  G <class 'str'>\n",
      "b =>  O <class 'str'>\n",
      "c =>  D <class 'str'>\n"
     ]
    }
   ],
   "source": [
    "# 4) Sequence Assignments \n",
    "a,b,c='GOD'\n",
    "print(\"a => \",a,type(a))\n",
    "print(\"b => \",b,type(b))\n",
    "print(\"c => \",c,type(c))"
   ]
  },
  {
   "cell_type": "code",
   "execution_count": 60,
   "metadata": {},
   "outputs": [
    {
     "name": "stdout",
     "output_type": "stream",
     "text": [
      "p => H\n",
      "q => ['e', 'l', 'l', 'o']\n"
     ]
    }
   ],
   "source": [
    "# 5) Extended Sequence unpacking \n",
    "p,*q ='Hello' # * is collect all character and store as a list \n",
    "print(\"p =>\",p)\n",
    "print(\"q =>\",q)"
   ]
  },
  {
   "cell_type": "code",
   "execution_count": 5,
   "metadata": {},
   "outputs": [
    {
     "name": "stdout",
     "output_type": "stream",
     "text": [
      "winner =>  A\n",
      "other =>  ['B', 'C', 'D']\n",
      "Runner up =>  B,C,D\n",
      "other in tuple =>  ('B', 'C', 'D')\n"
     ]
    }
   ],
   "source": [
    "ranks=['A','B','C','D']\n",
    "first,*rest=ranks\n",
    "print(\"winner => \",first)\n",
    "print(\"other => \",rest)\n",
    "s=','.join(rest)\n",
    "print(\"Runner up => \",s)\n",
    "# print(\"Runner up => \",','.join(rest))\n",
    "\n",
    "print(\"other in tuple => \",tuple(rest))\n"
   ]
  },
  {
   "cell_type": "code",
   "execution_count": 8,
   "metadata": {},
   "outputs": [
    {
     "name": "stdout",
     "output_type": "stream",
     "text": [
      "75 <class 'int'> 140729455520464\n",
      "75 <class 'int'> 140729455520464\n"
     ]
    }
   ],
   "source": [
    "# 6) Multiple Tager Assignments\n",
    "x=y=75\n",
    "print(x,type(x),id(x))\n",
    "print(y,type(y),id(y))"
   ]
  },
  {
   "cell_type": "code",
   "execution_count": 9,
   "metadata": {},
   "outputs": [],
   "source": [
    "x = 200"
   ]
  },
  {
   "cell_type": "code",
   "execution_count": 10,
   "metadata": {},
   "outputs": [
    {
     "data": {
      "text/plain": [
       "75"
      ]
     },
     "execution_count": 10,
     "metadata": {},
     "output_type": "execute_result"
    }
   ],
   "source": [
    "y"
   ]
  },
  {
   "cell_type": "code",
   "execution_count": 11,
   "metadata": {},
   "outputs": [
    {
     "data": {
      "text/plain": [
       "200"
      ]
     },
     "execution_count": 11,
     "metadata": {},
     "output_type": "execute_result"
    }
   ],
   "source": [
    "x"
   ]
  },
  {
   "cell_type": "code",
   "execution_count": null,
   "metadata": {},
   "outputs": [],
   "source": [
    "# 7) Short hand or Augmented assignment \n",
    "x=2\n",
    "x+=1\n",
    "print(x)\n",
    "'''\n",
    "+=\n",
    "-=\n",
    "*=\n",
    "//= etc.. see list above \n",
    "'''"
   ]
  },
  {
   "cell_type": "markdown",
   "metadata": {},
   "source": [
    "### EX - 1"
   ]
  },
  {
   "cell_type": "code",
   "execution_count": null,
   "metadata": {},
   "outputs": [],
   "source": [
    "'''\n",
    "Write a program which will find all such numbers which are\n",
    "divisible by 7 but are not a multiple of 5, \n",
    "between 2000 and 3200 (both included).The numbers obtained \n",
    "should be printed in a \n",
    "comma-separated sequence on a single line. '''"
   ]
  },
  {
   "cell_type": "code",
   "execution_count": 71,
   "metadata": {},
   "outputs": [
    {
     "name": "stdout",
     "output_type": "stream",
     "text": [
      "2002,2009,2016,2023,2037,2044,2051,2058,2072,2079,2086,2093,2107,2114,2121,2128,2142,2149,2156,2163,2177,2184,2191,2198,2212,2219,2226,2233,2247,2254,2261,2268,2282,2289,2296,2303,2317,2324,2331,2338,2352,2359,2366,2373,2387,2394,2401,2408,2422,2429,2436,2443,2457,2464,2471,2478,2492,2499,2506,2513,2527,2534,2541,2548,2562,2569,2576,2583,2597,2604,2611,2618,2632,2639,2646,2653,2667,2674,2681,2688,2702,2709,2716,2723,2737,2744,2751,2758,2772,2779,2786,2793,2807,2814,2821,2828,2842,2849,2856,2863,2877,2884,2891,2898,2912,2919,2926,2933,2947,2954,2961,2968,2982,2989,2996,3003,3017,3024,3031,3038,3052,3059,3066,3073,3087,3094,3101,3108,3122,3129,3136,3143,3157,3164,3171,3178,3192,3199,\b\n"
     ]
    }
   ],
   "source": [
    "# Looping\n",
    "for i in range(2000,3201):\n",
    "    if i%7 ==0 and i% 5 !=0:\n",
    "        print(i,end=\",\")\n",
    "print(\"\\b\")  # backslash"
   ]
  },
  {
   "cell_type": "code",
   "execution_count": 78,
   "metadata": {},
   "outputs": [
    {
     "name": "stdout",
     "output_type": "stream",
     "text": [
      "2002,2009,2016,2023,2037,2044,2051,2058,2072,2079,2086,2093,2107,2114,2121,2128,2142,2149,2156,2163,2177,2184,2191,2198,2212,2219,2226,2233,2247,2254,2261,2268,2282,2289,2296,2303,2317,2324,2331,2338,2352,2359,2366,2373,2387,2394,2401,2408,2422,2429,2436,2443,2457,2464,2471,2478,2492,2499,2506,2513,2527,2534,2541,2548,2562,2569,2576,2583,2597,2604,2611,2618,2632,2639,2646,2653,2667,2674,2681,2688,2702,2709,2716,2723,2737,2744,2751,2758,2772,2779,2786,2793,2807,2814,2821,2828,2842,2849,2856,2863,2877,2884,2891,2898,2912,2919,2926,2933,2947,2954,2961,2968,2982,2989,2996,3003,3017,3024,3031,3038,3052,3059,3066,3073,3087,3094,3101,3108,3122,3129,3136,3143,3157,3164,3171,3178,3192,3199\n"
     ]
    }
   ],
   "source": [
    "# tuple comprehension and it possible becasue of generator \n",
    "\n",
    "print(*(i for i in range(2000,3201) if i%7 ==0 and i%5!=0 ),sep=\",\")"
   ]
  },
  {
   "cell_type": "code",
   "execution_count": 79,
   "metadata": {},
   "outputs": [
    {
     "name": "stdout",
     "output_type": "stream",
     "text": [
      "<generator object <genexpr> at 0x0000019AFFD51A48>\n"
     ]
    }
   ],
   "source": [
    "# it will return object of generator instead elements \n",
    "print((i for i in range(2000,3201) if i%7 ==0 and i%5!=0 ),sep=\",\")"
   ]
  },
  {
   "cell_type": "code",
   "execution_count": 2,
   "metadata": {},
   "outputs": [
    {
     "name": "stdout",
     "output_type": "stream",
     "text": [
      "2002,2009,2016,2023,2037,2044,2051,2058,2072,2079,2086,2093,2107,2114,2121,2128,2142,2149,2156,2163,2177,2184,2191,2198,2212,2219,2226,2233,2247,2254,2261,2268,2282,2289,2296,2303,2317,2324,2331,2338,2352,2359,2366,2373,2387,2394,2401,2408,2422,2429,2436,2443,2457,2464,2471,2478,2492,2499,2506,2513,2527,2534,2541,2548,2562,2569,2576,2583,2597,2604,2611,2618,2632,2639,2646,2653,2667,2674,2681,2688,2702,2709,2716,2723,2737,2744,2751,2758,2772,2779,2786,2793,2807,2814,2821,2828,2842,2849,2856,2863,2877,2884,2891,2898,2912,2919,2926,2933,2947,2954,2961,2968,2982,2989,2996,3003,3017,3024,3031,3038,3052,3059,3066,3073,3087,3094,3101,3108,3122,3129,3136,3143,3157,3164,3171,3178,3192,3199\n"
     ]
    }
   ],
   "source": [
    "# List comprehension and it possible becasue of generator \n",
    "print(*[i for i in range(2000,3201) if i%7==0 and i%5!=0],sep=\",\")"
   ]
  },
  {
   "cell_type": "markdown",
   "metadata": {},
   "source": [
    "### Ex - 2"
   ]
  },
  {
   "cell_type": "code",
   "execution_count": null,
   "metadata": {},
   "outputs": [],
   "source": [
    "'''\n",
    "Write a program which can compute the factorial of a given numbers.\n",
    "The results should be printed in a comma-separated sequence\n",
    "on a single line.Suppose the following input is supplied to\n",
    "the program:\n",
    "8 Then, the output should be:40320 '''"
   ]
  },
  {
   "cell_type": "code",
   "execution_count": null,
   "metadata": {},
   "outputs": [],
   "source": [
    "'''\n",
    "1) while loop\n",
    "2) for loop \n",
    "3) recursion \n",
    "4) lambda expression '''"
   ]
  },
  {
   "cell_type": "code",
   "execution_count": 89,
   "metadata": {},
   "outputs": [
    {
     "name": "stdout",
     "output_type": "stream",
     "text": [
      "-5\n",
      "1\n"
     ]
    }
   ],
   "source": [
    "num = int(input())\n",
    "fact = 1\n",
    "while num > 0:\n",
    "    fact *= num\n",
    "    num -= 1\n",
    "    \n",
    "print(fact)"
   ]
  },
  {
   "cell_type": "code",
   "execution_count": 88,
   "metadata": {},
   "outputs": [
    {
     "name": "stdout",
     "output_type": "stream",
     "text": [
      "5\n",
      "120\n"
     ]
    }
   ],
   "source": [
    "num = int(input())\n",
    "fact = 1\n",
    "for i in range(num,0,-1):\n",
    "    fact *= i\n",
    "print(fact)"
   ]
  },
  {
   "cell_type": "code",
   "execution_count": 92,
   "metadata": {},
   "outputs": [
    {
     "name": "stdout",
     "output_type": "stream",
     "text": [
      "-5\n",
      "Sorry, factorial does not exist for negative numbers\n"
     ]
    }
   ],
   "source": [
    "def recur_fact(x):\n",
    "    if x == 1:\n",
    "        return x\n",
    "    else:\n",
    "        return x * recur_fact(x-1)\n",
    "    \n",
    "num = int(input())    \n",
    "if num < 0:\n",
    "   print(\"Sorry, factorial does not exist for negative numbers\")\n",
    "elif num == 0:\n",
    "   print(\"The factorial of 0 is 1\")\n",
    "else:\n",
    "   print(\"The factorial of\", num, \"is\", recur_fact(num))\n",
    "        "
   ]
  },
  {
   "cell_type": "code",
   "execution_count": 93,
   "metadata": {},
   "outputs": [
    {
     "data": {
      "text/plain": [
       "120"
      ]
     },
     "execution_count": 93,
     "metadata": {},
     "output_type": "execute_result"
    }
   ],
   "source": [
    "fact = lambda x: 1 if x == 0 else x * fact(x-1)\n",
    "fact(5)"
   ]
  },
  {
   "cell_type": "markdown",
   "metadata": {},
   "source": [
    "### Ex - 3"
   ]
  },
  {
   "cell_type": "code",
   "execution_count": null,
   "metadata": {},
   "outputs": [],
   "source": [
    "'''\n",
    "With a given integral number n, write a program to generate a\n",
    "dictionary that contains (i, i x i) such that is an integral\n",
    "number between 1 and n (both included). and then the program \n",
    "should print the dictionary.Suppose the following input is \n",
    "supplied to the program: 8\n",
    "Then, the output should be:\n",
    "{1: 1, 2: 4, 3: 9, 4: 16, 5: 25, 6: 36, 7: 49, 8: 64}\n",
    "\n",
    "1) using for loop \n",
    "2) using dictionary comprehension \n",
    "'''"
   ]
  },
  {
   "cell_type": "code",
   "execution_count": 6,
   "metadata": {},
   "outputs": [
    {
     "name": "stdout",
     "output_type": "stream",
     "text": [
      "8\n",
      "{1: 1, 2: 4, 3: 9, 4: 16, 5: 25, 6: 36, 7: 49, 8: 64}\n"
     ]
    }
   ],
   "source": [
    "n = int(input())\n",
    "d = {}\n",
    "for i in range(1,n+1):\n",
    "    sqr = i * i\n",
    "    d[i]= sqr\n",
    "print(d)"
   ]
  },
  {
   "cell_type": "code",
   "execution_count": 7,
   "metadata": {},
   "outputs": [
    {
     "name": "stdout",
     "output_type": "stream",
     "text": [
      "8\n",
      "{1: 1, 2: 4, 3: 9, 4: 16, 5: 25, 6: 36, 7: 49, 8: 64}\n"
     ]
    }
   ],
   "source": [
    "#  {key: value for (key, value) in iterable}\n",
    "n = int(input())\n",
    "mydict = { i:i**2 for i in range(1,n+1)}\n",
    "print(mydict)"
   ]
  },
  {
   "cell_type": "markdown",
   "metadata": {},
   "source": [
    "### Ex - 4"
   ]
  },
  {
   "cell_type": "code",
   "execution_count": null,
   "metadata": {},
   "outputs": [],
   "source": [
    "'''\n",
    "Write a program which accepts a sequence of comma-separated numbers\n",
    "from console and generate a list and a tuple which contains every number.\n",
    "Suppose the following input is supplied to the program:\n",
    "\n",
    "34,67,55,33,12,98\n",
    "\n",
    "['34', '67', '55', '33', '12', '98'] ('34', '67', '55', '33', '12', '98')\n",
    "'''"
   ]
  },
  {
   "cell_type": "code",
   "execution_count": 10,
   "metadata": {},
   "outputs": [
    {
     "name": "stdout",
     "output_type": "stream",
     "text": [
      "34,67,55,33,12,98\n",
      "[34, 67, 55, 33, 12, 98]\n",
      "(34, 67, 55, 33, 12, 98)\n"
     ]
    }
   ],
   "source": [
    "# comma separated input\n",
    "n = list(map(int,input().split(\",\")))\n",
    "print(n)\n",
    "print(tuple(n))"
   ]
  },
  {
   "cell_type": "code",
   "execution_count": 14,
   "metadata": {},
   "outputs": [
    {
     "name": "stdout",
     "output_type": "stream",
     "text": [
      "37 67 55 33 12 98\n",
      "[37, 67, 55, 33, 12, 98]\n",
      "(37, 67, 55, 33, 12, 98)\n"
     ]
    }
   ],
   "source": [
    "# space separated input\n",
    "n = list(map(int,input().rstrip().split()))\n",
    "print(n)\n",
    "print(tuple(n))"
   ]
  },
  {
   "cell_type": "code",
   "execution_count": 17,
   "metadata": {},
   "outputs": [
    {
     "name": "stdout",
     "output_type": "stream",
     "text": [
      "34,67,55,33,12,98\n",
      "['34', '67', '55', '33', '12', '98']\n",
      "('34', '67', '55', '33', '12', '98')\n"
     ]
    }
   ],
   "source": [
    "# string input\n",
    "lst = input().split(\",\")\n",
    "print(lst)\n",
    "print(tuple(lst))"
   ]
  },
  {
   "cell_type": "code",
   "execution_count": 20,
   "metadata": {},
   "outputs": [
    {
     "name": "stdout",
     "output_type": "stream",
     "text": [
      "34,67,55,33,12,98\n",
      "<map object at 0x000001895370B0C8>\n",
      "('34', '67', '55', '33', '12', '98')\n"
     ]
    }
   ],
   "source": [
    "n = map(str,input().split(\",\"))\n",
    "print(n)\n",
    "print(tuple(n))"
   ]
  },
  {
   "cell_type": "code",
   "execution_count": 21,
   "metadata": {},
   "outputs": [
    {
     "name": "stdout",
     "output_type": "stream",
     "text": [
      "34,67,55,33,12,98\n",
      "['34', '67', '55', '33', '12', '98']\n",
      "('34', '67', '55', '33', '12', '98')\n"
     ]
    }
   ],
   "source": [
    "n = list(map(str,input().split(\",\")))\n",
    "print(n)\n",
    "print(tuple(n))"
   ]
  },
  {
   "cell_type": "markdown",
   "metadata": {},
   "source": [
    "### Ex -5"
   ]
  },
  {
   "cell_type": "code",
   "execution_count": null,
   "metadata": {},
   "outputs": [],
   "source": [
    "'''\n",
    "Write a program that calculates and prints the value according to \n",
    "the given formula:\n",
    "\n",
    "Q = Square root of [(2 * C *D)/H]\n",
    "\n",
    "Following are the fixed values of C and H:\n",
    "\n",
    "C is 50. H is 30.\n",
    "\n",
    "D is the variable whose values should be input to your program \n",
    "in a comma-separated sequence.For example Let us assume the following\n",
    "comma separated input \n",
    "sequence is given to the program:\n",
    "    \n",
    "100,150,180\n",
    "\n",
    "then output must be \n",
    "\n",
    "18,22,24 \n",
    "'''"
   ]
  },
  {
   "cell_type": "code",
   "execution_count": 6,
   "metadata": {},
   "outputs": [
    {
     "name": "stdout",
     "output_type": "stream",
     "text": [
      "100,150,180\n",
      "100\n",
      "150\n",
      "180\n",
      "18,22,24\n"
     ]
    }
   ],
   "source": [
    "from math import sqrt\n",
    "\n",
    "C,H = 50,30\n",
    "def calc(D):\n",
    "    D = int(D)\n",
    "    print(D)\n",
    "    return str(int(sqrt((2 * C *D)/H)))\n",
    "\n",
    "D = input().split(\",\")\n",
    "D = list(map(calc,D))   # map(fun, iter)\n",
    "print(\",\".join(D))     # join need string"
   ]
  },
  {
   "cell_type": "code",
   "execution_count": 9,
   "metadata": {},
   "outputs": [
    {
     "name": "stdout",
     "output_type": "stream",
     "text": [
      "100,150,180\n",
      "18,22,24\n"
     ]
    }
   ],
   "source": [
    "from math import sqrt\n",
    "\n",
    "C,H = 50,30\n",
    "def calc(D):\n",
    "    return sqrt((2 * C * D)/H)\n",
    "\n",
    "print(\",\".join([str(int(calc(int(i)))) for i in input().split(\",\")]))"
   ]
  },
  {
   "cell_type": "code",
   "execution_count": 18,
   "metadata": {},
   "outputs": [
    {
     "name": "stdout",
     "output_type": "stream",
     "text": [
      "100,150,180\n",
      "[100, 150, 180]\n",
      "[100, 150, 180]\n",
      "[18.257418583505537, 22.360679774997898, 24.49489742783178]\n",
      "[18, 22, 24]\n",
      "18,22,24\n"
     ]
    }
   ],
   "source": [
    "from math import sqrt  # import specific functions as importing all using *\n",
    "\n",
    "# is bad practice\n",
    "\n",
    "C, H = 50, 30\n",
    "\n",
    "\n",
    "def calc(D):\n",
    "    return sqrt((2 * C * D) / H)\n",
    "\n",
    "\n",
    "D = [int(i) for i in input().split(\",\")]  # splits in comma position and set up in list\n",
    "print(D)\n",
    "D = [int(i) for i in D]  # converts string to integer\n",
    "print(D)\n",
    "D = [calc(i) for i in D]  # returns floating value by calc method for every item in D\n",
    "print(D)\n",
    "D = [round(i) for i in D]  # All the floating values are rounded\n",
    "print(D)\n",
    "D = [\n",
    "    str(i) for i in D\n",
    "]  # All the integers are converted to string to be able to apply join operation\n",
    "\n",
    "print(\",\".join(D))"
   ]
  }
 ],
 "metadata": {
  "kernelspec": {
   "display_name": "Python 3",
   "language": "python",
   "name": "python3"
  },
  "language_info": {
   "codemirror_mode": {
    "name": "ipython",
    "version": 3
   },
   "file_extension": ".py",
   "mimetype": "text/x-python",
   "name": "python",
   "nbconvert_exporter": "python",
   "pygments_lexer": "ipython3",
   "version": "3.7.4"
  }
 },
 "nbformat": 4,
 "nbformat_minor": 2
}
