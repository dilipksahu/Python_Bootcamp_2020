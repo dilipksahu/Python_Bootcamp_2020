{
 "cells": [
  {
   "cell_type": "markdown",
   "metadata": {},
   "source": [
    "### 2-D Matrix"
   ]
  },
  {
   "cell_type": "code",
   "execution_count": null,
   "metadata": {},
   "outputs": [],
   "source": [
    "'''\n",
    "Problem Statement 1 \n",
    "Write a program which takes 2 digits, X,Y as input and generates \n",
    "a 2-dimensional array. The element value in the i-th row and j-th column\n",
    "of the array should be i _ j.*\n",
    "\n",
    "Note: i=0,1.., X-1; j=0,1,¡­Y-1. Suppose the following inputs are given \n",
    "    to the program: 3,5\n",
    "\n",
    "Then, the output of the program should be:\n",
    "\n",
    "[[0, 0, 0, 0, 0], [0, 1, 2, 3, 4], [0, 2, 4, 6, 8]]\n",
    "\n",
    "Note: In case of input data being supplied to the question,\n",
    "it should be assumed to be a console\n",
    "input in a comma-separated form.\n",
    "\n",
    "'''"
   ]
  },
  {
   "cell_type": "code",
   "execution_count": 9,
   "metadata": {},
   "outputs": [
    {
     "name": "stdout",
     "output_type": "stream",
     "text": [
      "3,5\n",
      "[[0, 0, 0, 0, 0], [0, 1, 2, 3, 4], [0, 2, 4, 6, 8]]\n"
     ]
    }
   ],
   "source": [
    "# For loop\n",
    "x,y = map(int,input().split(\",\"))  # comman separated value accepted\n",
    "# x is row and y is column \n",
    "lst = []\n",
    "for i in range(x):      # Rows-0,1,2\n",
    "    temp = []\n",
    "    for j in range(y):   #column- 0,1,2,3,4\n",
    "        temp.append(i*j)\n",
    "    lst.append(temp)\n",
    "\n",
    "print(lst)"
   ]
  },
  {
   "cell_type": "code",
   "execution_count": 12,
   "metadata": {},
   "outputs": [
    {
     "name": "stdout",
     "output_type": "stream",
     "text": [
      "3,5\n",
      "[[0, 0, 0, 0, 0], [0, 1, 2, 3, 4], [0, 2, 4, 6, 8]]\n"
     ]
    }
   ],
   "source": [
    "# List comprehension\n",
    "x,y = map(int,input().split(\",\"))  # comman separated value accepted\n",
    "lst = [[i*j for j in range(y)] for i in range(x)]\n",
    "print(lst)"
   ]
  },
  {
   "cell_type": "markdown",
   "metadata": {},
   "source": [
    "### Sorting"
   ]
  },
  {
   "cell_type": "code",
   "execution_count": null,
   "metadata": {},
   "outputs": [],
   "source": [
    "'''\n",
    "Problem statement 2 \n",
    "Write a program that accepts a comma separated sequence of words \n",
    "as input and prints the words in a comma-separated sequence after \n",
    "sorting them alphabetically.\n",
    "\n",
    "Suppose the following input is supplied to the program:\n",
    "\n",
    "without,hello,bag,world\n",
    "\n",
    "Then, the output should be:\n",
    "\n",
    "bag,hello,without,world\n",
    "\n",
    "'''"
   ]
  },
  {
   "cell_type": "code",
   "execution_count": 20,
   "metadata": {},
   "outputs": [
    {
     "name": "stdout",
     "output_type": "stream",
     "text": [
      "without,hello,bag,world\n",
      "bag,hello,without,world\n"
     ]
    }
   ],
   "source": [
    "s = input().split(\",\")\n",
    "s.sort()\n",
    "s = \",\".join(s)      # string_name.join(iterable) \n",
    "print(s)"
   ]
  },
  {
   "cell_type": "markdown",
   "metadata": {},
   "source": [
    "### Capitalize "
   ]
  },
  {
   "cell_type": "code",
   "execution_count": null,
   "metadata": {},
   "outputs": [],
   "source": [
    "'''\n",
    "Write a program that accepts sequence of lines as input and prints the lines after making all characters in the sentence capitalized.\n",
    "\n",
    "Suppose the following input is supplied to the program:\n",
    "\n",
    "Hello world\n",
    "\n",
    "Practice makes perfect\n",
    "\n",
    "Then, the output should be:\n",
    "\n",
    "HELLO WORLD\n",
    "\n",
    "PRACTICE MAKES PERFECT\n",
    "'''       "
   ]
  },
  {
   "cell_type": "code",
   "execution_count": 24,
   "metadata": {},
   "outputs": [
    {
     "name": "stdout",
     "output_type": "stream",
     "text": [
      "Practice makes perfect\n",
      "PRACTICE MAKES PERFECT\n"
     ]
    }
   ],
   "source": [
    "line = input().split()\n",
    "line = [i.upper() for i in line]\n",
    "line = \" \".join(line)\n",
    "print(line)"
   ]
  },
  {
   "cell_type": "markdown",
   "metadata": {},
   "source": [
    "### Machine Test Questions"
   ]
  },
  {
   "cell_type": "code",
   "execution_count": 26,
   "metadata": {},
   "outputs": [
    {
     "name": "stdout",
     "output_type": "stream",
     "text": [
      "sun and mon and tue and wed and thu and fri and sat\n"
     ]
    }
   ],
   "source": [
    "#1.Join items of given list using \"and\" and print the string\n",
    "weekdays= ['sun','mon','tue','wed','thu','fri','sat']\n",
    "\n",
    "def convertToString(weekdays):\n",
    "    #Output: 'sun and mon and tue and..'\n",
    "    weekdays = \" and \".join(weekdays)\n",
    "    print(weekdays)\n",
    "\n",
    "convertToString(weekdays)\n"
   ]
  },
  {
   "cell_type": "code",
   "execution_count": 6,
   "metadata": {},
   "outputs": [
    {
     "data": {
      "text/plain": [
       "'mon'"
      ]
     },
     "execution_count": 6,
     "metadata": {},
     "output_type": "execute_result"
    }
   ],
   "source": [
    "#2.Count the occurences of a particular element in the list and\n",
    "# output highest occuring element\n",
    "\n",
    "days= ['sun','mon','tue','wed','mon','thu','fri','sat','mon']\n",
    "\n",
    "\n",
    "def findMax(days):\n",
    "    #Output: Mon since it occured three times\n",
    "    return max(set(days), key=days.count)\n",
    "findMax(days)"
   ]
  },
  {
   "cell_type": "code",
   "execution_count": 31,
   "metadata": {},
   "outputs": [
    {
     "name": "stdout",
     "output_type": "stream",
     "text": [
      "Counter({'b': 6, 'a': 4, 'z': 3, 'y': 2, 'x': 1})\n"
     ]
    }
   ],
   "source": [
    "#3. Merging dictionaries - The resultant dict must contain all the items of both dict\n",
    "# both dicts. If key is common then the value of key in resultant dict\n",
    "# must be the sum of value in a and b\n",
    "\n",
    "a = {'x':1,'y':2,'z':3}\n",
    "b = {'a':4,'b':5,'b':6}\n",
    "#solution note\n",
    "#as per given value error will come as key must be unique and here b is comming twice in b dictionary\n",
    "from collections import Counter\n",
    "def dictMerge(a,b):\n",
    "    d = Counter(a) + Counter(b)\n",
    "    return d\n",
    "\n",
    "print(dictMerge(a,b))"
   ]
  },
  {
   "cell_type": "code",
   "execution_count": 38,
   "metadata": {},
   "outputs": [
    {
     "name": "stdout",
     "output_type": "stream",
     "text": [
      "[8, 7, 5, 4]\n",
      "8 orange\n"
     ]
    }
   ],
   "source": [
    "#4. Item with highest value count\n",
    "items = [{'apple':5},{'banana':8},{'orange':7},{'grapes':4}]\n",
    "\n",
    "\n",
    "def itemWithHighestValue(items):\n",
    "    lv=list()\n",
    "    lk=list()\n",
    "    for i in items:            # iterate in list\n",
    "        for j in i.items():    # iterate on dictionary\n",
    "            lv.append(j[1])\n",
    "            lk.append(j[0])\n",
    "    \n",
    "#     lv.sort()\n",
    "#     lv.reverse() \n",
    "    lv.sort(reverse=True)          # above 2 lines merge\n",
    "    print(lv)\n",
    "    lk.sort()\n",
    "    lk.reverse()\n",
    "    print(lv[0],lk[0])\n",
    "\n",
    "itemWithHighestValue(items)"
   ]
  },
  {
   "cell_type": "markdown",
   "metadata": {},
   "source": [
    "### Binary divisible by 5"
   ]
  },
  {
   "cell_type": "code",
   "execution_count": null,
   "metadata": {},
   "outputs": [],
   "source": [
    "'''\n",
    "Problem statement 3: \n",
    "\n",
    "Write a program which accepts a sequence of comma \n",
    "separated 4 digit binary numbers as its input and then check \n",
    "whether they are divisible by 5 or not. The numbers that are divisible\n",
    "by 5 are to be printed in a comma separated sequence.\n",
    "\n",
    "Example:\n",
    "if input is \n",
    "\n",
    "0100,0011,1010,1001\n",
    "\n",
    "Then the output should be:\n",
    "\n",
    "1010\n",
    "\n",
    "'''"
   ]
  },
  {
   "cell_type": "code",
   "execution_count": 15,
   "metadata": {},
   "outputs": [
    {
     "name": "stdout",
     "output_type": "stream",
     "text": [
      "0100,0011,1010,1001,1111\n",
      "1010,1111\n"
     ]
    }
   ],
   "source": [
    "def check(x):                       # converts binary to integer & returns zero if divisible by 5\n",
    "    total,pw = 0,1\n",
    "    reversed(x)\n",
    "\n",
    "    for i in x:\n",
    "        total+=pw * (ord(i) - 48)   # ord() function returns ASCII value\n",
    "        pw*=2\n",
    "    return total % 5\n",
    "\n",
    "data = input().split(\",\")           # inputs taken here and splited in ',' position\n",
    "lst = []\n",
    "\n",
    "for i in data:\n",
    "    if check(i) == 0:               # if zero found it means divisible by zero and added to the list\n",
    "        lst.append(i)\n",
    "\n",
    "print(\",\".join(lst))"
   ]
  },
  {
   "cell_type": "code",
   "execution_count": 23,
   "metadata": {},
   "outputs": [
    {
     "name": "stdout",
     "output_type": "stream",
     "text": [
      "0100,0011,1010,1001,1111\n",
      "1010,1111\n"
     ]
    }
   ],
   "source": [
    "# OR\n",
    "data = input().split(',')\n",
    "data = list(filter(lambda i:int(i,2)%5==0,data))    # lambda is an operator that helps to write function of one line\n",
    "print(\",\".join(data))"
   ]
  },
  {
   "cell_type": "code",
   "execution_count": 16,
   "metadata": {},
   "outputs": [
    {
     "name": "stdout",
     "output_type": "stream",
     "text": [
      "0100,0011,1010,1001,1111\n",
      "['1010', '1111']\n",
      "1010,1111\n"
     ]
    }
   ],
   "source": [
    "# OR\n",
    "def check(x):                   # check function returns true if divisible by 5\n",
    "    return int(x,2)%5 == 0      # int(x,b) takes x as string and b as base from which\n",
    "                                # it will be converted to decimal\n",
    "data = input().split(',')\n",
    "\n",
    "data = list(filter(check,data)) # in filter(func,object) function, elements are picked from 'data' if found True by 'check' function\n",
    "print(data)\n",
    "print(\",\".join(data))"
   ]
  },
  {
   "cell_type": "code",
   "execution_count": 17,
   "metadata": {},
   "outputs": [
    {
     "name": "stdout",
     "output_type": "stream",
     "text": [
      "0100,0011,1010,1001,1111\n",
      "1010,1111\n"
     ]
    }
   ],
   "source": [
    "# OR\n",
    "data = input().split(',')\n",
    "data = [num for num in data if int(num, 2) % 5 == 0]\n",
    "print(','.join(data))"
   ]
  },
  {
   "cell_type": "code",
   "execution_count": 22,
   "metadata": {},
   "outputs": [
    {
     "name": "stdout",
     "output_type": "stream",
     "text": [
      "0100,0011,1010,1001,1111\n",
      "1010 1111\n"
     ]
    }
   ],
   "source": [
    "# OR\n",
    "print(*(i for i in input().split(\",\") if int(i,2)%5 == 0))"
   ]
  },
  {
   "cell_type": "markdown",
   "metadata": {},
   "source": [
    "### Filter Method"
   ]
  },
  {
   "cell_type": "code",
   "execution_count": 27,
   "metadata": {},
   "outputs": [
    {
     "name": "stdout",
     "output_type": "stream",
     "text": [
      "1,2,3,4,5,6,7,8,9\n",
      "2,4,6,8\n"
     ]
    }
   ],
   "source": [
    "# write a program to get even number from given comma\n",
    "# seprated inputs using filter \n",
    "def check(n):\n",
    "    return int(n)%2 == 0\n",
    "\n",
    "n = input().split(\",\")\n",
    "n = list(filter(check,n))\n",
    "print(\",\".join(n))"
   ]
  },
  {
   "cell_type": "code",
   "execution_count": 25,
   "metadata": {},
   "outputs": [
    {
     "name": "stdout",
     "output_type": "stream",
     "text": [
      "1,2,3,4,5,6\n",
      "2,4,6\n"
     ]
    }
   ],
   "source": [
    "# OR\n",
    "n = input().split(\",\")\n",
    "n = list(filter(lambda i:int(i)%2==0,n))\n",
    "print(\",\".join(n))"
   ]
  },
  {
   "cell_type": "code",
   "execution_count": 30,
   "metadata": {},
   "outputs": [
    {
     "name": "stdout",
     "output_type": "stream",
     "text": [
      "1,2,3,4,5,6,7,8,9\n",
      "2,4,6,8\n"
     ]
    }
   ],
   "source": [
    "# OR\n",
    "n = [i for i in input().split(\",\") if int(i)%2==0]\n",
    "print(\",\".join(n))"
   ]
  },
  {
   "cell_type": "markdown",
   "metadata": {},
   "source": [
    "### Count Letter and digit"
   ]
  },
  {
   "cell_type": "code",
   "execution_count": null,
   "metadata": {},
   "outputs": [],
   "source": [
    "'''\n",
    "Write a program that accepts a sentence and calculate \n",
    "the number of letters and digits.\n",
    "if input is this \n",
    "\n",
    "hello world! 123\n",
    "\n",
    "then output like \n",
    "LETTERS 10\n",
    "DIGITS 3 \n",
    "'''"
   ]
  },
  {
   "cell_type": "code",
   "execution_count": 36,
   "metadata": {},
   "outputs": [
    {
     "name": "stdout",
     "output_type": "stream",
     "text": [
      "hello world! 123\n",
      "letters:  10\n",
      "digits:  3\n"
     ]
    }
   ],
   "source": [
    "s = input()\n",
    "l=d=0\n",
    "for i in s:\n",
    "    if i.isalpha():\n",
    "        l += 1\n",
    "    elif i.isdigit():\n",
    "            d += 1\n",
    "    else:\n",
    "        pass\n",
    "\n",
    "print(\"letters: \",l)\n",
    "print(\"digits: \",d)"
   ]
  },
  {
   "cell_type": "code",
   "execution_count": 37,
   "metadata": {},
   "outputs": [
    {
     "name": "stdout",
     "output_type": "stream",
     "text": [
      "hello world! 123\n",
      "letters:  10\n",
      "digits:  3\n"
     ]
    }
   ],
   "source": [
    "# OR\n",
    "s = input()\n",
    "l=d=0\n",
    "for i in s:\n",
    "    if (i >= 'a' and i <= 'z') or ( i >= 'A' and i <= 'Z'):\n",
    "        l += 1\n",
    "    if (i >= '0' and i <= '9') :\n",
    "        d += 1\n",
    "        \n",
    "print(\"letters: \",l)\n",
    "print(\"digits: \",d)"
   ]
  },
  {
   "cell_type": "markdown",
   "metadata": {},
   "source": [
    "###  Square all numbers"
   ]
  },
  {
   "cell_type": "code",
   "execution_count": null,
   "metadata": {},
   "outputs": [],
   "source": [
    "'''\n",
    "Use a list comprehension to square each odd number in a list. \n",
    "The list is input by a sequence of comma-separated numbers. >Suppose the \n",
    "following input is supplied to the program:\n",
    "    \n",
    "if given value is input \n",
    "1,2,3,4,5,6,7,8,9\n",
    "then output will be\n",
    "1,9,25,49,81 '''"
   ]
  },
  {
   "cell_type": "code",
   "execution_count": 41,
   "metadata": {},
   "outputs": [
    {
     "name": "stdout",
     "output_type": "stream",
     "text": [
      "1,2,3,4,5,6,7,8,9\n",
      "1,9,25,49,81\n"
     ]
    }
   ],
   "source": [
    "n = [str(int(i)**2) for i in input().split(\",\") if int(i)%2 != 0]\n",
    "print(\",\".join(n))"
   ]
  },
  {
   "cell_type": "markdown",
   "metadata": {},
   "source": [
    "# Dictionary Merging Types"
   ]
  },
  {
   "cell_type": "code",
   "execution_count": 42,
   "metadata": {},
   "outputs": [],
   "source": [
    "d1 = {'India': 'Delhi',\n",
    "      'Canada': 'Ottawa',\n",
    "      'United States': 'Washington D. C.'}\n",
    "d2 = {'France': 'Paris',\n",
    "      'Malaysia': 'Kuala Lumpur'}"
   ]
  },
  {
   "cell_type": "code",
   "execution_count": null,
   "metadata": {},
   "outputs": [],
   "source": [
    "'''\n",
    "1 - The Crude Way\n",
    "You can merge two dictionaries by iterating over the key-value \n",
    "pairs of the second dictionary\n",
    "with the first one.\n",
    "\n",
    "'''"
   ]
  },
  {
   "cell_type": "code",
   "execution_count": 43,
   "metadata": {},
   "outputs": [],
   "source": [
    "d3 = d1.copy()"
   ]
  },
  {
   "cell_type": "code",
   "execution_count": 45,
   "metadata": {},
   "outputs": [
    {
     "name": "stdout",
     "output_type": "stream",
     "text": [
      "{'India': 'Delhi', 'Canada': 'Ottawa', 'United States': 'Washington D. C.', 'France': 'Paris', 'Malaysia': 'Kuala Lumpur'}\n"
     ]
    }
   ],
   "source": [
    "for key,value in d2.items():\n",
    "    d3[key] = value\n",
    "print(d3)"
   ]
  },
  {
   "cell_type": "code",
   "execution_count": 46,
   "metadata": {},
   "outputs": [
    {
     "name": "stdout",
     "output_type": "stream",
     "text": [
      "{'India': 'Delhi', 'Canada': 'Ottawa', 'United States': 'Washington D. C.', 'France': 'Paris', 'Malaysia': 'Kuala Lumpur'}\n"
     ]
    }
   ],
   "source": [
    "# Method 1: Using the update method\n",
    "d4 = d1.copy()\n",
    "d4.update(d2)\n",
    "print(d4)"
   ]
  },
  {
   "cell_type": "code",
   "execution_count": 48,
   "metadata": {},
   "outputs": [
    {
     "name": "stdout",
     "output_type": "stream",
     "text": [
      "{'India': 'Delhi', 'Canada': 'Ottawa', 'United States': 'Washington D. C.', 'France': 'Paris', 'Malaysia': 'Kuala Lumpur'}\n"
     ]
    }
   ],
   "source": [
    "# Method 2: Using unpacking operator (key and value pair we use unpacking **)\n",
    "d5 = { **d1,**d2 }\n",
    "print(d5)"
   ]
  },
  {
   "cell_type": "code",
   "execution_count": 53,
   "metadata": {},
   "outputs": [
    {
     "name": "stdout",
     "output_type": "stream",
     "text": [
      "ChainMap({'India': 'Delhi', 'Canada': 'Ottawa', 'United States': 'Washington D. C.'}, {'France': 'Paris', 'Malaysia': 'Kuala Lumpur'})\n"
     ]
    }
   ],
   "source": [
    "# Method 3: Using collections.ChainMap\n",
    "from collections import ChainMap\n",
    "d6 = ChainMap(d1,d2)\n",
    "print(d6)"
   ]
  },
  {
   "cell_type": "code",
   "execution_count": 55,
   "metadata": {},
   "outputs": [
    {
     "name": "stdout",
     "output_type": "stream",
     "text": [
      "{'India': 'Delhi', 'Canada': 'Ottawa', 'United States': 'Washington D. C.', 'France': 'Paris', 'Malaysia': 'Kuala Lumpur'}\n"
     ]
    }
   ],
   "source": [
    "# Method 4: Unpacking the second dictionary\n",
    "d7 = dict(d1,**d2)\n",
    "print(d7)"
   ]
  },
  {
   "cell_type": "code",
   "execution_count": null,
   "metadata": {},
   "outputs": [],
   "source": [
    "# Method 5: Using the merge operator 3.9 version\n",
    "d8 = d1 | d2\n",
    "print(d8)"
   ]
  },
  {
   "cell_type": "code",
   "execution_count": null,
   "metadata": {},
   "outputs": [],
   "source": []
  }
 ],
 "metadata": {
  "kernelspec": {
   "display_name": "Python 3",
   "language": "python",
   "name": "python3"
  },
  "language_info": {
   "codemirror_mode": {
    "name": "ipython",
    "version": 3
   },
   "file_extension": ".py",
   "mimetype": "text/x-python",
   "name": "python",
   "nbconvert_exporter": "python",
   "pygments_lexer": "ipython3",
   "version": "3.7.4"
  }
 },
 "nbformat": 4,
 "nbformat_minor": 2
}
