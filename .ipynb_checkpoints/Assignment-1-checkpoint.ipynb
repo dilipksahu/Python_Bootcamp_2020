{
 "cells": [
  {
   "cell_type": "markdown",
   "metadata": {},
   "source": [
    "### Outer and Inner Function"
   ]
  },
  {
   "cell_type": "code",
   "execution_count": null,
   "metadata": {},
   "outputs": [],
   "source": [
    "'''\n",
    "Create an inner function to calculate the addition in the following way\n",
    "Create an outer function that will accept two parameters a and b\n",
    "Create an inner function inside an outer function that will calculate the addition of a and b\n",
    "At last, an outer function will add 5 into addition and return it\n",
    "'''"
   ]
  },
  {
   "cell_type": "code",
   "execution_count": null,
   "metadata": {},
   "outputs": [],
   "source": [
    "def inner(a,b):\n",
    "    return a + b\n",
    "\n",
    "def outer(a,b):\n",
    "    return inner(a,b) + 5\n",
    "\n",
    "a,b = map(int,input().split(\",\"))\n",
    "print(outer(a,b))"
   ]
  },
  {
   "cell_type": "markdown",
   "metadata": {},
   "source": [
    "### Sort dictionary"
   ]
  },
  {
   "cell_type": "code",
   "execution_count": null,
   "metadata": {},
   "outputs": [],
   "source": [
    "'''write a program to sort dictionary on based of value '''"
   ]
  },
  {
   "cell_type": "code",
   "execution_count": 2,
   "metadata": {},
   "outputs": [
    {
     "name": "stdout",
     "output_type": "stream",
     "text": [
      "[(0, 0), (2, 1), (1, 2), (4, 3), (3, 4)]\n"
     ]
    }
   ],
   "source": [
    "# sort method\n",
    "d = {1: 2, 3: 4, 4: 3, 2: 1, 0: 0}\n",
    "def sort_dict(x):\n",
    "    return x[1]\n",
    "\n",
    "print(sorted(d.items(), key=sort_dict))    #  Syntax : sorted(iterable, key, reverse)"
   ]
  },
  {
   "cell_type": "code",
   "execution_count": 4,
   "metadata": {},
   "outputs": [
    {
     "name": "stdout",
     "output_type": "stream",
     "text": [
      "OrderedDict([(0, 0), (1, 2), (2, 1), (3, 4), (4, 3)])\n",
      "OrderedDict([(0, 0), (2, 1), (1, 2), (4, 3), (3, 4)])\n"
     ]
    }
   ],
   "source": [
    "# OR\n",
    "from collections import OrderedDict\n",
    "\n",
    "d = {1: 2, 3: 4, 4: 3, 2: 1, 0: 0}\n",
    "\n",
    "# dictionary sorted by key\n",
    "print(OrderedDict(sorted(d.items(), key=lambda t: t[0])))\n",
    "\n",
    "\n",
    "# dictionary sorted by value\n",
    "print(OrderedDict(sorted(d.items(), key=lambda t: t[1])))"
   ]
  },
  {
   "cell_type": "code",
   "execution_count": 6,
   "metadata": {},
   "outputs": [
    {
     "name": "stdout",
     "output_type": "stream",
     "text": [
      "{0: 0, 1: 2, 2: 1, 3: 4, 4: 3}\n",
      "{0: 0, 2: 1, 1: 2, 4: 3, 3: 4}\n"
     ]
    }
   ],
   "source": [
    "# OR\n",
    "d = {1: 2, 3: 4, 4: 3, 2: 1, 0: 0}\n",
    "\n",
    "# dictionary sorted by key\n",
    "d = {k: v for k, v in sorted(d.items(), key=lambda item: item[0])}\n",
    "print(d)\n",
    "\n",
    "# dictionary sorted by value\n",
    "d = {k: v for k, v in sorted(d.items(), key=lambda item: item[1])}\n",
    "print(d)"
   ]
  },
  {
   "cell_type": "markdown",
   "metadata": {},
   "source": [
    "### Max Element"
   ]
  },
  {
   "cell_type": "code",
   "execution_count": null,
   "metadata": {},
   "outputs": [],
   "source": [
    "'''write a to find maximum from list without using built in function'''"
   ]
  },
  {
   "cell_type": "code",
   "execution_count": 9,
   "metadata": {},
   "outputs": [
    {
     "name": "stdout",
     "output_type": "stream",
     "text": [
      "4,8,2,4,6,3,9\n",
      "9\n"
     ]
    }
   ],
   "source": [
    "l = input().split(\",\")\n",
    "mx = l[0]\n",
    "for i in l:\n",
    "    if i > mx:\n",
    "        mx = i\n",
    "print(mx)"
   ]
  },
  {
   "cell_type": "markdown",
   "metadata": {},
   "source": [
    "### Sort List"
   ]
  },
  {
   "cell_type": "code",
   "execution_count": null,
   "metadata": {},
   "outputs": [],
   "source": [
    "'''write a program to sort list elements without using sort function'''"
   ]
  },
  {
   "cell_type": "code",
   "execution_count": 31,
   "metadata": {},
   "outputs": [
    {
     "name": "stdout",
     "output_type": "stream",
     "text": [
      "4,8,2,4,6,3,9\n",
      "[2, 3, 4, 4, 6, 8, 9]\n"
     ]
    }
   ],
   "source": [
    "l = list(map(int,input().split(\",\")))\n",
    "s = len(l)\n",
    "for i in range(s):\n",
    "    for j in range(i+1,s):\n",
    "        if l[i] > l[j]:\n",
    "            temp = l[i]\n",
    "            l[i] = l[j]\n",
    "            l[j] = temp\n",
    "        \n",
    "print(l)"
   ]
  },
  {
   "cell_type": "markdown",
   "metadata": {},
   "source": [
    "### Reverse the element"
   ]
  },
  {
   "cell_type": "code",
   "execution_count": null,
   "metadata": {},
   "outputs": [],
   "source": [
    "'''write a program to reverse all elements of list without using reversed funtion'''"
   ]
  },
  {
   "cell_type": "code",
   "execution_count": 33,
   "metadata": {},
   "outputs": [
    {
     "name": "stdout",
     "output_type": "stream",
     "text": [
      "4,8,2,4,6,3,9\n",
      "9,3,6,4,2,8,4\n"
     ]
    }
   ],
   "source": [
    "l = input().split(\",\")\n",
    "l = l[::-1]\n",
    "print(\",\".join(l))"
   ]
  },
  {
   "cell_type": "markdown",
   "metadata": {},
   "source": [
    "### Reverse sublist "
   ]
  },
  {
   "cell_type": "code",
   "execution_count": null,
   "metadata": {},
   "outputs": [],
   "source": [
    "'''\n",
    "Given a list slice it into a 3 equal chunks and rever each list\n",
    "For Example: sampleList = [11, 45, 8, 23, 14, 12, 78, 45, 89] Original list  [11, 45, 8, 23, 14, 12, 78, 45, 89]\n",
    "Chunk  1 [11, 45, 8]\n",
    "After reversing it  [8, 45, 11]\n",
    "Chunk  2 [23, 14, 12]\n",
    "After reversing it  [12, 14, 23]\n",
    "Chunk  3 [78, 45, 89]\n",
    "After reversing it  [89, 45, 78]\n",
    "'''"
   ]
  },
  {
   "cell_type": "code",
   "execution_count": 40,
   "metadata": {},
   "outputs": [
    {
     "name": "stdout",
     "output_type": "stream",
     "text": [
      "Before:  [11, 45, 8]\n",
      "After:  [8, 45, 11]\n",
      "Before:  [23, 14, 12]\n",
      "After:  [12, 14, 23]\n",
      "Before:  [78, 45, 89]\n",
      "After:  [89, 45, 78]\n"
     ]
    }
   ],
   "source": [
    "Original_list = [11, 45, 8, 23, 14, 12, 78, 45, 89]\n",
    "l1 = Original_list[:3]\n",
    "print(\"Before: \",l1)\n",
    "print(\"After: \",l1[::-1])\n",
    "\n",
    "l2 = Original_list[3:6]\n",
    "print(\"Before: \",l2)\n",
    "print(\"After: \",l2[::-1])\n",
    "\n",
    "l3 = Original_list[6:]\n",
    "print(\"Before: \",l3)\n",
    "print(\"After: \",l3[::-1])"
   ]
  },
  {
   "cell_type": "markdown",
   "metadata": {},
   "source": [
    "# Dict Key intersaction "
   ]
  },
  {
   "cell_type": "code",
   "execution_count": null,
   "metadata": {},
   "outputs": [],
   "source": [
    "'''\n",
    "write a program to perform intersection of both dictionary items if value matches and store in another dictionary\n",
    "'''"
   ]
  },
  {
   "cell_type": "code",
   "execution_count": 9,
   "metadata": {},
   "outputs": [
    {
     "ename": "KeyError",
     "evalue": "'c'",
     "output_type": "error",
     "traceback": [
      "\u001b[1;31m---------------------------------------------------------------------------\u001b[0m",
      "\u001b[1;31mKeyError\u001b[0m                                  Traceback (most recent call last)",
      "\u001b[1;32m<ipython-input-9-7cc5f14e5502>\u001b[0m in \u001b[0;36m<module>\u001b[1;34m\u001b[0m\n\u001b[0;32m      8\u001b[0m                 \u001b[0md3\u001b[0m\u001b[1;33m[\u001b[0m\u001b[0mk1\u001b[0m\u001b[1;33m]\u001b[0m \u001b[1;33m=\u001b[0m \u001b[0mv1\u001b[0m\u001b[1;33m\u001b[0m\u001b[1;33m\u001b[0m\u001b[0m\n\u001b[0;32m      9\u001b[0m             \u001b[1;32melse\u001b[0m\u001b[1;33m:\u001b[0m\u001b[1;33m\u001b[0m\u001b[1;33m\u001b[0m\u001b[0m\n\u001b[1;32m---> 10\u001b[1;33m                 \u001b[0md3\u001b[0m\u001b[1;33m.\u001b[0m\u001b[0mupdate\u001b[0m\u001b[1;33m(\u001b[0m\u001b[0md3\u001b[0m\u001b[1;33m[\u001b[0m\u001b[0mk1\u001b[0m\u001b[1;33m]\u001b[0m\u001b[1;33m)\u001b[0m\u001b[1;33m\u001b[0m\u001b[1;33m\u001b[0m\u001b[0m\n\u001b[0m\u001b[0;32m     11\u001b[0m \u001b[1;33m\u001b[0m\u001b[0m\n\u001b[0;32m     12\u001b[0m \u001b[1;33m\u001b[0m\u001b[0m\n",
      "\u001b[1;31mKeyError\u001b[0m: 'c'"
     ]
    }
   ],
   "source": [
    "d1 = {'a':2,'c':5,'d':3}\n",
    "d2 = {'b':2,'e':5,'c':6,'d':6}\n",
    "d3 = {}\n",
    "for k1,v1 in d2.items():\n",
    "    for k2,v2 in d1.items():\n",
    "        if k1 == k2:\n",
    "            if k1 not in d2:\n",
    "                d3[k1] = v1\n",
    "            else:\n",
    "                d3.update(d3[k1])\n",
    "            \n",
    "        \n",
    "print(d3)"
   ]
  },
  {
   "cell_type": "code",
   "execution_count": 5,
   "metadata": {},
   "outputs": [],
   "source": [
    "d1 = {'a':2,'c':5,'d':3}\n",
    "d2 = {'b':2,'e':5,'c':6,'d':6}\n",
    "d3 = {**d1, **d2}"
   ]
  },
  {
   "cell_type": "code",
   "execution_count": 6,
   "metadata": {},
   "outputs": [
    {
     "data": {
      "text/plain": [
       "{'a': 2, 'c': 6, 'd': 6, 'b': 2, 'e': 5}"
      ]
     },
     "execution_count": 6,
     "metadata": {},
     "output_type": "execute_result"
    }
   ],
   "source": [
    "d3"
   ]
  },
  {
   "cell_type": "code",
   "execution_count": null,
   "metadata": {},
   "outputs": [],
   "source": []
  }
 ],
 "metadata": {
  "kernelspec": {
   "display_name": "Python 3",
   "language": "python",
   "name": "python3"
  },
  "language_info": {
   "codemirror_mode": {
    "name": "ipython",
    "version": 3
   },
   "file_extension": ".py",
   "mimetype": "text/x-python",
   "name": "python",
   "nbconvert_exporter": "python",
   "pygments_lexer": "ipython3",
   "version": "3.7.4"
  }
 },
 "nbformat": 4,
 "nbformat_minor": 2
}
