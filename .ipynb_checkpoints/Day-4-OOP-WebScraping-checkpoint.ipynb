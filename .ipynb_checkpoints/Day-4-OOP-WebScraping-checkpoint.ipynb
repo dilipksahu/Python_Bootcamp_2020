{
 "cells": [
  {
   "cell_type": "markdown",
   "metadata": {},
   "source": [
    "# OOP'S"
   ]
  },
  {
   "cell_type": "code",
   "execution_count": 6,
   "metadata": {},
   "outputs": [
    {
     "name": "stdout",
     "output_type": "stream",
     "text": [
      "Constructor called \n",
      "Enter eid => 101\n",
      "Enter name => Rajesh\n",
      "101 \t Rajesh\n",
      "destructor called to destroy object from memory\n",
      "Constructor called \n",
      "Enter eid => 1002\n",
      "Enter name => vijat\n",
      "1002 \t vijat\n",
      "destructor called to destroy object from memory\n"
     ]
    }
   ],
   "source": [
    "class Employee:\n",
    "    \n",
    "    def __init__(self): # default construcctor \n",
    "        \n",
    "        self.eid=int() #0 \n",
    "        self.name=str() #''\n",
    "        \n",
    "        print(\"Constructor called \") \n",
    "    \n",
    "    def __del__(self): # destructor \n",
    "        print(\"destructor called to destroy object from memory\")\n",
    "    \n",
    "    def getData(self): #self indicates current class object \n",
    "        self.eid=int(input(\"Enter eid => \"))\n",
    "        self.name=input(\"Enter name => \")\n",
    "    def printData(self): #self indicates current class object \n",
    "        print(self.eid,\"\\t\",self.name)\n",
    "    \n",
    "def main():\n",
    "    e1=Employee() # calling constructor \n",
    "    e1.getData()\n",
    "    e1.printData()\n",
    "    del e1 # it will call destructor \n",
    "    e2=Employee()\n",
    "    e2.getData()\n",
    "    e2.printData()\n",
    "    \n",
    "main()"
   ]
  },
  {
   "cell_type": "markdown",
   "metadata": {},
   "source": [
    "### Question:\n",
    "    # write a program to accept two player age and name check which player is older than another one \n",
    "    # use OOP concept and operator overloading \n",
    "### Solutions:"
   ]
  },
  {
   "cell_type": "code",
   "execution_count": null,
   "metadata": {},
   "outputs": [],
   "source": [
    "class Player:\n",
    "    def __init__(self, name, age):\n",
    "        self.name = name\n",
    "        self.age = age\n",
    "        \n",
    "    def __gt__(self, other):\n",
    "        if self.age > other.age:\n",
    "            print(f'{self.name} is older')\n",
    "        else:\n",
    "            print(f'{other.name} is older')\n",
    "\n",
    "p1=Player('Player 1', 23)\n",
    "p2=Player('Player 2', 33)\n",
    "\n",
    "p1>p2"
   ]
  },
  {
   "cell_type": "markdown",
   "metadata": {},
   "source": [
    "### Home work"
   ]
  },
  {
   "cell_type": "markdown",
   "metadata": {},
   "source": [
    "    > static data member \n",
    "    > @staticmethod \n",
    "    > @classmethod \n",
    "\n",
    "    Q. what is diff between overloading and overriding \n",
    "    Q. how to do abstraction in python \n",
    "\n",
    "    > User define Exception"
   ]
  },
  {
   "cell_type": "markdown",
   "metadata": {},
   "source": [
    "### static data member (class or static variable)"
   ]
  },
  {
   "cell_type": "markdown",
   "metadata": {},
   "source": [
    "    When we declare a variable inside a class but outside any method, \n",
    "    it is called as class or static variable in python. \n",
    "    Class or static variable can be referred through a class \n",
    "    but not directly through an instance.\n",
    "#### Example:"
   ]
  },
  {
   "cell_type": "code",
   "execution_count": null,
   "metadata": {},
   "outputs": [],
   "source": [
    "# Class for Computer Science Student \n",
    "class CSStudent: \n",
    "    stream = 'cse'                  # Class Variable \n",
    "    def __init__(self,name,roll): \n",
    "        self.name = name            # Instance Variable \n",
    "        self.roll = roll            # Instance Variable \n",
    "  \n",
    "# Objects of CSStudent class \n",
    "a = CSStudent('Geek', 1) \n",
    "b = CSStudent('Nerd', 2) \n",
    "  \n",
    "print(a.stream)  # prints \"cse\" \n",
    "print(b.stream)  # prints \"cse\" \n",
    "print(a.name)    # prints \"Geek\" \n",
    "print(b.name)    # prints \"Nerd\" \n",
    "print(a.roll)    # prints \"1\" \n",
    "print(b.roll)    # prints \"2\" \n",
    "  \n",
    "# Class variables can be accessed using class \n",
    "# name also \n",
    "print(CSStudent.stream) # prints \"cse\"\n",
    "# Assign another value to class variable\n",
    "CSStudent.stream = 'IT'\n",
    "print(CSStudent.stream) # prints \"IT\""
   ]
  },
  {
   "cell_type": "markdown",
   "metadata": {},
   "source": [
    "### Class Method vs Static Method\n",
    " <ul>\n",
    "        <li> A class method takes cls as first parameter while a static method needs no specific parameters.</li>\n",
    "        <li> A class method can access or modify class state while a static method can’t access or modify it.</li>\n",
    "        <li> In general, static methods know nothing about class state. They are utility type methods \n",
    "             that take some parameters and work upon those parameters. On the other hand class methods \n",
    "             must have class as parameter</li>\n",
    "        <li> We use @classmethod decorator in python to create a class method and we use @staticmethod decorator\n",
    "             to create a static method in python.</li>\n",
    "  </ul>"
   ]
  },
  {
   "cell_type": "markdown",
   "metadata": {},
   "source": [
    "### When to use what?\n",
    "<ul>\n",
    "     <li>We generally use class method to create factory methods. Factory methods return class object ( similar to a constructor ) for different use cases.</li>\n",
    "    <li>We generally use static methods to create utility functions.</li>\n",
    "</ul>\n",
    "\n",
    "#### Example:"
   ]
  },
  {
   "cell_type": "code",
   "execution_count": 9,
   "metadata": {},
   "outputs": [
    {
     "name": "stdout",
     "output_type": "stream",
     "text": [
      "21\n",
      "24\n",
      "True\n"
     ]
    }
   ],
   "source": [
    "# Python program to demonstrate  \n",
    "# use of class method and static method. \n",
    "from datetime import date \n",
    "  \n",
    "class Person: \n",
    "    def __init__(self, name, age): \n",
    "        self.name = name \n",
    "        self.age = age \n",
    "      \n",
    "    # a class method to create a Person object by birth year. \n",
    "    @classmethod\n",
    "    def fromBirthYear(cls, name, year): \n",
    "        return cls(name, date.today().year - year) \n",
    "      \n",
    "    # a static method to check if a Person is adult or not. \n",
    "    @staticmethod\n",
    "    def isAdult(age): \n",
    "        return age > 18\n",
    "  \n",
    "person1 = Person('mayank', 21) \n",
    "person2 = Person.fromBirthYear('mayank', 1996) \n",
    "  \n",
    "print(person1.age)\n",
    "print (person2.age) \n",
    "  \n",
    "# print the result \n",
    "print (Person.isAdult(22))"
   ]
  },
  {
   "cell_type": "markdown",
   "metadata": {},
   "source": [
    "\n",
    "<h3>Difference between Method Overloading and Method Overriding in Python:</h3>\n",
    "\n",
    "1.\tIn the method overloading, methods or functions must have the same name and different signatures.\tWhereas in the method overriding, methods or functions must have the same name and same signatures.\n",
    "2.\tMethod overloading is a example of compile time polymorphism.\tWhereas method overriding is a example of run time polymorphism.\n",
    "3.\tIn the method overloading, inheritance may or may not be required.\tWhereas in method overriding, inheritance always required.\n",
    "4.\tMethod overloading is performed between methods within the class.\tWhereas method overloading is done between parent class and child class methods.\n",
    "5.\tIt is used in order to add more to the behavior of methods.\tWhereas it is used in order to change the behavior of exist methods.\n",
    "6.\tIn method overloading, there is no need of more than one class.\tWhereas in method overriding, there is need of at least of two classes.\n",
    "\n",
    "<h4>Method Overloading Example:<h4>"
   ]
  },
  {
   "cell_type": "code",
   "execution_count": 12,
   "metadata": {},
   "outputs": [
    {
     "name": "stdout",
     "output_type": "stream",
     "text": [
      "120\n"
     ]
    }
   ],
   "source": [
    "def product(a,b):\n",
    "    p = a * b\n",
    "    print(p)\n",
    "\n",
    "def product(a,b,c):\n",
    "    p = a * b * c\n",
    "    print(p)\n",
    "\n",
    "# product(4,5)    # show an error\n",
    "product(4,5,6)"
   ]
  },
  {
   "cell_type": "markdown",
   "metadata": {},
   "source": [
    "<h5>Method Overriding Example: </h5>"
   ]
  },
  {
   "cell_type": "code",
   "execution_count": 13,
   "metadata": {},
   "outputs": [
    {
     "name": "stdout",
     "output_type": "stream",
     "text": [
      "Modified feature_1 of class A by class B\n"
     ]
    }
   ],
   "source": [
    "class A: \n",
    "  \n",
    "    def fun1(self): \n",
    "        print('feature_1 of class A') \n",
    "          \n",
    "    def fun2(self): \n",
    "        print('feature_2 of class A') \n",
    "      \n",
    "\n",
    "class B(A): \n",
    "      \n",
    "    # Modified function that is  \n",
    "    # already exist in class A \n",
    "    def fun1(self): \n",
    "        print('Modified feature_1 of class A by class B')     \n",
    "          \n",
    "    def fun3(self): \n",
    "        print('feature_3 of class B') \n",
    "          \n",
    "  \n",
    "# Create instance \n",
    "obj = B() \n",
    "      \n",
    "# Call the override function \n",
    "obj.fun1() "
   ]
  },
  {
   "cell_type": "markdown",
   "metadata": {},
   "source": [
    "### Q. How to do abstraction in python "
   ]
  },
  {
   "cell_type": "code",
   "execution_count": 15,
   "metadata": {},
   "outputs": [
    {
     "name": "stdout",
     "output_type": "stream",
     "text": [
      "Can't instantiate abstract class parent with abstract methods geeks\n",
      "child class\n"
     ]
    }
   ],
   "source": [
    "# Python program showing \n",
    "# abstract properties \n",
    "  \n",
    "import abc \n",
    "from abc import ABC, abstractmethod \n",
    "  \n",
    "class parent(ABC): \n",
    "    @abc.abstractproperty \n",
    "    def geeks(self): \n",
    "        return \"parent class\"\n",
    "class child(parent): \n",
    "       \n",
    "    @property\n",
    "    def geeks(self): \n",
    "        return \"child class\"\n",
    "   \n",
    "   \n",
    "try: \n",
    "    r =parent() \n",
    "    print( r.geeks) \n",
    "except Exception as err: \n",
    "    print (err) \n",
    "   \n",
    "r = child() \n",
    "print (r.geeks) "
   ]
  },
  {
   "cell_type": "markdown",
   "metadata": {},
   "source": [
    "### User define Exception"
   ]
  },
  {
   "cell_type": "code",
   "execution_count": 17,
   "metadata": {},
   "outputs": [
    {
     "name": "stdout",
     "output_type": "stream",
     "text": [
      "Enter a number: 12\n",
      "This value is too large, try again!\n",
      "\n",
      "Enter a number: 11\n",
      "This value is too large, try again!\n",
      "\n",
      "Enter a number: 3\n",
      "This value is too small, try again!\n",
      "\n",
      "Enter a number: 10\n",
      "Congratulations! You guessed it correctly.\n"
     ]
    }
   ],
   "source": [
    "# define Python user-defined exceptions\n",
    "class Error(Exception):\n",
    "    \"\"\"Base class for other exceptions\"\"\"\n",
    "    pass\n",
    "\n",
    "# class inherited from  class Error\n",
    "class ValueTooSmallError(Error):\n",
    "    \"\"\"Raised when the input value is too small\"\"\"\n",
    "    pass\n",
    "\n",
    "# class inherited from  class Error\n",
    "class ValueTooLargeError(Error):\n",
    "    \"\"\"Raised when the input value is too large\"\"\"\n",
    "    pass\n",
    "\n",
    "# you need to guess this number\n",
    "number = 10\n",
    "\n",
    "# user guesses a number until he/she gets it right\n",
    "while True:\n",
    "    try:\n",
    "        i_num = int(input(\"Enter a number: \"))\n",
    "        if i_num < number:\n",
    "            raise ValueTooSmallError\n",
    "        elif i_num > number:\n",
    "            raise ValueTooLargeError\n",
    "        break\n",
    "    except ValueTooSmallError:\n",
    "        print(\"This value is too small, try again!\")\n",
    "        print()\n",
    "    except ValueTooLargeError:\n",
    "        print(\"This value is too large, try again!\")\n",
    "        print()\n",
    "\n",
    "print(\"Congratulations! You guessed it correctly.\")"
   ]
  },
  {
   "cell_type": "markdown",
   "metadata": {},
   "source": [
    "# Webscrapping"
   ]
  },
  {
   "cell_type": "markdown",
   "metadata": {},
   "source": [
    "<p>web scrapping on www there will be millions of web pages and data available \n",
    "I am ecomm businessman and i want to find my customers information ,competitor information \n",
    "and many more information online itself \n",
    "at that time i need to extract data from website pages \n",
    "and that process known as webscrapping </p>"
   ]
  },
  {
   "cell_type": "code",
   "execution_count": null,
   "metadata": {},
   "outputs": [],
   "source": []
  }
 ],
 "metadata": {
  "kernelspec": {
   "display_name": "Python 3",
   "language": "python",
   "name": "python3"
  },
  "language_info": {
   "codemirror_mode": {
    "name": "ipython",
    "version": 3
   },
   "file_extension": ".py",
   "mimetype": "text/x-python",
   "name": "python",
   "nbconvert_exporter": "python",
   "pygments_lexer": "ipython3",
   "version": "3.7.4"
  }
 },
 "nbformat": 4,
 "nbformat_minor": 2
}
