{
 "cells": [
  {
   "cell_type": "markdown",
   "metadata": {},
   "source": [
    "## Question - 16\n",
    "Write a Python program to <b>create and display all combinations of letters</b>, selecting each letter from a different key in a dictionary.<br>\n",
    "Sample data : {'1':['a','b'], '2':['c','d']}<br>\n",
    "Expected Output:<br>\n",
    "ac<br>\n",
    "ad<br>\n",
    "bc<br>\n",
    "bd<br>"
   ]
  },
  {
   "cell_type": "code",
   "execution_count": 27,
   "metadata": {},
   "outputs": [
    {
     "name": "stdout",
     "output_type": "stream",
     "text": [
      "ac\n",
      "ad\n",
      "bc\n",
      "bd\n"
     ]
    }
   ],
   "source": [
    "from itertools import product\n",
    "\n",
    "d =  {'1':['a','b'], '2':['c','d']}\n",
    "for comb in product(*[d[k] for k in sorted(d.keys())]):        # itertools.product for two list is product(A,B)\n",
    "    print(\"\".join(comb))\n"
   ]
  },
  {
   "cell_type": "markdown",
   "metadata": {},
   "source": [
    "## Question - 17\n",
    "Write a Python program to find the <b>highest 3 values</b> in a dictionary."
   ]
  },
  {
   "cell_type": "code",
   "execution_count": 29,
   "metadata": {},
   "outputs": [
    {
     "name": "stdout",
     "output_type": "stream",
     "text": [
      "5874\n",
      "5874\n",
      "560\n"
     ]
    }
   ],
   "source": [
    "from heapq import nlargest\n",
    "# from heapq import nsmallest    # for smallest\n",
    "\n",
    "my_dict = {'a':500, 'b':5874, 'c': 560,'d':400, 'e':5874, 'f': 20} \n",
    "\n",
    "three_largest =  nlargest(3,my_dict, key=my_dict.get)\n",
    "for k in three_largest:\n",
    "    print(my_dict[k])"
   ]
  },
  {
   "cell_type": "markdown",
   "metadata": {},
   "source": [
    "## Question - 18\n",
    "Write a Python program to <b>combine values</b> in python list of dictionaries. Go to the editor<br>\n",
    "Sample data: [{'item': 'item1', 'amount': 400}, {'item': 'item2', 'amount': 300}, {'item': 'item1', 'amount': 750}]<br>\n",
    "Expected Output: Counter({'item1': 1150, 'item2': 300})<br>"
   ]
  },
  {
   "cell_type": "code",
   "execution_count": 17,
   "metadata": {},
   "outputs": [
    {
     "name": "stdout",
     "output_type": "stream",
     "text": [
      "Counter({'item1': 1150, 'item2': 300})\n"
     ]
    }
   ],
   "source": [
    "from collections import Counter\n",
    "\n",
    "L =  [{'item': 'item1', 'amount': 400}, {'item': 'item2', 'amount': 300}, {'item': 'item1', 'amount': 750}]\n",
    "\n",
    "result = Counter()\n",
    "for d in L:\n",
    "    result[d['item']] += d['amount']\n",
    "    \n",
    "print(result)"
   ]
  },
  {
   "cell_type": "markdown",
   "metadata": {},
   "source": [
    "## Question - 19\n",
    "Write a Python program to <b>create a dictionary from a string</b>.<br> \n",
    "Note: Track the count of the letters from the string.<br>\n",
    "Sample string : 'w3resource'<br>\n",
    "Expected output: {'w': 1, '3': 1, 'r': 2, 'e': 2, 's': 1, 'o': 1, 'u': 1, 'c': 1}"
   ]
  },
  {
   "cell_type": "code",
   "execution_count": 1,
   "metadata": {},
   "outputs": [
    {
     "name": "stdout",
     "output_type": "stream",
     "text": [
      "{'w': 1, '3': 1, 'r': 2, 'e': 2, 's': 1, 'o': 1, 'u': 1, 'c': 1}\n"
     ]
    }
   ],
   "source": [
    "ss ='w3resource'\n",
    "\n",
    "dic = {}\n",
    "for ch in ss:\n",
    "    if ch not in dic:\n",
    "        dic[ch] = 1\n",
    "    else:\n",
    "        dic[ch] += 1\n",
    "        \n",
    "print(dic)"
   ]
  },
  {
   "cell_type": "markdown",
   "metadata": {},
   "source": [
    "### OR"
   ]
  },
  {
   "cell_type": "code",
   "execution_count": 13,
   "metadata": {},
   "outputs": [
    {
     "name": "stdout",
     "output_type": "stream",
     "text": [
      "{'w': 1, '3': 1, 'r': 2, 'e': 2, 's': 1, 'o': 1, 'u': 1, 'c': 1}\n"
     ]
    }
   ],
   "source": [
    "ss ='w3resource'\n",
    "\n",
    "dic = {}\n",
    "for ch in ss:\n",
    "    dic[ch] = dic.get(ch,0) + 1\n",
    "        \n",
    "print(dic)"
   ]
  },
  {
   "cell_type": "markdown",
   "metadata": {},
   "source": [
    "### OR"
   ]
  },
  {
   "cell_type": "code",
   "execution_count": 3,
   "metadata": {},
   "outputs": [
    {
     "name": "stdout",
     "output_type": "stream",
     "text": [
      "{'w': 1, '3': 1, 'r': 2, 'e': 2, 's': 1, 'o': 1, 'u': 1, 'c': 1}\n"
     ]
    }
   ],
   "source": [
    "ss ='w3resource'\n",
    "\n",
    "dic = {}\n",
    "for ch in ss:\n",
    "    dic[ch] = dic.get(ch, 0) + 1\n",
    "    \n",
    "print(dic)"
   ]
  },
  {
   "cell_type": "markdown",
   "metadata": {},
   "source": [
    "## Question - 20\n",
    "Write a Python program to <b>print a dictionary in table format</b>."
   ]
  },
  {
   "cell_type": "code",
   "execution_count": 25,
   "metadata": {},
   "outputs": [
    {
     "name": "stdout",
     "output_type": "stream",
     "text": [
      "C1 C2 C3\n",
      "1 5 9\n",
      "2 6 10\n",
      "3 7 11\n"
     ]
    }
   ],
   "source": [
    "my_dict = {'C1':[1,2,3],'C2':[5,6,7],'C3':[9,10,11]}\n",
    "\n",
    "for row in zip(*([key] + (value) for key, value in sorted(my_dict.items()))):\n",
    "    print(*row)"
   ]
  },
  {
   "cell_type": "code",
   "execution_count": null,
   "metadata": {},
   "outputs": [],
   "source": []
  }
 ],
 "metadata": {
  "kernelspec": {
   "display_name": "Python 3",
   "language": "python",
   "name": "python3"
  },
  "language_info": {
   "codemirror_mode": {
    "name": "ipython",
    "version": 3
   },
   "file_extension": ".py",
   "mimetype": "text/x-python",
   "name": "python",
   "nbconvert_exporter": "python",
   "pygments_lexer": "ipython3",
   "version": "3.8.5"
  }
 },
 "nbformat": 4,
 "nbformat_minor": 4
}
