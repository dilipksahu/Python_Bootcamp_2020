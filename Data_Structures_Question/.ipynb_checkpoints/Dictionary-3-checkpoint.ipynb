{
 "cells": [
  {
   "cell_type": "markdown",
   "metadata": {},
   "source": [
    "## Question - 11\n",
    "Write a Python program to get a dictionary from an <b>object's fields</b>."
   ]
  },
  {
   "cell_type": "code",
   "execution_count": 5,
   "metadata": {},
   "outputs": [
    {
     "name": "stdout",
     "output_type": "stream",
     "text": [
      "{'x': 'Green', 'y': 'Red', 'z': 'Yellow'}\n"
     ]
    }
   ],
   "source": [
    "class DictOblect(object):        # object is keyword \n",
    "    def __init__(self):\n",
    "        self.x = 'Green'\n",
    "        self.y = 'Red'\n",
    "        self.z = 'Yellow'\n",
    "    \n",
    "#     def do_nothing(self):\n",
    "#         pass\n",
    "    \n",
    "dict_color = DictOblect()\n",
    "print(dict_color.__dict__)"
   ]
  },
  {
   "cell_type": "markdown",
   "metadata": {},
   "source": [
    "## Question - 12\n",
    "Write a Python program to <b>remove duplicates</b> from Dictionary."
   ]
  },
  {
   "cell_type": "code",
   "execution_count": 22,
   "metadata": {},
   "outputs": [
    {
     "name": "stdout",
     "output_type": "stream",
     "text": [
      "{'id1': {'name': ['Sara'], 'class': ['V'], 'subject_integration': ['english, math, science']}, 'id2': {'name': ['David'], 'class': ['V'], 'subject_integration': ['english, math, science']}, 'id4': {'name': ['Surya'], 'class': ['V'], 'subject_integration': ['english, math, science']}}\n"
     ]
    }
   ],
   "source": [
    "student_data = {'id1': \n",
    "   {'name': ['Sara'], \n",
    "    'class': ['V'], \n",
    "    'subject_integration': ['english, math, science']\n",
    "   },\n",
    " 'id2': \n",
    "  {'name': ['David'], \n",
    "    'class': ['V'], \n",
    "    'subject_integration': ['english, math, science']\n",
    "   },\n",
    " 'id3': \n",
    "    {'name': ['Sara'], \n",
    "    'class': ['V'], \n",
    "    'subject_integration': ['english, math, science']\n",
    "   },\n",
    " 'id4': \n",
    "   {'name': ['Surya'], \n",
    "    'class': ['V'], \n",
    "    'subject_integration': ['english, math, science']\n",
    "   },\n",
    "}\n",
    "\n",
    "# id3 is repeated in id1\n",
    "result = {}\n",
    "for key,value in student_data.items():\n",
    "    if value not in result.values():\n",
    "        result[key] = value\n",
    "print(result)"
   ]
  },
  {
   "cell_type": "markdown",
   "metadata": {},
   "source": [
    "## Question - 13\n",
    "Write a Python program to check a dictionary is <b>empty or not</b>."
   ]
  },
  {
   "cell_type": "code",
   "execution_count": 26,
   "metadata": {},
   "outputs": [],
   "source": [
    "my_dict = {}\n",
    "\n",
    "if not bool(my_dict):\n",
    "    print(\"Dictionary is empty\")"
   ]
  },
  {
   "cell_type": "markdown",
   "metadata": {},
   "source": [
    "## Question - 14\n",
    "Write a Python program to <b>combine two dictionary</b> adding values for common keys.<br>\n",
    "    d1 = {'a': 100, 'b': 200, 'c':300}<br>\n",
    "    d2 = {'a': 300, 'b': 200, 'd':400}<br>\n",
    "    Sample output: Counter({'a': 400, 'b': 400, 'd': 400, 'c': 300})"
   ]
  },
  {
   "cell_type": "code",
   "execution_count": 32,
   "metadata": {},
   "outputs": [
    {
     "name": "stdout",
     "output_type": "stream",
     "text": [
      "{'a': 400, 'b': 400, 'c': 300, 'd': 400}\n"
     ]
    }
   ],
   "source": [
    "d1 = {'a': 100, 'b': 200, 'c':300}\n",
    "d2 = {'a': 300, 'b': 200, 'd':400}\n",
    "\n",
    "for k,v in d2.items():\n",
    "    if k not in d1:\n",
    "        d1[k] = v\n",
    "    else:\n",
    "        d1[k] = d1[k] + d2[k]\n",
    "print(d1)"
   ]
  },
  {
   "cell_type": "markdown",
   "metadata": {},
   "source": [
    "### OR"
   ]
  },
  {
   "cell_type": "code",
   "execution_count": 33,
   "metadata": {},
   "outputs": [
    {
     "name": "stdout",
     "output_type": "stream",
     "text": [
      "Counter({'a': 400, 'b': 400, 'd': 400, 'c': 300})\n"
     ]
    }
   ],
   "source": [
    "from collections import Counter\n",
    "\n",
    "d1 = {'a': 100, 'b': 200, 'c':300}\n",
    "d2 = {'a': 300, 'b': 200, 'd':400}\n",
    "\n",
    "d = Counter(d1) + Counter(d2)\n",
    "print(d)"
   ]
  },
  {
   "cell_type": "code",
   "execution_count": 40,
   "metadata": {},
   "outputs": [],
   "source": [
    "d = {**d1,**d2}"
   ]
  },
  {
   "cell_type": "code",
   "execution_count": 41,
   "metadata": {},
   "outputs": [
    {
     "data": {
      "text/plain": [
       "{'a': 300, 'b': 200, 'c': 300, 'd': 400}"
      ]
     },
     "execution_count": 41,
     "metadata": {},
     "output_type": "execute_result"
    }
   ],
   "source": [
    "d"
   ]
  },
  {
   "cell_type": "markdown",
   "metadata": {},
   "source": [
    "## Question - 15\n",
    "Write a Python program to <b>print all unique values</b> in a dictionary.<br>\n",
    "Sample Data : [{\"V\":\"S001\"}, {\"V\": \"S002\"}, {\"VI\": \"S001\"}, {\"VI\": \"S005\"}, {\"VII\":\"S005\"}, {\"V\":\"S009\"},{\"VIII\":\"S007\"}]<br>\n",
    "Expected Output : Unique Values: {'S005', 'S002', 'S007', 'S001', 'S009'}<br>"
   ]
  },
  {
   "cell_type": "code",
   "execution_count": 54,
   "metadata": {},
   "outputs": [
    {
     "name": "stdout",
     "output_type": "stream",
     "text": [
      "{'S005', 'S002', 'S001', 'S007', 'S009'}\n"
     ]
    }
   ],
   "source": [
    "my_list = [{\"V\":\"S001\"}, {\"V\": \"S002\"}, {\"VI\": \"S001\"}, {\"VI\": \"S005\"}, {\"VII\":\"S005\"}, {\"V\":\"S009\"},{\"VIII\":\"S007\"}]\n",
    "\n",
    "unique_list = set()\n",
    "for dic in my_list:\n",
    "    for key,value in dic.items():\n",
    "        if value not in unique_list:\n",
    "            unique_list.add(value)\n",
    "            \n",
    "print(unique_list)"
   ]
  },
  {
   "cell_type": "markdown",
   "metadata": {},
   "source": [
    "### OR"
   ]
  },
  {
   "cell_type": "code",
   "execution_count": 57,
   "metadata": {},
   "outputs": [
    {
     "name": "stdout",
     "output_type": "stream",
     "text": [
      "{'S005', 'S002', 'S001', 'S007', 'S009'}\n"
     ]
    }
   ],
   "source": [
    "my_list = [{\"V\":\"S001\"}, {\"V\": \"S002\"}, {\"VI\": \"S001\"}, {\"VI\": \"S005\"}, {\"VII\":\"S005\"}, {\"V\":\"S009\"},{\"VIII\":\"S007\"}]\n",
    "\n",
    "# unique_list = { value for dic in my_list for value in dic.values()}\n",
    "unique_list = set (value for dic in my_list for value in dic.values() ) \n",
    "\n",
    "print(unique_list)"
   ]
  },
  {
   "cell_type": "code",
   "execution_count": null,
   "metadata": {},
   "outputs": [],
   "source": []
  }
 ],
 "metadata": {
  "kernelspec": {
   "display_name": "Python 3",
   "language": "python",
   "name": "python3"
  },
  "language_info": {
   "codemirror_mode": {
    "name": "ipython",
    "version": 3
   },
   "file_extension": ".py",
   "mimetype": "text/x-python",
   "name": "python",
   "nbconvert_exporter": "python",
   "pygments_lexer": "ipython3",
   "version": "3.8.5"
  }
 },
 "nbformat": 4,
 "nbformat_minor": 4
}
