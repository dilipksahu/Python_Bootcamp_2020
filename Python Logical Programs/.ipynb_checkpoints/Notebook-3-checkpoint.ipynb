{
 "cells": [
  {
   "cell_type": "markdown",
   "metadata": {},
   "source": [
    "## Question - 11\n",
    "<h3>Decimal To Binary</h3><br>\n",
    "converting a decimal number into a binary number"
   ]
  },
  {
   "cell_type": "code",
   "execution_count": 1,
   "metadata": {},
   "outputs": [
    {
     "name": "stdout",
     "output_type": "stream",
     "text": [
      "enter any number(press 999 to exit): 8\n",
      "binary number of is:  1000\n",
      "enter any number(press 999 to exit): 12\n",
      "binary number of is:  1100\n",
      "enter any number(press 999 to exit): 4\n",
      "binary number of is:  100\n",
      "enter any number(press 999 to exit): 15\n",
      "binary number of is:  1111\n",
      "enter any number(press 999 to exit): 99\n",
      "binary number of is:  1100011\n",
      "enter any number(press 999 to exit): 999\n"
     ]
    }
   ],
   "source": [
    "while True:\n",
    "    decimal_number = int(input(\"enter any number(press 999 to exit): \"))\n",
    "    if decimal_number<0:\n",
    "        continue\n",
    "    elif decimal_number>0 and decimal_number!=999:\n",
    "        i = 0\n",
    "        binary_num = 0\n",
    "        while (decimal_number!=0):\n",
    "            remainder = decimal_number%2\n",
    "            binary_num = binary_num + remainder*(10**i)\n",
    "            decimal_number = int(decimal_number/2)\n",
    "            i += 1\n",
    "        print(\"binary number of is: \", binary_num)\n",
    "    elif decimal_number==999:\n",
    "        break"
   ]
  },
  {
   "cell_type": "markdown",
   "metadata": {},
   "source": [
    "### Question - 12\n",
    "<h3>Consonent</h3><br>\n",
    "print all the consonants present in all the words of the list"
   ]
  },
  {
   "cell_type": "code",
   "execution_count": 4,
   "metadata": {},
   "outputs": [
    {
     "name": "stdout",
     "output_type": "stream",
     "text": [
      "Enter number of items yo want to enter: 3\n",
      "enter item: Happy\n",
      "enter item: New\n",
      "enter item: Year\n",
      "\n",
      "H,p,p,y,\n",
      "N,w,\n",
      "Y,r,"
     ]
    }
   ],
   "source": [
    "x = []\n",
    "y = int(input(\"Enter number of items yo want to enter: \"))\n",
    "for i in range(y):\n",
    "    z = input(\"enter item: \")\n",
    "    x.append(z)\n",
    "    \n",
    "for a in x:\n",
    "    print()\n",
    "    for j in range(len(a)):\n",
    "        if a[j] not in (\"aeiou\"):\n",
    "            print(a[j],end=\",\")"
   ]
  },
  {
   "cell_type": "markdown",
   "metadata": {},
   "source": [
    "\n"
   ]
  },
  {
   "cell_type": "code",
   "execution_count": null,
   "metadata": {},
   "outputs": [],
   "source": []
  }
 ],
 "metadata": {
  "kernelspec": {
   "display_name": "Python 3",
   "language": "python",
   "name": "python3"
  },
  "language_info": {
   "codemirror_mode": {
    "name": "ipython",
    "version": 3
   },
   "file_extension": ".py",
   "mimetype": "text/x-python",
   "name": "python",
   "nbconvert_exporter": "python",
   "pygments_lexer": "ipython3",
   "version": "3.8.5"
  }
 },
 "nbformat": 4,
 "nbformat_minor": 4
}
