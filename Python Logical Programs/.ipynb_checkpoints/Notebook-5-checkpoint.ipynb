{
 "cells": [
  {
   "cell_type": "markdown",
   "metadata": {},
   "source": [
    "### Question - 21\n",
    "<h3>Matrix</h3><br>\n",
    "adding, subtracting and multiplying two matrices"
   ]
  },
  {
   "cell_type": "code",
   "execution_count": 1,
   "metadata": {
    "scrolled": true
   },
   "outputs": [
    {
     "name": "stdout",
     "output_type": "stream",
     "text": [
      "The sum of the matrices is: \n",
      "\n",
      "[5, 9, 13]\n",
      "[9, 13, 17]\n",
      "[4, 8, 12]\n",
      "The difference of the matrices is: \n",
      "\n",
      "[5, 9, 13]\n",
      "[9, 13, 17]\n",
      "[4, 8, 12]\n",
      "the product of the matrices is: \n",
      "\n",
      "[4, 10, 18]\n",
      "[28, 40, 54]\n",
      "[7, 16, 27]\n"
     ]
    }
   ],
   "source": [
    "class Matrix:\n",
    "    def __init__(self, matrix1, matrix2):\n",
    "        self._matrix1 = matrix1\n",
    "        self._matrix2 = matrix2\n",
    "        self._adding = [[0, 0, 0],\n",
    "                        [0, 0, 0],\n",
    "                        [0, 0, 0]]\n",
    "\n",
    "        self._subtract = [[0, 0, 0],\n",
    "                          [0, 0, 0],\n",
    "                          [0, 0, 0]]\n",
    "\n",
    "        self._multiply = [[0, 0, 0],\n",
    "                          [0, 0, 0],\n",
    "                          [0, 0, 0]]\n",
    "\n",
    "    def add(self):\n",
    "        for i in range(len(self._matrix1)):\n",
    "            for j in range(len(self._matrix1)):\n",
    "                self._adding[i][j] = self._matrix1[i][j] + self._matrix2[i][j]\n",
    "        print(\"The sum of the matrices is: \\n\")\n",
    "        for r in self._adding:\n",
    "            print(r)\n",
    "\n",
    "    def sub(self):\n",
    "        for a in range(len(self._matrix1)):\n",
    "            for b in range(len(self._matrix1)):\n",
    "                self._subtract[a][b] = self._matrix1[a][b] + self._matrix2[a][b]\n",
    "        print(\"The difference of the matrices is: \\n\")\n",
    "        for s in self._subtract:\n",
    "            print(s)\n",
    "\n",
    "    def multiply(self):\n",
    "        for c in range(len(self._matrix1)):\n",
    "            for d in range(len(self._matrix1)):\n",
    "                self._multiply[c][d] = self._matrix1[d][c] * self._matrix2[c][d]\n",
    "        print(\"the product of the matrices is: \\n\")\n",
    "        for t in self._multiply:\n",
    "            print(t)\n",
    "\n",
    "\n",
    "result1 = [[1, 4, 7],\n",
    "           [2, 5, 8],\n",
    "           [3, 6, 9]]\n",
    "result2 = [[4, 5, 6],\n",
    "           [7, 8, 9],\n",
    "           [1, 2, 3]]\n",
    "x = Matrix(result1, result2)\n",
    "x.add()\n",
    "x.sub()\n",
    "x.multiply()"
   ]
  },
  {
   "cell_type": "markdown",
   "metadata": {},
   "source": [
    "### Question - 22\n",
    "<h3>Cartesian Product</h3>\n",
    "Input:<br>\n",
    "1 2<br>\n",
    "2 3<br>\n",
    "Output:<br>\n",
    "(1, 2) (2, 2) (1, 3) (2, 3)"
   ]
  },
  {
   "cell_type": "code",
   "execution_count": 5,
   "metadata": {},
   "outputs": [
    {
     "name": "stdout",
     "output_type": "stream",
     "text": [
      "3 2 1\n",
      "2 1\n",
      "(1, 1) (1, 2) (2, 1) (2, 2) (3, 1) (3, 2) "
     ]
    }
   ],
   "source": [
    "def cartesianProduct(a,b):\n",
    "    a = set(sorted(a))                     # First sort and remove duplicate value if any\n",
    "    b = set(sorted(b)) \n",
    "    lst = [ (i,j) for i in a for j in b]   # i iterate on outer loop and j iterate on inner loop\n",
    "    for i in lst: \n",
    "        print(i,sep=\" \",end=\" \")\n",
    "\n",
    "if __name__ == '__main__':\n",
    "    A = map(int,input().split(\" \"))\n",
    "    B = map(int,input().split(\" \"))\n",
    "    cartesianProduct(A,B)\n",
    "    "
   ]
  },
  {
   "cell_type": "markdown",
   "metadata": {},
   "source": [
    "#### OR"
   ]
  },
  {
   "cell_type": "code",
   "execution_count": 4,
   "metadata": {},
   "outputs": [
    {
     "name": "stdout",
     "output_type": "stream",
     "text": [
      "3 2 1\n",
      "2 1\n",
      "(1, 1) (1, 2) (2, 1) (2, 2) (3, 1) (3, 2) "
     ]
    }
   ],
   "source": [
    "from itertools import product\n",
    "\n",
    "A = map(int,input().split(\" \"))\n",
    "B = map(int,input().split(\" \"))\n",
    "\n",
    "A = set(sorted(A))\n",
    "B = set(sorted(B))\n",
    "\n",
    "cartesian_product = list(product(A,B))  # above list comp \n",
    "for i in cartesian_product:\n",
    "    print(i,sep=\" \",end=\" \")"
   ]
  },
  {
   "cell_type": "markdown",
   "metadata": {},
   "source": [
    "### What does itertools.product() do?\n",
    "  itertools.product() is used to find the cartesian product from the given iterator, output is lexicographic ordered. The itertools.product() can used in two different ways:\n",
    "\n",
    "* itertools.product(*iterables, repeat=1):\n",
    "  It returns the cartesian product of the provided itrable with itself for the number of times specified by the optional keyword “repeat”. For example, product(arr, repeat=3) means the same as product(arr, arr, arr).\n",
    "* itertools.product(*iterables):\n",
    " It returns the cartesian product of all the itrable provieded as the argument. For example, product(arr1, arr2, arr3)."
   ]
  },
  {
   "cell_type": "markdown",
   "metadata": {},
   "source": [
    "### Question - 23\n",
    "<h3>Colloctions.counter</h3><br>\n",
    "collections.Counter()<br>\n",
    "A counter is a container that stores elements as dictionary keys, and their counts are stored as dictionary values.<br>\n",
    "<b>Input Format</b><br>\n",
    "<ul>\n",
    "<li>The first line contains , the number of shoes.</li>\n",
    "<li>The second line contains the space separated list of all the shoe sizes in the shop.</li>\n",
    "<li>The third line contains , the number of customers.</li>\n",
    "<li>The next  lines contain the space separated values of the  desired by the customer and , the price of the shoe.</li>\n",
    "</ul>\n",
    "<b>Input:<b>\n",
    "    <ul>\n",
    "    10<br>\n",
    "2 3 4 5 6 8 7 6 5 18<br>\n",
    "6<br>\n",
    "6 55<br>\n",
    "6 45<br>\n",
    "6 55<br>\n",
    "4 40<br>\n",
    "18 60<br>\n",
    "10 50<br>\n",
    "</ul>\n",
    "<b>Output:</b>\n",
    "    200"
   ]
  },
  {
   "cell_type": "code",
   "execution_count": 9,
   "metadata": {},
   "outputs": [
    {
     "name": "stdout",
     "output_type": "stream",
     "text": [
      "10\n",
      "2 3 4 5 6 8 7 6 5 18\n",
      "Counter({5: 2, 6: 2, 2: 1, 3: 1, 4: 1, 8: 1, 7: 1, 18: 1})\n",
      "6\n",
      "6 55\n",
      "6 45\n",
      "6 55\n",
      "4 40\n",
      "18 60\n",
      "10 50\n",
      "Counter({5: 2, 2: 1, 3: 1, 8: 1, 7: 1, 4: 0, 6: 0, 18: 0})\n",
      "200\n"
     ]
    }
   ],
   "source": [
    "from collections import Counter\n",
    "\n",
    "shoes_count = int(input())\n",
    "sizes = list(map(int,input().split(\" \")))\n",
    "\n",
    "sizes_dict = Counter(sizes) \n",
    "print(sizes_dict)# Available size and its qty\n",
    "\n",
    "cust_count = int(input())\n",
    "\n",
    "total = 0\n",
    "for i in range(cust_count):\n",
    "    size,cost = map(int,input().split())      # taking two inputs at a time\n",
    "    if (size in sizes_dict) and (sizes_dict[size] > 0):\n",
    "        total += cost\n",
    "        sizes_dict[size] -= 1\n",
    "#     else:\n",
    "#         continu\n",
    "\n",
    "\n",
    "print(sizes_dict)\n",
    "print(total)\n"
   ]
  },
  {
   "cell_type": "code",
   "execution_count": null,
   "metadata": {},
   "outputs": [],
   "source": []
  }
 ],
 "metadata": {
  "kernelspec": {
   "display_name": "Python 3",
   "language": "python",
   "name": "python3"
  },
  "language_info": {
   "codemirror_mode": {
    "name": "ipython",
    "version": 3
   },
   "file_extension": ".py",
   "mimetype": "text/x-python",
   "name": "python",
   "nbconvert_exporter": "python",
   "pygments_lexer": "ipython3",
   "version": "3.8.5"
  }
 },
 "nbformat": 4,
 "nbformat_minor": 4
}
