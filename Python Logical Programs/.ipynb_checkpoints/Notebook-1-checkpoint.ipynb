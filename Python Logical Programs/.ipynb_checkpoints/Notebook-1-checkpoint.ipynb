{
 "cells": [
  {
   "cell_type": "markdown",
   "metadata": {},
   "source": [
    "## Question - 1\n",
    "<h3>10 Albhabets</h3><br>\n",
    "printing first 10 aplhabets in list form"
   ]
  },
  {
   "cell_type": "code",
   "execution_count": 4,
   "metadata": {},
   "outputs": [
    {
     "name": "stdout",
     "output_type": "stream",
     "text": [
      "a b c d e f g h i j\n"
     ]
    }
   ],
   "source": [
    "x = []\n",
    "for i in range(97,107):        # alphabets can be printed using ascii numbers\n",
    "    x.append(chr(i))\n",
    "    \n",
    "print(\" \".join(x))"
   ]
  },
  {
   "cell_type": "markdown",
   "metadata": {},
   "source": [
    "#### OR"
   ]
  },
  {
   "cell_type": "code",
   "execution_count": 5,
   "metadata": {},
   "outputs": [
    {
     "name": "stdout",
     "output_type": "stream",
     "text": [
      "a b c d e f g h i j\n"
     ]
    }
   ],
   "source": [
    "x = [ chr(i) for i in range(97,107)]\n",
    "print(\" \".join(x))"
   ]
  },
  {
   "cell_type": "markdown",
   "metadata": {},
   "source": [
    "#### OR"
   ]
  },
  {
   "cell_type": "code",
   "execution_count": 8,
   "metadata": {},
   "outputs": [
    {
     "name": "stdout",
     "output_type": "stream",
     "text": [
      "a b c d e f g h i j\n"
     ]
    }
   ],
   "source": [
    "x = ( chr(i) for i in range(97,107))\n",
    "print(\" \".join(x))"
   ]
  },
  {
   "cell_type": "markdown",
   "metadata": {},
   "source": [
    "## Question - 2\n",
    "<h3>Abbrebiations</h3><br>\n",
    "example: The Jungle Book should be display as TJB"
   ]
  },
  {
   "cell_type": "code",
   "execution_count": 9,
   "metadata": {},
   "outputs": [
    {
     "name": "stdout",
     "output_type": "stream",
     "text": [
      "enter the string: The Jungle Book\n",
      "TJB"
     ]
    }
   ],
   "source": [
    "def abs(str_1):\n",
    "    str_2 = str_1.split(\" \") # .split(\" \") seprates the words at blank\n",
    "    for i in str_2:\n",
    "        print(i[0].upper(),end=\"\")\n",
    "\n",
    "\n",
    "string_1 =input(\"enter the string: \")\n",
    "abs(string_1)"
   ]
  },
  {
   "cell_type": "markdown",
   "metadata": {},
   "source": [
    "#### OR"
   ]
  },
  {
   "cell_type": "code",
   "execution_count": 14,
   "metadata": {},
   "outputs": [
    {
     "name": "stdout",
     "output_type": "stream",
     "text": [
      "enter the string: The Jungle Book\n",
      "TJB\n"
     ]
    }
   ],
   "source": [
    "string_1 = input(\"enter the string: \").split()\n",
    "string_2 = [ i[0] for i in string_1]\n",
    "print(\"\".join(string_2))"
   ]
  },
  {
   "cell_type": "markdown",
   "metadata": {},
   "source": [
    "#### OR"
   ]
  },
  {
   "cell_type": "code",
   "execution_count": 16,
   "metadata": {},
   "outputs": [
    {
     "name": "stdout",
     "output_type": "stream",
     "text": [
      "enter the string: The Jungle Book\n",
      "TJB\n"
     ]
    }
   ],
   "source": [
    "string_1 = input(\"enter the string: \").split()\n",
    "string_2 = list(map(lambda x: x[0], string_1))\n",
    "print(\"\".join(string_2))"
   ]
  },
  {
   "cell_type": "markdown",
   "metadata": {},
   "source": [
    "## Question - 3\n",
    "<h3>Add and Subtract Fraction</h3><br>\n",
    "making a class to add and subtract a fraction"
   ]
  },
  {
   "cell_type": "code",
   "execution_count": 17,
   "metadata": {},
   "outputs": [
    {
     "name": "stdout",
     "output_type": "stream",
     "text": [
      "enter the numerator of first number12\n",
      "enter the denominator of first number5\n",
      "enter the numerator of second number42\n",
      "enter the denominator of second number15\n",
      "Sum of number is 5.199999999999999\n",
      "Sum of number is -0.3999999999999999\n"
     ]
    }
   ],
   "source": [
    "class Fraction:\n",
    "    def __init__(self,a,b,c,d):\n",
    "        self._a = a\n",
    "        self._b = b\n",
    "        self._c = c\n",
    "        self._d = d\n",
    "        \n",
    "    def sum(self):\n",
    "        add = (self._a / self._b) + (self._c / self._d)\n",
    "        print(f\"Sum of number is {add}\")\n",
    "        \n",
    "    def diff(self):\n",
    "        sub = (self._a / self._b) - (self._c / self._d)\n",
    "        print(f\"Diff of number is {sub}\")\n",
    "        \n",
    "w = float(input(\"enter the numerator of first number \"))\n",
    "x = float(input(\"enter the denominator of first number \"))\n",
    "y = float(input(\"enter the numerator of second number \"))\n",
    "z = float(input(\"enter the denominator of second number \"))\n",
    "result = Fraction(w, x, y, z)\n",
    "result.sum()\n",
    "result.diff()"
   ]
  },
  {
   "cell_type": "markdown",
   "metadata": {},
   "source": [
    "## Question - 4\n",
    "<h3>Add \"ing\" at the end</h3><br>\n",
    "adding ing at the end if character is longer then 3, if ing already there then add ly"
   ]
  },
  {
   "cell_type": "code",
   "execution_count": 20,
   "metadata": {},
   "outputs": [
    {
     "name": "stdout",
     "output_type": "stream",
     "text": [
      "ask\n",
      "ask\n"
     ]
    }
   ],
   "source": [
    "def add_ing(s):\n",
    "    if len(s) > 3:\n",
    "        if s[-3:] == 'ing':\n",
    "            print(s + 'ly')\n",
    "        else:\n",
    "            print(s + 'ing')\n",
    "    else:\n",
    "        print(s)\n",
    "    \n",
    "add_ing(input())"
   ]
  },
  {
   "cell_type": "markdown",
   "metadata": {},
   "source": [
    "#### OR"
   ]
  },
  {
   "cell_type": "code",
   "execution_count": 24,
   "metadata": {},
   "outputs": [
    {
     "name": "stdout",
     "output_type": "stream",
     "text": [
      "know\n",
      "knowing\n"
     ]
    }
   ],
   "source": [
    "def add_ing(s):\n",
    "    if len(s) <= 3:\n",
    "        print(s)\n",
    "    else:\n",
    "        if s[len(s)-3:] != 'ing':\n",
    "            print(s + 'ing')\n",
    "        else:\n",
    "            print(s + 'ly')\n",
    "\n",
    "add_ing(input())"
   ]
  },
  {
   "cell_type": "markdown",
   "metadata": {},
   "source": [
    "## Question - 5\n",
    "<h3>Age</h3><br>\n",
    "enter current year and your birthe year and code will display your age"
   ]
  },
  {
   "cell_type": "code",
   "execution_count": 10,
   "metadata": {},
   "outputs": [
    {
     "name": "stdout",
     "output_type": "stream",
     "text": [
      "enter the current date, month and year resp \n",
      "27 06 1989\n",
      "Date of birth is 27-6-1989\n",
      "Current Date is 11-12-2020\n",
      "Age of person is 31 years\n"
     ]
    }
   ],
   "source": [
    "from datetime import datetime\n",
    "\n",
    "day,month,year = map(int,input(\"enter the current date, month and year resp \\n\").split(\" \"))\n",
    "\n",
    "dob = datetime(year,month,day)\n",
    "today = datetime.now()\n",
    "ageindays = today - dob\n",
    "ageinyears = ageindays.days // 365\n",
    "\n",
    "\n",
    "print(f\"Date of birth is {dob.day}-{dob.month}-{dob.year}\")\n",
    "print(f\"Current Date is {today.day}-{today.month}-{today.year}\")\n",
    "print(f\"Age of person is {ageinyears} years\")"
   ]
  },
  {
   "cell_type": "code",
   "execution_count": null,
   "metadata": {},
   "outputs": [],
   "source": []
  }
 ],
 "metadata": {
  "kernelspec": {
   "display_name": "Python 3",
   "language": "python",
   "name": "python3"
  },
  "language_info": {
   "codemirror_mode": {
    "name": "ipython",
    "version": 3
   },
   "file_extension": ".py",
   "mimetype": "text/x-python",
   "name": "python",
   "nbconvert_exporter": "python",
   "pygments_lexer": "ipython3",
   "version": "3.8.5"
  }
 },
 "nbformat": 4,
 "nbformat_minor": 4
}
