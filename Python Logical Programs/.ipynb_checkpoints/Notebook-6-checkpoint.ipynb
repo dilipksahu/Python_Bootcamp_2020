{
 "cells": [
  {
   "cell_type": "markdown",
   "metadata": {},
   "source": [
    "## Question - 26\n",
    "<h3>collections.defaultdict</h3>\n",
    "<b>Task</b>\n",
    "<p>In this challenge, you will be given 2 integers, n and m. There are n words, which might repeat, in word group A. There are m words belonging to word group B. For each  m words, check whether the word has appeared in group  A or not. Print the indices of each occurrence of m in group A. If it does not appear, print -1.</p>\n",
    "\n",
    "<dl>\n",
    "    <dt>Sample Input</dt>\n",
    "    <dd>5 2</dd>\n",
    "    <dd>a</dd>\n",
    "    <dd>a</dd>\n",
    "    <dd>b</dd>\n",
    "    <dd>a</dd>\n",
    "    <dd>b</dd>\n",
    "    <dd>a</dd>\n",
    "    <dd>b</dd>\n",
    "    <dt>Sample Output</dt>\n",
    "    <dd>1 2 4</dd>\n",
    "    <dd>3 5</dd>\n",
    "</dl>"
   ]
  },
  {
   "cell_type": "code",
   "execution_count": 2,
   "metadata": {},
   "outputs": [
    {
     "name": "stdout",
     "output_type": "stream",
     "text": [
      "5 3\n",
      "a\n",
      "a\n",
      "b\n",
      "a\n",
      "b\n",
      "a\n",
      "b\n",
      "c\n",
      "1 2 4\n",
      "3 5\n",
      "-1\n"
     ]
    }
   ],
   "source": [
    "from collections import defaultdict\n",
    "\n",
    "n,m = map(int,input().split())\n",
    "d = defaultdict(list)\n",
    "for i in range(n):\n",
    "    d['A'].append(input())\n",
    "for i in range(m):\n",
    "    d['B'].append(input())\n",
    "    \n",
    "for i in range(m):\n",
    "    temp = []\n",
    "    for j in range(n):\n",
    "        if d['B'][i] in d['A']:\n",
    "            if d['B'][i] == d['A'][j]:\n",
    "                temp.append(str(j+1))\n",
    "        \n",
    "    print(\" \".join(temp) or -1) \n",
    "    "
   ]
  },
  {
   "cell_type": "markdown",
   "metadata": {},
   "source": [
    "### OR"
   ]
  },
  {
   "cell_type": "code",
   "execution_count": 2,
   "metadata": {},
   "outputs": [
    {
     "name": "stdout",
     "output_type": "stream",
     "text": [
      "5 3\n",
      "a\n",
      "a\n",
      "b\n",
      "a\n",
      "b\n",
      "defaultdict(<class 'list'>, {'a': ['1', '2', '4'], 'b': ['3', '5']})\n",
      "a\n",
      "1 2 4\n",
      "b\n",
      "3 5\n",
      "c\n",
      "-1\n"
     ]
    }
   ],
   "source": [
    "# Most effecient\n",
    "from collections import defaultdict\n",
    "d = defaultdict(list)\n",
    "\n",
    "n, m = map(int, input().split())\n",
    "\n",
    "for i in range(1,n+1):\n",
    "    d[input()].append(str(i))\n",
    "print(d)\n",
    "    \n",
    "for i in range(m):\n",
    "    print (' '.join(d[input()]) or -1)"
   ]
  },
  {
   "cell_type": "markdown",
   "metadata": {},
   "source": [
    "### OR"
   ]
  },
  {
   "cell_type": "code",
   "execution_count": 3,
   "metadata": {},
   "outputs": [
    {
     "name": "stdout",
     "output_type": "stream",
     "text": [
      "5 3\n",
      "defaultdict(<function <lambda> at 0x0000020DBE027700>, {})\n",
      "a\n",
      "a\n",
      "b\n",
      "a\n",
      "b\n",
      "defaultdict(<function <lambda> at 0x0000020DBE027700>, {'a': '1 2 4', 'b': '3 5'})\n",
      "a\n",
      "1 2 4\n",
      "b\n",
      "3 5\n",
      "c\n",
      "-1\n"
     ]
    }
   ],
   "source": [
    "from collections import defaultdict\n",
    "\n",
    "n, m = map(int, input().split())\n",
    "d = defaultdict(lambda: -1)\n",
    "print(d)\n",
    "\n",
    "for i in range(1, n+1): \n",
    "    word = input()\n",
    "    d[word] = d[word] + ' ' + str(i) if word in d else str(i)\n",
    "print(d)\n",
    "\n",
    "for _ in range(m):\n",
    "    print(d[input()])"
   ]
  },
  {
   "cell_type": "markdown",
   "metadata": {},
   "source": [
    "### Question - 27\n",
    "<h3>calendar</h3><br>\n",
    "\n",
    "<dl>\n",
    "    <dt>Task</dt>\n",
    "    <dd>You are given a date. Your task is to find what the day is on that date.</dd>\n",
    "    <dt>Sample Input</dt>\n",
    "    <dd>08 05 2015</dd>\n",
    "    <dt>Sample Output</dt>\n",
    "    <dd>Wednesday</dd>\n",
    "\n",
    "</dl>"
   ]
  },
  {
   "cell_type": "code",
   "execution_count": 11,
   "metadata": {},
   "outputs": [
    {
     "name": "stdout",
     "output_type": "stream",
     "text": [
      "08 05 2015\n",
      "Wednesday\n"
     ]
    }
   ],
   "source": [
    "import calendar\n",
    "\n",
    "mm, dd , yy = map(int,input().split())\n",
    "daynumber = calendar.weekday(yy,mm,dd)\n",
    "days =[\"Monday\", \"Tuesday\", \"Wednesday\", \"Thursday\", \n",
    "                         \"Friday\", \"Saturday\", \"Sunday\"] \n",
    "\n",
    "\n",
    "print(days[daynumber])"
   ]
  },
  {
   "cell_type": "markdown",
   "metadata": {},
   "source": [
    "### OR"
   ]
  },
  {
   "cell_type": "code",
   "execution_count": 16,
   "metadata": {},
   "outputs": [
    {
     "name": "stdout",
     "output_type": "stream",
     "text": [
      "Enter any date (Example: mm dd yyyy): 12 18 2020\n",
      "Friday\n"
     ]
    }
   ],
   "source": [
    "import calendar\n",
    "\n",
    "def findDay(date):\n",
    "    mm, dd, yy = ( int(i) for i in date.split(' '))\n",
    "    daynumber = calendar.weekday(yy,mm,dd)\n",
    "    days =[\"Monday\", \"Tuesday\", \"Wednesday\", \"Thursday\", \n",
    "                         \"Friday\", \"Saturday\", \"Sunday\"]\n",
    "    return days[daynumber]\n",
    "\n",
    "date = input(\"Enter any date (Example: mm dd yyyy): \")\n",
    "print(findDay(date))"
   ]
  },
  {
   "cell_type": "markdown",
   "metadata": {},
   "source": [
    "## Question - 28\n",
    "<h3>datetime</h3><br>\n",
    "<dl>\n",
    "    <dt>Input Format:</dt>\n",
    "    <dd>The first line contains T, the number of testcases.</dd>\n",
    "    <dd>Each testcase contains 2 lines, representing time t1 and time t2.</dd>\n",
    "    <dt>Sample Input:</dt>\n",
    "    <dd>2</dd>\n",
    "    <dd>Sun 10 May 2015 13:54:36 -0700</dd>\n",
    "    <dd>Sun 10 May 2015 13:54:36 -0000</dd>\n",
    "    <dd>Sat 02 May 2015 19:54:36 +0530</dd>\n",
    "    <dd>Fri 01 May 2015 13:54:36 -0000</dd>\n",
    "    <dt>Sample Output:</dt>\n",
    "    <dd>25200</dd>\n",
    "    <dd>88200</dd>\n",
    "    \n",
    "</dl>"
   ]
  },
  {
   "cell_type": "code",
   "execution_count": 20,
   "metadata": {},
   "outputs": [
    {
     "name": "stdout",
     "output_type": "stream",
     "text": [
      "2\n",
      "Sun 10 May 2015 13:54:36 -0700\n",
      "Sun 10 May 2015 13:54:36 -0000\n",
      "Difference: 7:00:00\n",
      "Days: 0\n",
      "Microseconds: 0\n",
      "Seconds: 25200\n",
      "Sat 02 May 2015 19:54:36 +0530\n",
      "Fri 01 May 2015 13:54:36 -0000\n",
      "Difference: 1 day, 0:30:00\n",
      "Days: 1\n",
      "Microseconds: 0\n",
      "Seconds: 1800\n"
     ]
    }
   ],
   "source": [
    "import datetime\n",
    "from datetime import timedelta\n",
    "\n",
    "T = int(input())\n",
    "\n",
    "for i in range(T): \n",
    "    datetimeFormat = '%a %d %b %Y %H:%M:%S %z'\n",
    "    date1 = input()\n",
    "    date2 = input()\n",
    "    diff = datetime.datetime.strptime(date1, datetimeFormat)\\\n",
    "        - datetime.datetime.strptime(date2, datetimeFormat)\n",
    "\n",
    "    print(\"Difference:\", diff)\n",
    "    print(\"Days:\", diff.days)\n",
    "    print(\"Microseconds:\", diff.microseconds)\n",
    "    print(\"Seconds:\", diff.seconds)"
   ]
  },
  {
   "cell_type": "code",
   "execution_count": null,
   "metadata": {},
   "outputs": [],
   "source": []
  }
 ],
 "metadata": {
  "kernelspec": {
   "display_name": "Python 3",
   "language": "python",
   "name": "python3"
  },
  "language_info": {
   "codemirror_mode": {
    "name": "ipython",
    "version": 3
   },
   "file_extension": ".py",
   "mimetype": "text/x-python",
   "name": "python",
   "nbconvert_exporter": "python",
   "pygments_lexer": "ipython3",
   "version": "3.8.5"
  }
 },
 "nbformat": 4,
 "nbformat_minor": 4
}
