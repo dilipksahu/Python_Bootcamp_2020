{
 "cells": [
  {
   "cell_type": "markdown",
   "metadata": {},
   "source": [
    "## Question - 6\n",
    "<h3>Alphabetical</h3><br>\n",
    "sorting the elements of a list<br>\n",
    "example:<br>\n",
    "\n",
    "Hello world! world is very beautiful"
   ]
  },
  {
   "cell_type": "code",
   "execution_count": 5,
   "metadata": {},
   "outputs": [
    {
     "name": "stdout",
     "output_type": "stream",
     "text": [
      "Enter number of elements 6\n",
      "Enter any element hello\n",
      "Enter any element world\n",
      "Enter any element world\n",
      "Enter any element is\n",
      "Enter any element very\n",
      "Enter any element beautiful\n",
      "beautiful hello is very world world\n"
     ]
    }
   ],
   "source": [
    "length = int(input(\"Enter number of elements \"))\n",
    "s = []\n",
    "for i in range(length):\n",
    "    ele = input(\"Enter any element \")\n",
    "    s.append(ele)\n",
    "\n",
    "s.sort()\n",
    "print(\" \".join(s))"
   ]
  },
  {
   "cell_type": "markdown",
   "metadata": {},
   "source": [
    "## Question - 7\n",
    "<h3>ASCII</h3>"
   ]
  },
  {
   "cell_type": "code",
   "execution_count": 4,
   "metadata": {},
   "outputs": [
    {
     "name": "stdout",
     "output_type": "stream",
     "text": [
      "Enter any character d\n",
      "ASCII Value is 100\n"
     ]
    }
   ],
   "source": [
    "x =  input(\"Enter any character \")\n",
    "y = ord(x)\n",
    "\n",
    "print(\"ASCII Value is \"+str(y))"
   ]
  },
  {
   "cell_type": "markdown",
   "metadata": {},
   "source": [
    "## Question - 8\n",
    "<h3>AssertionError</h3>\n",
    "<b>Assertion is a programming concept used while writing a code where the user declares a condition to be true using assert statement prior to running the module. If the condition is True, the control simply moves to the next line of code. In case if it is False the program stops running and returns AssertionError Exception</b><br>\n",
    "<b>syntax: assert condition, error_message(optional)</b><br>\n",
    "The numberes should be entered as asked unless display to correct mistake<br>"
   ]
  },
  {
   "cell_type": "code",
   "execution_count": 6,
   "metadata": {},
   "outputs": [
    {
     "name": "stdout",
     "output_type": "stream",
     "text": [
      "Enter any Number:5\n",
      "Enter any Number:8\n",
      "Sorry you didn't enter the number correctly\n"
     ]
    }
   ],
   "source": [
    "x = int(input(\"Enter any Number:\"))\n",
    "y = int(input(\"Enter any Number:\"))\n",
    "\n",
    "try:\n",
    "    if x > y:\n",
    "        print(\"You enter the right numbers\")\n",
    "    else:\n",
    "        raise AssertionError\n",
    "except AssertionError:\n",
    "    print(\"Sorry you didn't enter the number correctly\")"
   ]
  },
  {
   "cell_type": "markdown",
   "metadata": {},
   "source": [
    "## Question-9\n",
    "<h3>Average</h3><br>\n",
    "finding the average of the numbers entered "
   ]
  },
  {
   "cell_type": "code",
   "execution_count": 11,
   "metadata": {},
   "outputs": [
    {
     "name": "stdout",
     "output_type": "stream",
     "text": [
      "how many number to want? 3\n",
      "enter any number: 52\n",
      "enter any number: 45\n",
      "enter any number: 51\n",
      "Numbers average =  49.333333333333336\n"
     ]
    }
   ],
   "source": [
    "def average(nums,count):\n",
    "    print(\"Numbers average = \",nums/count)\n",
    "    \n",
    "nums = count = 0\n",
    "n = int(input(\"how many number to want? \"))\n",
    "for i in range(n):\n",
    "    number = int(input(\"enter any number: \"))\n",
    "    nums += number\n",
    "    count += 1\n",
    "    \n",
    "average(nums,count)    "
   ]
  },
  {
   "cell_type": "code",
   "execution_count": 19,
   "metadata": {},
   "outputs": [
    {
     "name": "stdout",
     "output_type": "stream",
     "text": [
      "enter any number or press enter for output: 10\n",
      "enter any number or press enter for output: 10\n",
      "enter any number or press enter for output: 10\n",
      "enter any number or press enter for output: 10\n",
      "enter any number or press enter for output: 20\n",
      "enter any number or press enter for output: \n",
      "Numbers average =  12.0\n"
     ]
    }
   ],
   "source": [
    "nums = count = 0\n",
    "while True:\n",
    "    try:\n",
    "        number = int(input(\"enter any number or press enter for output: \"))\n",
    "        nums += number\n",
    "        count += 1\n",
    "    except ValueError as ve:\n",
    "        break\n",
    "        \n",
    "print(\"Numbers average = \",nums/count)        "
   ]
  },
  {
   "cell_type": "markdown",
   "metadata": {},
   "source": [
    "## Question - 10\n",
    "<h3>Average Even Odd </h3><br>\n",
    "checking the aveage of sum of odd and even numbers"
   ]
  },
  {
   "cell_type": "code",
   "execution_count": 32,
   "metadata": {},
   "outputs": [
    {
     "name": "stdout",
     "output_type": "stream",
     "text": [
      "enter any number or enter 0(zero) to exit: 5\n",
      "enter any number or enter 0(zero) to exit: 6\n",
      "enter any number or enter 0(zero) to exit: 2\n",
      "enter any number or enter 0(zero) to exit: 1\n",
      "enter any number or enter 0(zero) to exit: 0\n",
      "Average even numbers =  4.0\n",
      "Average odd numbers =  3.0\n"
     ]
    }
   ],
   "source": [
    "num_even = count_even = 0\n",
    "num_odd = count_odd = 0\n",
    "while True:\n",
    "    number = int(input(\"enter any number or enter 0(zero) to exit: \"))\n",
    "    if number > 0:\n",
    "        if number % 2 == 0:\n",
    "            num_even += number\n",
    "            count_even += 1 \n",
    "        else:\n",
    "            num_odd += number\n",
    "            count_odd += 1\n",
    "    else:\n",
    "        break\n",
    "        \n",
    "print(\"Average even numbers = \",num_even/count_even)\n",
    "print(\"Average odd numbers = \",num_odd/count_odd)"
   ]
  },
  {
   "cell_type": "code",
   "execution_count": null,
   "metadata": {},
   "outputs": [],
   "source": []
  }
 ],
 "metadata": {
  "kernelspec": {
   "display_name": "Python 3",
   "language": "python",
   "name": "python3"
  },
  "language_info": {
   "codemirror_mode": {
    "name": "ipython",
    "version": 3
   },
   "file_extension": ".py",
   "mimetype": "text/x-python",
   "name": "python",
   "nbconvert_exporter": "python",
   "pygments_lexer": "ipython3",
   "version": "3.8.5"
  }
 },
 "nbformat": 4,
 "nbformat_minor": 4
}
