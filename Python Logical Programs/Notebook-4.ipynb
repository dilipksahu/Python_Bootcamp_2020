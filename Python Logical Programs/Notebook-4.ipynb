{
 "cells": [
  {
   "cell_type": "markdown",
   "metadata": {},
   "source": [
    "### Question - 16\n",
    "<h3>Deleting string from another</h3><br>\n",
    "deleting a specified thing for the first thing<br>\n",
    "<b>Example<b><br>\n",
    "enter the string: morning<br>\n",
    "enter what you want to remove: night<br>\n",
    "Output:  mor<br>"
   ]
  },
  {
   "cell_type": "code",
   "execution_count": 7,
   "metadata": {},
   "outputs": [
    {
     "name": "stdout",
     "output_type": "stream",
     "text": [
      "enter the string: morning\n",
      "enter what you want to remove: night\n",
      "Output mor\n"
     ]
    }
   ],
   "source": [
    "def delete(str_1,str_2):    # str_1 is the main string; str_2 is what need to be removed\n",
    "    result=\"\"\n",
    "    for i in str_1:\n",
    "        if i in str_2:\n",
    "            continue\n",
    "        else:\n",
    "            result += i\n",
    "    return result\n",
    "\n",
    "\n",
    "string_1 = input(\"enter the string: \")\n",
    "string_2 = input(\"enter what you want to remove: \")\n",
    "print(\"Output\",delete(string_1,string_2))\n"
   ]
  },
  {
   "cell_type": "markdown",
   "metadata": {},
   "source": [
    "#### OR"
   ]
  },
  {
   "cell_type": "code",
   "execution_count": 8,
   "metadata": {},
   "outputs": [
    {
     "name": "stdout",
     "output_type": "stream",
     "text": [
      "enter the string: morning\n",
      "enter what you want to remove: night\n",
      "Output:  mor\n"
     ]
    }
   ],
   "source": [
    "string_1 = input(\"enter the string: \")\n",
    "string_2 = input(\"enter what you want to remove: \")\n",
    "\n",
    "result = \"\"\n",
    "for i in string_1:\n",
    "    if i not in string_2:\n",
    "        result += i\n",
    "print(\"Output: \",result)"
   ]
  },
  {
   "cell_type": "markdown",
   "metadata": {},
   "source": [
    "### Question - 17\n",
    "<h3>Deleting Numbers</h3><br>\n",
    "make a list from 1-20 and then delete numbers which are divisible by 5"
   ]
  },
  {
   "cell_type": "code",
   "execution_count": 16,
   "metadata": {},
   "outputs": [
    {
     "name": "stdout",
     "output_type": "stream",
     "text": [
      "Before list:  [1, 2, 3, 4, 5, 6, 7, 8, 9, 10, 11, 12, 13, 14, 15, 16, 17, 18, 19, 20]\n",
      "After list:  [1, 2, 3, 4, 6, 7, 8, 9, 11, 12, 13, 14, 16, 17, 18, 19]\n"
     ]
    }
   ],
   "source": [
    "num = [ i for i in range(1,21)]\n",
    "output = [ i for i in num if i%5 != 0]    \n",
    "print(\"Before list: \",num)\n",
    "print(\"After list: \",output)"
   ]
  },
  {
   "cell_type": "markdown",
   "metadata": {},
   "source": [
    "### Question - 18\n",
    "<h3>function(prime)</h3><br>\n",
    "returning 0 if entered number is prime else 1"
   ]
  },
  {
   "cell_type": "code",
   "execution_count": 29,
   "metadata": {},
   "outputs": [
    {
     "name": "stdout",
     "output_type": "stream",
     "text": [
      "Enter any number:12\n",
      "1\n"
     ]
    }
   ],
   "source": [
    "def prime(x):\n",
    "    count = 0\n",
    "    for i in range(2,x+1):\n",
    "        if x%i == 0:\n",
    "            count += 1\n",
    "            \n",
    "    if count > 1:\n",
    "        print(\"1\")\n",
    "    else:\n",
    "        print(\"0\")\n",
    "        \n",
    "num = int(input(\"Enter any number:\"))\n",
    "prime(num)"
   ]
  },
  {
   "cell_type": "markdown",
   "metadata": {},
   "source": [
    "#### OR"
   ]
  },
  {
   "cell_type": "code",
   "execution_count": 34,
   "metadata": {},
   "outputs": [
    {
     "name": "stdout",
     "output_type": "stream",
     "text": [
      "Enter any number:20\n",
      "1\n"
     ]
    }
   ],
   "source": [
    "def prime(x):\n",
    "    count = 0\n",
    "    for i in range(2,x//2):\n",
    "        if x%i == 0:\n",
    "            print(\"1\")\n",
    "            break\n",
    "    else:\n",
    "        print(\"0\")\n",
    "        \n",
    "num = int(input(\"Enter any number:\"))\n",
    "prime(num)"
   ]
  },
  {
   "cell_type": "markdown",
   "metadata": {},
   "source": [
    "### Question - 19\n",
    "<h3>Largest Number</h3><br>\n",
    "finding the largest number of the entered numbers"
   ]
  },
  {
   "cell_type": "code",
   "execution_count": 39,
   "metadata": {},
   "outputs": [
    {
     "name": "stdout",
     "output_type": "stream",
     "text": [
      "enter any number(press 0 to exit)45\n",
      "enter any number(press 0 to exit)12\n",
      "enter any number(press 0 to exit)52\n",
      "enter any number(press 0 to exit)0\n",
      "Largest number is  52\n"
     ]
    }
   ],
   "source": [
    "y = 0\n",
    "while True:\n",
    "    x = int(input(\"enter any number(press 0 to exit)\"))\n",
    "    if x == 0:\n",
    "        break\n",
    "    elif x > y:\n",
    "        y = x\n",
    "    else:\n",
    "        continue\n",
    "        \n",
    "print(\"Largest number is \",y)"
   ]
  },
  {
   "cell_type": "markdown",
   "metadata": {},
   "source": [
    "#### OR"
   ]
  },
  {
   "cell_type": "code",
   "execution_count": 44,
   "metadata": {},
   "outputs": [
    {
     "name": "stdout",
     "output_type": "stream",
     "text": [
      "enter list of numbers by spaces 45 25 78 99 52\n",
      "Largest number is  99\n"
     ]
    }
   ],
   "source": [
    "x = list(map(int,input(\"enter list of numbers by spaces \").split()))\n",
    "y = x[0]\n",
    "for i in range(1,len(x)):\n",
    "    if x[i] > y:\n",
    "        y = x[i]\n",
    "print(\"Largest number is \",y)\n",
    "    "
   ]
  },
  {
   "cell_type": "markdown",
   "metadata": {},
   "source": [
    "### Question - 20\n",
    "<h3>Longest word</h3><br>\n",
    "cehcking the longest number from the entered numbers"
   ]
  },
  {
   "cell_type": "code",
   "execution_count": 49,
   "metadata": {},
   "outputs": [
    {
     "name": "stdout",
     "output_type": "stream",
     "text": [
      "enter any number of strings (press 0 to exit): hello\n",
      "enter any number of strings (press 0 to exit): good\n",
      "enter any number of strings (press 0 to exit): morning\n",
      "enter any number of strings (press 0 to exit): 0\n",
      "Logest Word is  morning\n"
     ]
    }
   ],
   "source": [
    "def longest(args):\n",
    "    s = 0\n",
    "    z = \"\"\n",
    "    for i in args:\n",
    "        if len(i) > s:\n",
    "            s = len(i)\n",
    "            z = i\n",
    "    print(\"Logest Word is \",z)\n",
    "    \n",
    "lst = []\n",
    "while True:\n",
    "    x = input(\"enter any number of strings (press 0 to exit): \")\n",
    "    if x == \"0\":\n",
    "        break\n",
    "    elif x:\n",
    "        lst.append(x)\n",
    "    else:\n",
    "        continue\n",
    "longest(lst)"
   ]
  },
  {
   "cell_type": "code",
   "execution_count": null,
   "metadata": {},
   "outputs": [],
   "source": []
  }
 ],
 "metadata": {
  "kernelspec": {
   "display_name": "Python 3",
   "language": "python",
   "name": "python3"
  },
  "language_info": {
   "codemirror_mode": {
    "name": "ipython",
    "version": 3
   },
   "file_extension": ".py",
   "mimetype": "text/x-python",
   "name": "python",
   "nbconvert_exporter": "python",
   "pygments_lexer": "ipython3",
   "version": "3.8.5"
  }
 },
 "nbformat": 4,
 "nbformat_minor": 4
}
