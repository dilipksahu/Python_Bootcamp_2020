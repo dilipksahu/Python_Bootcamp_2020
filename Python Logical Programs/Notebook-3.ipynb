{
 "cells": [
  {
   "cell_type": "markdown",
   "metadata": {},
   "source": [
    "## Question - 11\n",
    "<h3>Decimal To Binary</h3><br>\n",
    "converting a decimal number into a binary number"
   ]
  },
  {
   "cell_type": "code",
   "execution_count": 1,
   "metadata": {},
   "outputs": [
    {
     "name": "stdout",
     "output_type": "stream",
     "text": [
      "enter any number(press 999 to exit): 8\n",
      "binary number of is:  1000\n",
      "enter any number(press 999 to exit): 12\n",
      "binary number of is:  1100\n",
      "enter any number(press 999 to exit): 4\n",
      "binary number of is:  100\n",
      "enter any number(press 999 to exit): 15\n",
      "binary number of is:  1111\n",
      "enter any number(press 999 to exit): 99\n",
      "binary number of is:  1100011\n",
      "enter any number(press 999 to exit): 999\n"
     ]
    }
   ],
   "source": [
    "while True:\n",
    "    decimal_number = int(input(\"enter any number(press 999 to exit): \"))\n",
    "    if decimal_number<0:\n",
    "        continue\n",
    "    elif decimal_number>0 and decimal_number!=999:\n",
    "        i = 0\n",
    "        binary_num = 0\n",
    "        while (decimal_number!=0):\n",
    "            remainder = decimal_number%2\n",
    "            binary_num = binary_num + remainder*(10**i)\n",
    "            decimal_number = int(decimal_number/2)\n",
    "            i += 1\n",
    "        print(\"binary number of is: \", binary_num)\n",
    "    elif decimal_number==999:\n",
    "        break"
   ]
  },
  {
   "cell_type": "markdown",
   "metadata": {},
   "source": [
    "### Question - 12\n",
    "<h3>Consonent</h3><br>\n",
    "print all the consonants present in all the words of the list"
   ]
  },
  {
   "cell_type": "code",
   "execution_count": 4,
   "metadata": {},
   "outputs": [
    {
     "name": "stdout",
     "output_type": "stream",
     "text": [
      "Enter number of items yo want to enter: 3\n",
      "enter item: Happy\n",
      "enter item: New\n",
      "enter item: Year\n",
      "\n",
      "H,p,p,y,\n",
      "N,w,\n",
      "Y,r,"
     ]
    }
   ],
   "source": [
    "x = []\n",
    "y = int(input(\"Enter number of items yo want to enter: \"))\n",
    "for i in range(y):\n",
    "    z = input(\"enter item: \")\n",
    "    x.append(z)\n",
    "    \n",
    "for a in x:\n",
    "    print()\n",
    "    for j in range(len(a)):\n",
    "        if a[j] not in (\"aeiou\"):\n",
    "            print(a[j],end=\",\")"
   ]
  },
  {
   "cell_type": "markdown",
   "metadata": {},
   "source": [
    "\n"
   ]
  },
  {
   "cell_type": "markdown",
   "metadata": {},
   "source": [
    "### Question - 13\n",
    "<h3>Copy from list</h3><br>\n",
    "there is a predefined list and a tuple, return the common elements in form of list"
   ]
  },
  {
   "cell_type": "code",
   "execution_count": 2,
   "metadata": {},
   "outputs": [
    {
     "name": "stdout",
     "output_type": "stream",
     "text": [
      "['abc', '2', '5', 'def']\n"
     ]
    }
   ],
   "source": [
    "x = [\"1\", \"2\", \"abc\", \"def\", \"ghi\", \"4\", \"5\"]\n",
    "y = (\"abc\", \"2\", \"5\", \"def\", 3)\n",
    "\n",
    "z = []\n",
    "for i in y:\n",
    "    if i in x:\n",
    "        z.append(i)\n",
    "print(z)"
   ]
  },
  {
   "cell_type": "markdown",
   "metadata": {},
   "source": [
    "#### OR"
   ]
  },
  {
   "cell_type": "code",
   "execution_count": 3,
   "metadata": {},
   "outputs": [
    {
     "name": "stdout",
     "output_type": "stream",
     "text": [
      "['abc', '2', '5', 'def']\n"
     ]
    }
   ],
   "source": [
    "x = [\"1\", \"2\", \"abc\", \"def\", \"ghi\", \"4\", \"5\"]\n",
    "y = (\"abc\", \"2\", \"5\", \"def\", 3)\n",
    "\n",
    "z = [ i for i in y if i in x]\n",
    "print(z)"
   ]
  },
  {
   "cell_type": "markdown",
   "metadata": {},
   "source": [
    "### Question - 14\n",
    "<h3>Count a value</h3><br>\n",
    "counting number of times a value is present inside the list"
   ]
  },
  {
   "cell_type": "code",
   "execution_count": 5,
   "metadata": {},
   "outputs": [
    {
     "name": "stdout",
     "output_type": "stream",
     "text": [
      "Enter the number of terms: 10\n",
      "Enter the input: s\n",
      "Enter the input: d\n",
      "Enter the input: f\n",
      "Enter the input: g\n",
      "Enter the input: a\n",
      "Enter the input: s\n",
      "Enter the input: d\n",
      "Enter the input: f\n",
      "Enter the input: a\n",
      "Enter the input: d\n",
      "s  is present  2  number of times\n",
      "g  is present  1  number of times\n",
      "a  is present  2  number of times\n",
      "d  is present  3  number of times\n",
      "f  is present  2  number of times\n"
     ]
    }
   ],
   "source": [
    "z = []\n",
    "y = int(input('Enter the number of terms: '))\n",
    "\n",
    "for i in range(y):\n",
    "    x = input(\"Enter the input: \")\n",
    "    z.append(x)\n",
    "\n",
    "y = set(z)\n",
    "for i in y:\n",
    "    if i in z:\n",
    "        c = z.count(i)\n",
    "        print(i,\" is present \",c,\" number of times\")\n",
    "    "
   ]
  },
  {
   "cell_type": "markdown",
   "metadata": {},
   "source": [
    "#### OR"
   ]
  },
  {
   "cell_type": "code",
   "execution_count": 12,
   "metadata": {},
   "outputs": [
    {
     "name": "stdout",
     "output_type": "stream",
     "text": [
      "Enter space separted list of itemsa s d f a s a d a d\n",
      "s  is present  2  number of times\n",
      "f  is present  1  number of times\n",
      "d  is present  3  number of times\n",
      "a  is present  4  number of times\n"
     ]
    }
   ],
   "source": [
    "z = input(\"Enter space separted list of items\").split(\" \")\n",
    "for i in set(z):\n",
    "    if i in z:\n",
    "        c = z.count(i)                               # count is applied on collection like list,tuple..\n",
    "        print(i,\" is present \",c,\" number of times\")"
   ]
  },
  {
   "cell_type": "markdown",
   "metadata": {},
   "source": [
    "### Question - 15\n",
    "<h3>counting</h3><br>\n",
    "counting the number of the uppercase and lowercase letters, press \"&\" to exit"
   ]
  },
  {
   "cell_type": "code",
   "execution_count": 14,
   "metadata": {},
   "outputs": [
    {
     "name": "stdout",
     "output_type": "stream",
     "text": [
      "enter any character(press & to exit)\n",
      "enter any character(press & to exit)1\n",
      "enter any character(press & to exit)2\n",
      "enter any character(press & to exit)5\n",
      "enter any character(press & to exit)s\n",
      "enter any character(press & to exit)D\n",
      "enter any character(press & to exit)F\n",
      "enter any character(press & to exit)s\n",
      "enter any character(press & to exit)c\n",
      "enter any character(press & to exit)5\n",
      "enter any character(press & to exit)&\n",
      "Upper:  2 \n",
      "Lower:  3 \n",
      "Digit:  4\n"
     ]
    }
   ],
   "source": [
    "upper = lower = digit = 0\n",
    "while True:\n",
    "    c = input(\"enter any character(press & to exit)\")\n",
    "    if c.isupper():\n",
    "        upper += 1\n",
    "    elif c.islower():\n",
    "        lower += 1 \n",
    "    elif c.isdigit():\n",
    "        digit += 1\n",
    "    elif c == \" \":\n",
    "        continue\n",
    "    elif c == \"&\":\n",
    "        print(\"Upper: \",upper,\"\\nLower: \",lower,\"\\nDigit: \",digit)\n",
    "        break"
   ]
  }
 ],
 "metadata": {
  "kernelspec": {
   "display_name": "Python 3",
   "language": "python",
   "name": "python3"
  },
  "language_info": {
   "codemirror_mode": {
    "name": "ipython",
    "version": 3
   },
   "file_extension": ".py",
   "mimetype": "text/x-python",
   "name": "python",
   "nbconvert_exporter": "python",
   "pygments_lexer": "ipython3",
   "version": "3.8.5"
  }
 },
 "nbformat": 4,
 "nbformat_minor": 4
}
