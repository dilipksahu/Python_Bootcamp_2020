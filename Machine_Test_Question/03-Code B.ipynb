{
 "cells": [
  {
   "cell_type": "markdown",
   "metadata": {},
   "source": [
    "# Question- 1\n",
    "\n",
    "Remove Consecutive Duplicate\n",
    "\n",
    "string = \"soo my naame iss dillip\"\n",
    "\n",
    "output - \"so my name is dilip\""
   ]
  },
  {
   "cell_type": "code",
   "execution_count": 4,
   "metadata": {},
   "outputs": [
    {
     "name": "stdout",
     "output_type": "stream",
     "text": [
      "so my name is dilip\n"
     ]
    }
   ],
   "source": [
    "string = \"soo my naame iss dillip\"\n",
    "new_string = \"\"\n",
    "temp = \"\"\n",
    "for i in string:\n",
    "    if i != temp:\n",
    "        temp = i\n",
    "        new_string += temp\n",
    "print(new_string)"
   ]
  },
  {
   "cell_type": "markdown",
   "metadata": {},
   "source": [
    "# Question - 2\n",
    "\n",
    "\"************** Swap Number without using third variable ****************\"\n"
   ]
  },
  {
   "cell_type": "code",
   "execution_count": 5,
   "metadata": {},
   "outputs": [
    {
     "name": "stdout",
     "output_type": "stream",
     "text": [
      "a : 15 b:  10\n"
     ]
    }
   ],
   "source": [
    "# + and -\n",
    "a = 10\n",
    "b = 15\n",
    "\n",
    "a = a + b\n",
    "b = a - b\n",
    "a = a - b\n",
    "\n",
    "print(\"a :\",a, \"b: \",b)"
   ]
  },
  {
   "cell_type": "code",
   "execution_count": 7,
   "metadata": {},
   "outputs": [
    {
     "name": "stdout",
     "output_type": "stream",
     "text": [
      "a : 15 b:  10\n"
     ]
    }
   ],
   "source": [
    "# * and /\n",
    "a = 10\n",
    "b = 15\n",
    "\n",
    "a = a  * b\n",
    "b = a / b\n",
    "a = a / b\n",
    "\n",
    "print(\"a :\",int(a), \"b: \",int(b))"
   ]
  },
  {
   "cell_type": "markdown",
   "metadata": {},
   "source": [
    "# Question - 3\n",
    "\n",
    "Given number is pallindrome or not\n",
    "\n",
    "Input:\n",
    "\n",
    "12321\n",
    "\n",
    "Output\n",
    "\n",
    "Pallindrome\n",
    "\n",
    "<h3>Solutions:</h3>"
   ]
  },
  {
   "cell_type": "code",
   "execution_count": 13,
   "metadata": {},
   "outputs": [
    {
     "name": "stdout",
     "output_type": "stream",
     "text": [
      "58555\n",
      "Not Palindrome\n"
     ]
    }
   ],
   "source": [
    "n = int(input())\n",
    "temp = n\n",
    "rev = 0\n",
    "while n > 0:\n",
    "    rem = n % 10\n",
    "    rev = rev * 10 + rem\n",
    "    n = n // 10\n",
    "\n",
    "if temp == rev:\n",
    "    print(\"Palindrome\")\n",
    "else:\n",
    "    print(\"Not Palindrome\")"
   ]
  },
  {
   "cell_type": "markdown",
   "metadata": {},
   "source": [
    "### OR"
   ]
  },
  {
   "cell_type": "code",
   "execution_count": 31,
   "metadata": {},
   "outputs": [
    {
     "name": "stdout",
     "output_type": "stream",
     "text": [
      "5555\n",
      "Palindrome\n"
     ]
    }
   ],
   "source": [
    "n = int(input())\n",
    "temp = n\n",
    "rev = 0\n",
    "for i in range(0,len(str(n))):\n",
    "    rem = n % 10\n",
    "    rev = rev * 10 + rem\n",
    "    n //= 10\n",
    "    \n",
    "if rev == temp:\n",
    "    print(\"Palindrome\")\n",
    "else:\n",
    "    print(\"Not Palindrome\")    "
   ]
  },
  {
   "cell_type": "markdown",
   "metadata": {},
   "source": [
    "### OR"
   ]
  },
  {
   "cell_type": "code",
   "execution_count": 30,
   "metadata": {},
   "outputs": [
    {
     "name": "stdout",
     "output_type": "stream",
     "text": [
      "1254\n",
      "Not Palindrome\n"
     ]
    }
   ],
   "source": [
    "n = input()\n",
    "rev = n[::-1]\n",
    "if rev == n:\n",
    "    print(\"Palindrome\")\n",
    "else:\n",
    "    print(\"Not Palindrome\")"
   ]
  },
  {
   "cell_type": "markdown",
   "metadata": {},
   "source": [
    "# Question - 4\n",
    "\n",
    "print \"3 X 3\" matrix taking the console input.\n"
   ]
  },
  {
   "cell_type": "code",
   "execution_count": 37,
   "metadata": {},
   "outputs": [
    {
     "name": "stdout",
     "output_type": "stream",
     "text": [
      "3 3\n",
      "[[0, 0, 0], [0, 1, 2], [0, 2, 4]]\n"
     ]
    }
   ],
   "source": [
    "x, y = map(int,input().split())\n",
    "lst = []\n",
    "for i in range(x):\n",
    "    temp = []\n",
    "    for j in range(y):\n",
    "        temp.append(i * j)\n",
    "    lst.append(temp)\n",
    "print(lst)"
   ]
  },
  {
   "cell_type": "markdown",
   "metadata": {},
   "source": [
    "### OR"
   ]
  },
  {
   "cell_type": "code",
   "execution_count": 38,
   "metadata": {},
   "outputs": [
    {
     "name": "stdout",
     "output_type": "stream",
     "text": [
      "3 3\n",
      "[[0, 0, 0], [0, 1, 2], [0, 2, 4]]\n"
     ]
    }
   ],
   "source": [
    "x, y = map(int,input().split())\n",
    "lst = [ [ (i*j) for j in range(y)] for i in range(x)]\n",
    "print(lst)"
   ]
  },
  {
   "cell_type": "markdown",
   "metadata": {},
   "source": [
    "# Question - 5\n",
    "\n",
    "print(\"********** Finding 3 elements in array given range *********\")"
   ]
  },
  {
   "cell_type": "code",
   "execution_count": 39,
   "metadata": {},
   "outputs": [
    {
     "name": "stdout",
     "output_type": "stream",
     "text": [
      "[(0.2, 0.3, 1.2), (0.2, 0.3, 0.75), (0.2, 0.3, 0.8), (0.2, 0.75, 0.8), (0.3, 0.75, 0.8)]\n"
     ]
    }
   ],
   "source": [
    "array = [0.2,0.3,1.2,0.75,0.8]\n",
    "a = 1\n",
    "b = 2\n",
    "\n",
    "length = len(array)\n",
    "res = []\n",
    "for i in range(length-2):\n",
    "    for j in range(i+1,length-1):\n",
    "        for k in range(j+1,length):\n",
    "            temp = []\n",
    "            total = array[i] + array[j] + array[k]\n",
    "            if a < total < b:\n",
    "                temp.append(array[i])\n",
    "                temp.append(array[j])\n",
    "                temp.append(array[k])\n",
    "                res.append(tuple(temp))\n",
    "\n",
    "print(res)\n"
   ]
  },
  {
   "cell_type": "markdown",
   "metadata": {},
   "source": [
    "### OR"
   ]
  },
  {
   "cell_type": "code",
   "execution_count": 40,
   "metadata": {},
   "outputs": [
    {
     "name": "stdout",
     "output_type": "stream",
     "text": [
      "[(0.2, 0.3, 1.2), (0.2, 0.3, 0.75), (0.2, 0.3, 0.8), (0.2, 0.75, 0.8), (0.3, 0.75, 0.8)]\n"
     ]
    }
   ],
   "source": [
    "from itertools import combinations\n",
    "\n",
    "def check(val):\n",
    "    return a < sum(val) < b\n",
    "\n",
    "lst = list(filter(check,combinations(array,3)))\n",
    "print(lst)"
   ]
  },
  {
   "cell_type": "code",
   "execution_count": null,
   "metadata": {},
   "outputs": [],
   "source": []
  }
 ],
 "metadata": {
  "kernelspec": {
   "display_name": "Python 3",
   "language": "python",
   "name": "python3"
  },
  "language_info": {
   "codemirror_mode": {
    "name": "ipython",
    "version": 3
   },
   "file_extension": ".py",
   "mimetype": "text/x-python",
   "name": "python",
   "nbconvert_exporter": "python",
   "pygments_lexer": "ipython3",
   "version": "3.7.4"
  }
 },
 "nbformat": 4,
 "nbformat_minor": 2
}
