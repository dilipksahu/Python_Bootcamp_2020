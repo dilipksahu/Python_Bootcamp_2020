{
 "cells": [
  {
   "cell_type": "markdown",
   "metadata": {},
   "source": [
    "# Question 65\n",
    "\n",
    "<h3>Question</h3>\n",
    "\n",
    "Please write assert statements to verify that every number in the list [2,4,6,8] is even.\n",
    "\n",
    "<h3>Hints</h3>\n",
    "\n",
    "Use \"assert expression\" to make assertion.\n",
    "\n",
    "<h3>Solutions:</h3>"
   ]
  },
  {
   "cell_type": "code",
   "execution_count": 5,
   "metadata": {},
   "outputs": [
    {
     "ename": "AssertionError",
     "evalue": "3 is not a even number",
     "output_type": "error",
     "traceback": [
      "\u001b[1;31m---------------------------------------------------------------------------\u001b[0m",
      "\u001b[1;31mAssertionError\u001b[0m                            Traceback (most recent call last)",
      "\u001b[1;32m<ipython-input-5-db0a135a8197>\u001b[0m in \u001b[0;36m<module>\u001b[1;34m\u001b[0m\n\u001b[0;32m      1\u001b[0m \u001b[0mdata\u001b[0m \u001b[1;33m=\u001b[0m \u001b[1;33m[\u001b[0m\u001b[1;36m3\u001b[0m\u001b[1;33m,\u001b[0m\u001b[1;36m2\u001b[0m\u001b[1;33m,\u001b[0m\u001b[1;36m4\u001b[0m\u001b[1;33m,\u001b[0m\u001b[1;36m6\u001b[0m\u001b[1;33m,\u001b[0m\u001b[1;36m8\u001b[0m\u001b[1;33m]\u001b[0m\u001b[1;33m\u001b[0m\u001b[1;33m\u001b[0m\u001b[0m\n\u001b[0;32m      2\u001b[0m \u001b[1;32mfor\u001b[0m \u001b[0mi\u001b[0m \u001b[1;32min\u001b[0m \u001b[0mdata\u001b[0m\u001b[1;33m:\u001b[0m\u001b[1;33m\u001b[0m\u001b[1;33m\u001b[0m\u001b[0m\n\u001b[1;32m----> 3\u001b[1;33m     \u001b[1;32massert\u001b[0m \u001b[0mi\u001b[0m \u001b[1;33m%\u001b[0m \u001b[1;36m2\u001b[0m \u001b[1;33m==\u001b[0m \u001b[1;36m0\u001b[0m\u001b[1;33m,\u001b[0m\u001b[1;34m\"{} is not a even number\"\u001b[0m\u001b[1;33m.\u001b[0m\u001b[0mformat\u001b[0m\u001b[1;33m(\u001b[0m\u001b[0mi\u001b[0m\u001b[1;33m)\u001b[0m\u001b[1;33m\u001b[0m\u001b[1;33m\u001b[0m\u001b[0m\n\u001b[0m",
      "\u001b[1;31mAssertionError\u001b[0m: 3 is not a even number"
     ]
    }
   ],
   "source": [
    "data = [3,2,4,6,8]\n",
    "for i in data:\n",
    "    assert i % 2 == 0,\"{} is not a even number\".format(i)"
   ]
  },
  {
   "cell_type": "markdown",
   "metadata": {},
   "source": [
    "# Question 66\n",
    "\n",
    "<h3>Question</h3>\n",
    "\n",
    "Please write a program which accepts basic mathematic expression from console and print the evaluation result.\n",
    "\n",
    "Example: If the following n is given as input to the program:\n",
    "\n",
    "<b>35 + 3</b>\n",
    "\n",
    "Then, the output of the program should be:\n",
    "\n",
    "<b>38</b>\n",
    "\n",
    "<h3>Hints</h3>\n",
    "\n",
    "Use eval() to evaluate an expression.\n",
    "\n",
    "<h3>Solutions:</h3>"
   ]
  },
  {
   "cell_type": "code",
   "execution_count": 7,
   "metadata": {},
   "outputs": [
    {
     "name": "stdout",
     "output_type": "stream",
     "text": [
      "100 / 5 + 10\n",
      "30.0\n"
     ]
    }
   ],
   "source": [
    "exp = input()\n",
    "ans = eval(exp)\n",
    "print(ans)"
   ]
  },
  {
   "cell_type": "markdown",
   "metadata": {},
   "source": [
    "# Question 67\n",
    "\n",
    "<h3>Question</h3>\n",
    "\n",
    "Please write a binary search function which searches an item in a sorted list. The function should return the index of element to be searched in the list.\n",
    "\n",
    "<h3>Hints</h3>\n",
    "\n",
    "Use if/elif to deal with conditions.\n",
    "\n",
    "<h3>Solutions:</h3>"
   ]
  },
  {
   "cell_type": "code",
   "execution_count": 12,
   "metadata": {},
   "outputs": [
    {
     "name": "stdout",
     "output_type": "stream",
     "text": [
      "Middle Value  7\n",
      "Middle Value  10\n",
      "Middle Value  12\n",
      "Middle Value  13\n",
      "The Value Found at Index: 13\n"
     ]
    }
   ],
   "source": [
    "def binary_search_Ascending(array,target):\n",
    "    lower = 0\n",
    "    upper = len(array)\n",
    "    while lower < upper:\n",
    "        x = (lower + upper) // 2\n",
    "        print(\"Middle Value \",x)\n",
    "        value = array[x]\n",
    "        if target == value:\n",
    "            return x\n",
    "        elif target > value:\n",
    "            lower = x\n",
    "        elif target < value:\n",
    "            upper = x\n",
    "            \n",
    "Array = [1, 5, 8, 10, 12, 13, 55, 66, 73, 78, 82, 85, 88, 99]\n",
    "print(\"The Value Found at Index:\", binary_search_Ascending(Array, 99))"
   ]
  },
  {
   "cell_type": "markdown",
   "metadata": {},
   "source": [
    "### OR"
   ]
  },
  {
   "cell_type": "code",
   "execution_count": 22,
   "metadata": {},
   "outputs": [
    {
     "name": "stdout",
     "output_type": "stream",
     "text": [
      "10\n"
     ]
    }
   ],
   "source": [
    "# Recursion method\n",
    "idx = 0\n",
    "\n",
    "\n",
    "def bs(num, num_list):\n",
    "    global idx\n",
    "    if len(num_list) == 1:\n",
    "        if num_list[0] == num:\n",
    "            return idx\n",
    "        else:\n",
    "            return \"No exit in the list\"\n",
    "    elif num in num_list[: len(num_list) // 2]:\n",
    "        return bs(num, num_list[: len(num_list) // 2])\n",
    "    else:\n",
    "        idx += len(num_list) // 2\n",
    "    return bs(num, num_list[len(num_list) // 2 :])\n",
    "\n",
    "\n",
    "print(bs(82, [1, 5, 8, 10, 12, 13, 55, 66, 73, 78, 82, 85, 88, 99, 100]))"
   ]
  },
  {
   "cell_type": "markdown",
   "metadata": {},
   "source": [
    "# Question 68\n",
    "\n",
    "<h3>Question</h3>\n",
    "\n",
    "Please generate a random float where the value is between 10 and 100 using Python module.\n",
    "\n",
    "<h3>Hints</h3>\n",
    "\n",
    "Use random.random() to generate a random float in [0,1].\n",
    "\n",
    "<h3>Solutions:</h3>"
   ]
  },
  {
   "cell_type": "code",
   "execution_count": 29,
   "metadata": {},
   "outputs": [
    {
     "name": "stdout",
     "output_type": "stream",
     "text": [
      "95.69800658002755\n"
     ]
    }
   ],
   "source": [
    "import random\n",
    "\n",
    "rand_float= random.uniform(10,100)    # Returns a random float number between two given parameters\n",
    "print(rand_float)"
   ]
  },
  {
   "cell_type": "markdown",
   "metadata": {},
   "source": [
    "# Question 69\n",
    "\n",
    "<h3>Question</h3>\n",
    "\n",
    "Please generate a random float where the value is between 5 and 95 using Python module.\n",
    "\n",
    "<h3>Hints</h3>\n",
    "\n",
    "Use random.random() to generate a random float in [0,1].\n",
    "\n",
    "<h3>Solutions:</h3>"
   ]
  },
  {
   "cell_type": "code",
   "execution_count": 30,
   "metadata": {},
   "outputs": [
    {
     "name": "stdout",
     "output_type": "stream",
     "text": [
      "50.20681704764963\n"
     ]
    }
   ],
   "source": [
    "import random\n",
    "\n",
    "rand_float = random.uniform(5,95)        # Returns a random float number between two given parameters\n",
    "print(rand_float)"
   ]
  },
  {
   "cell_type": "code",
   "execution_count": null,
   "metadata": {},
   "outputs": [],
   "source": []
  }
 ],
 "metadata": {
  "kernelspec": {
   "display_name": "Python 3",
   "language": "python",
   "name": "python3"
  },
  "language_info": {
   "codemirror_mode": {
    "name": "ipython",
    "version": 3
   },
   "file_extension": ".py",
   "mimetype": "text/x-python",
   "name": "python",
   "nbconvert_exporter": "python",
   "pygments_lexer": "ipython3",
   "version": "3.7.4"
  }
 },
 "nbformat": 4,
 "nbformat_minor": 2
}
