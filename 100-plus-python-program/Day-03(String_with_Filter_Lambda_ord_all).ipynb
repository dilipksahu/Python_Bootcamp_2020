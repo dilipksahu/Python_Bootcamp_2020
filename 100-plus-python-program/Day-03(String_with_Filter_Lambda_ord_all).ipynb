{
 "cells": [
  {
   "cell_type": "markdown",
   "metadata": {},
   "source": [
    "# Question 10\n",
    "\n",
    "<h3>Question</h3>\n",
    "\n",
    "Write a program that accepts a sequence of whitespace separated words as input and prints the words after removing all duplicate words and sorting them alphanumerically.\n",
    "\n",
    "Suppose the following input is supplied to the program:\n",
    "\n",
    "<b>hello world and practice makes perfect and hello world again</b>\n",
    "\n",
    "Then, the output should be:\n",
    "\n",
    "<b>again and hello makes perfect practice world</b>\n",
    "\n",
    "<h3>Hints:</h3>\n",
    "    \n",
    "In case of input data being supplied to the question, it should be assumed to be a console input.We use set container to remove duplicated data automatically and then use sorted() to sort the data.\n",
    "\n",
    "<h3>Solutions:</h3>"
   ]
  },
  {
   "cell_type": "code",
   "execution_count": 8,
   "metadata": {},
   "outputs": [
    {
     "name": "stdout",
     "output_type": "stream",
     "text": [
      "hello world and practice makes perfect and hello world again\n",
      "again and hello makes perfect practice world\n"
     ]
    }
   ],
   "source": [
    "# Genaral\n",
    "lst = input().split()\n",
    "st = set(lst)          # unique element of set\n",
    "st = sorted(st)        # sorted order of list\n",
    "print(\" \".join(st))"
   ]
  },
  {
   "cell_type": "markdown",
   "metadata": {},
   "source": [
    "### OR"
   ]
  },
  {
   "cell_type": "code",
   "execution_count": 9,
   "metadata": {},
   "outputs": [
    {
     "name": "stdout",
     "output_type": "stream",
     "text": [
      "hello world and practice makes perfect and hello world again\n",
      "again and hello makes perfect practice world\n"
     ]
    }
   ],
   "source": [
    "# one line\n",
    "lst = sorted(set(input().split()))\n",
    "print(\" \".join(lst))"
   ]
  },
  {
   "cell_type": "markdown",
   "metadata": {},
   "source": [
    "### OR"
   ]
  },
  {
   "cell_type": "code",
   "execution_count": 13,
   "metadata": {},
   "outputs": [
    {
     "name": "stdout",
     "output_type": "stream",
     "text": [
      "hello world and practice makes perfect and hello world again\n",
      "again and hello makes perfect practice world\n"
     ]
    }
   ],
   "source": [
    "# For loop with count and remove\n",
    "lst = input().split()\n",
    "for i in lst:\n",
    "    if lst.count(i) > 1:\n",
    "        lst.remove(i)\n",
    "\n",
    "lst.sort()\n",
    "print(\" \".join(lst))"
   ]
  },
  {
   "cell_type": "markdown",
   "metadata": {},
   "source": [
    "### OR"
   ]
  },
  {
   "cell_type": "code",
   "execution_count": 19,
   "metadata": {},
   "outputs": [
    {
     "name": "stdout",
     "output_type": "stream",
     "text": [
      "hello world and practice makes perfect and hello world again\n",
      "again and hello makes perfect practice world\n"
     ]
    }
   ],
   "source": [
    "# List comp.. with count and remove\n",
    "lst = input().split()\n",
    "[ lst.remove(i) for i in lst if lst.count(i) > 1 ]     # list comprehension to remove duplicate\n",
    "lst.sort()\n",
    "print(\" \".join(lst))"
   ]
  },
  {
   "cell_type": "markdown",
   "metadata": {},
   "source": [
    "# Question 11\n",
    "\n",
    "<h3>Question</h3>\n",
    "\n",
    "Write a program which accepts a sequence of comma separated 4 digit binary numbers as its input and then check whether they are divisible by 5 or not. The numbers that are divisible by 5 are to be printed in a comma separated sequence.\n",
    "\n",
    "<h3>Example:</h3>\n",
    "\n",
    "<b>0100,0011,1010,1001</b>\n",
    "\n",
    "Then the output should be:\n",
    "\n",
    "<b>1010</b>\n",
    "\n",
    "Notes: Assume the data is input by console.\n",
    "\n",
    "<h3>Hints:</h3>\n",
    "    \n",
    "In case of input data being supplied to the question, it should be assumed to be a console input.\n",
    "\n",
    "<h3>Solutions:</h3>"
   ]
  },
  {
   "cell_type": "code",
   "execution_count": 28,
   "metadata": {},
   "outputs": [
    {
     "name": "stdout",
     "output_type": "stream",
     "text": [
      "0100,0011,1010,1001\n",
      "1010\n"
     ]
    }
   ],
   "source": [
    "def check(x):               # converts binary to integer & returns zero if divisible by 5\n",
    "    total, pw = 0 ,1\n",
    "    reversed(x)\n",
    "    \n",
    "    for i in x:              \n",
    "        total += pw * (ord(i) - 48)    # ord() function returns ASCII value\n",
    "        pw *= 2\n",
    "    return total % 5\n",
    "        \n",
    "data = input().split(\",\")\n",
    "lst = []\n",
    "for i in data:\n",
    "    if check(i) == 0:         # if zero found it means divisible by zero and added to the list\n",
    "        lst.append(i)\n",
    "        \n",
    "print(\",\".join(lst))"
   ]
  },
  {
   "cell_type": "markdown",
   "metadata": {},
   "source": [
    "### OR"
   ]
  },
  {
   "cell_type": "code",
   "execution_count": 29,
   "metadata": {},
   "outputs": [
    {
     "name": "stdout",
     "output_type": "stream",
     "text": [
      "0100,0011,1010,1001\n",
      "1010\n"
     ]
    }
   ],
   "source": [
    "# filter\n",
    "def check(x):\n",
    "    return int(x,2) % 5 == 0    # int(x,b) takes x as string and b as base from which\n",
    "                                # it will be converted to decimal\n",
    "\n",
    "data = input().split(\",\")\n",
    "\n",
    "lst = list(filter(check,data)) # in filter(func,object) function, elements are picked from 'data' if found True by 'check' function\n",
    "print(\",\".join(lst))"
   ]
  },
  {
   "cell_type": "markdown",
   "metadata": {},
   "source": [
    "### OR"
   ]
  },
  {
   "cell_type": "code",
   "execution_count": 30,
   "metadata": {},
   "outputs": [
    {
     "name": "stdout",
     "output_type": "stream",
     "text": [
      "0100,0011,1010,1001\n",
      "1010\n"
     ]
    }
   ],
   "source": [
    "# filter and lambda\n",
    "data = input().split(\",\")\n",
    "\n",
    "lst = list(filter(lambda x: int(x,2) % 5 == 0, data))  # lambda is an operator that helps to write function of one line\n",
    "print(\",\".join(lst))"
   ]
  },
  {
   "cell_type": "markdown",
   "metadata": {},
   "source": [
    "# Question 12\n",
    "<h3>Question:</h3>\n",
    "    \n",
    "Write a program, which will find all such numbers between 1000 and 3000 (both included) such that <b>each digit</b> of the number is an even number.The numbers obtained should be printed in a comma-separated sequence on a single line.\n",
    "\n",
    "<h3>Hints:</h3>\n",
    "    \n",
    "In case of input data being supplied to the question, it should be assumed to be a console input.\n",
    "\n",
    "<h3>Solutions:</h3>"
   ]
  },
  {
   "cell_type": "code",
   "execution_count": 33,
   "metadata": {},
   "outputs": [
    {
     "name": "stdout",
     "output_type": "stream",
     "text": [
      "2000,2002,2004,2006,2008,2020,2022,2024,2026,2028,2040,2042,2044,2046,2048,2060,2062,2064,2066,2068,2080,2082,2084,2086,2088,2200,2202,2204,2206,2208,2220,2222,2224,2226,2228,2240,2242,2244,2246,2248,2260,2262,2264,2266,2268,2280,2282,2284,2286,2288,2400,2402,2404,2406,2408,2420,2422,2424,2426,2428,2440,2442,2444,2446,2448,2460,2462,2464,2466,2468,2480,2482,2484,2486,2488,2600,2602,2604,2606,2608,2620,2622,2624,2626,2628,2640,2642,2644,2646,2648,2660,2662,2664,2666,2668,2680,2682,2684,2686,2688,2800,2802,2804,2806,2808,2820,2822,2824,2826,2828,2840,2842,2844,2846,2848,2860,2862,2864,2866,2868,2880,2882,2884,2886,2888\n"
     ]
    }
   ],
   "source": [
    "lst = []\n",
    "\n",
    "for i in range(1000, 3001):\n",
    "    flag = 1\n",
    "    for j in str(i):  # every integer number i is converted into string\n",
    "        if ord(j) % 2 != 0:  # ord returns ASCII value and j is every digit of i\n",
    "            flag = 0  # flag becomes zero if any odd digit found\n",
    "    if flag == 1:\n",
    "        lst.append(str(i))  # i is stored in list as string\n",
    "\n",
    "print(\",\".join(lst))"
   ]
  },
  {
   "cell_type": "markdown",
   "metadata": {},
   "source": [
    "### OR"
   ]
  },
  {
   "cell_type": "code",
   "execution_count": 44,
   "metadata": {},
   "outputs": [
    {
     "name": "stdout",
     "output_type": "stream",
     "text": [
      "2000,2002,2004,2006,2008,2020,2022,2024,2026,2028,2040,2042,2044,2046,2048,2060,2062,2064,2066,2068,2080,2082,2084,2086,2088,2200,2202,2204,2206,2208,2220,2222,2224,2226,2228,2240,2242,2244,2246,2248,2260,2262,2264,2266,2268,2280,2282,2284,2286,2288,2400,2402,2404,2406,2408,2420,2422,2424,2426,2428,2440,2442,2444,2446,2448,2460,2462,2464,2466,2468,2480,2482,2484,2486,2488,2600,2602,2604,2606,2608,2620,2622,2624,2626,2628,2640,2642,2644,2646,2648,2660,2662,2664,2666,2668,2680,2682,2684,2686,2688,2800,2802,2804,2806,2808,2820,2822,2824,2826,2828,2840,2842,2844,2846,2848,2860,2862,2864,2866,2868,2880,2882,2884,2886,2888\n"
     ]
    }
   ],
   "source": [
    "# filter , all ,ord\n",
    "def check(element):\n",
    "    return all( ord(i) % 2 == 0 for i in element)  # all returns True if all digits i is even in element\n",
    "\n",
    "lst = [ str(i) for i in range(1000,3001)]          # creates list of all given numbers with string data type\n",
    "lst = list(filter(check, lst))                     # filter removes element from list if check condition fails\n",
    "print(\",\".join(lst))"
   ]
  },
  {
   "cell_type": "markdown",
   "metadata": {},
   "source": [
    "### OR"
   ]
  },
  {
   "cell_type": "code",
   "execution_count": 48,
   "metadata": {},
   "outputs": [
    {
     "name": "stdout",
     "output_type": "stream",
     "text": [
      "2000,2002,2004,2006,2008,2020,2022,2024,2026,2028,2040,2042,2044,2046,2048,2060,2062,2064,2066,2068,2080,2082,2084,2086,2088,2200,2202,2204,2206,2208,2220,2222,2224,2226,2228,2240,2242,2244,2246,2248,2260,2262,2264,2266,2268,2280,2282,2284,2286,2288,2400,2402,2404,2406,2408,2420,2422,2424,2426,2428,2440,2442,2444,2446,2448,2460,2462,2464,2466,2468,2480,2482,2484,2486,2488,2600,2602,2604,2606,2608,2620,2622,2624,2626,2628,2640,2642,2644,2646,2648,2660,2662,2664,2666,2668,2680,2682,2684,2686,2688,2800,2802,2804,2806,2808,2820,2822,2824,2826,2828,2840,2842,2844,2846,2848,2860,2862,2864,2866,2868,2880,2882,2884,2886,2888\n"
     ]
    }
   ],
   "source": [
    "# filter, lambda ,all , ord\n",
    "lst = [ str(i) for i in range(1000,3001)]          # creates list of all given numbers with string data type\n",
    "lst = list(filter(lambda i : all(ord(j) % 2 == 0 for j in i ), lst)) # using lambda to define function inside filter function\n",
    "print(\",\".join(lst))"
   ]
  },
  {
   "cell_type": "markdown",
   "metadata": {},
   "source": [
    "# Question 13\n",
    "\n",
    "<h3>Question:</h3>\n",
    "    \n",
    "Write a program that accepts a sentence and calculate the number of letters and digits.\n",
    "\n",
    "Suppose the following input is supplied to the program:\n",
    "\n",
    "<b>hello world! 123</b>\n",
    "\n",
    "Then, the output should be:\n",
    "\n",
    "<b>LETTERS 10</b>\n",
    "\n",
    "<b>DIGITS 3</b>\n",
    "\n",
    "<h3>Hints:</h3>\n",
    "    \n",
    "In case of input data being supplied to the question, it should be assumed to be a console input.\n",
    "\n",
    "<h3>Solutions:</h3>"
   ]
  },
  {
   "cell_type": "code",
   "execution_count": 63,
   "metadata": {},
   "outputs": [
    {
     "name": "stdout",
     "output_type": "stream",
     "text": [
      "hello world! 123\n",
      "LETTERS 10\n",
      "DIGITS 3\n"
     ]
    }
   ],
   "source": [
    "words = input()\n",
    "letters , digits = 0,0\n",
    "for i in words:\n",
    "    for j in i:\n",
    "        if (\"a\" <= j <= 'z') or (\"A\" <= j <= \"Z\"):\n",
    "            letters += 1\n",
    "        if \"0\" <= j <= \"9\":\n",
    "            digits += 1\n",
    "        \n",
    "print(f\"LETTERS {letters}\\nDIGITS {digits}\")"
   ]
  },
  {
   "cell_type": "code",
   "execution_count": 62,
   "metadata": {},
   "outputs": [
    {
     "name": "stdout",
     "output_type": "stream",
     "text": [
      "hello world! 123\n",
      "LETTERS 10\n",
      "DIGITS 3\n"
     ]
    }
   ],
   "source": [
    "words = input()\n",
    "letters = digits = 0\n",
    "for i in words:\n",
    "    for j in i:\n",
    "        if j.isalpha():\n",
    "            letters += 1\n",
    "        if j.isnumeric():\n",
    "            digits += 1\n",
    "            \n",
    "print(f\"LETTERS {letters}\\nDIGITS {digits}\")"
   ]
  },
  {
   "cell_type": "markdown",
   "metadata": {},
   "source": [
    "<h3>Conclusion</h3>\n",
    "\n",
    "<b>All the above problems are mostly string related problems. Major parts of the solution includes string releted functions and comprehension method to write down the code in more shorter form.</b>"
   ]
  },
  {
   "cell_type": "code",
   "execution_count": null,
   "metadata": {},
   "outputs": [],
   "source": []
  }
 ],
 "metadata": {
  "kernelspec": {
   "display_name": "Python 3",
   "language": "python",
   "name": "python3"
  },
  "language_info": {
   "codemirror_mode": {
    "name": "ipython",
    "version": 3
   },
   "file_extension": ".py",
   "mimetype": "text/x-python",
   "name": "python",
   "nbconvert_exporter": "python",
   "pygments_lexer": "ipython3",
   "version": "3.8.5"
  }
 },
 "nbformat": 4,
 "nbformat_minor": 2
}
