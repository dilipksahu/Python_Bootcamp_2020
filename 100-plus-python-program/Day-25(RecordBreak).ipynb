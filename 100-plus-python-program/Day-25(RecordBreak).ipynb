{
 "cells": [
  {
   "cell_type": "markdown",
   "metadata": {},
   "source": [
    "# Question:\n",
    "\n",
    "Complete the breakingRecords function in the editor below. It must return an integer array containing\n",
    "the numbers of times she broke her records. Index 0 is for breaking most points records, and \n",
    "index 1 is for breaking least points records. \n",
    "breakingRecords has the following parameter(s):\n",
    "\n",
    "<h3>Sample Input</h3>\n",
    "\n",
    "10 5 20 20 4 5 2 25 1\n",
    "\n",
    "<h3>Sample Output</h3>\n",
    "\n",
    "2 4\n",
    "\n",
    "<h3>Hint:</h3>\n",
    "The diagram below depicts the number of times Maria broke her best and worst records throughout the season:\n",
    "<dl>\n",
    "<dt>Game:           0   1  2   3   4  5   6   7   8 </dt>\n",
    "<dt>Scores:         10  5  20  20  4  5   2   25  1 </dt>\n",
    "<dt>Highest  Score: 10  10 20  20  20 20  20  25  25</dt>\n",
    "<dt>Lowest Score:   10  5  5   5   4  4   2    2  1</dt>\n",
    "</dl>\n",
    "She broke her best record twice (after games 2 and 7) and her worst record four times (after games 1, 4, 6, and 8), so we print 2 4 as our answer. Note that she did not break her record for best score during game 3, as her score during that game was not strictly greater than her best record at the time.\n",
    "\n",
    "<h3>Solution:</h3>"
   ]
  },
  {
   "cell_type": "code",
   "execution_count": 6,
   "metadata": {},
   "outputs": [
    {
     "name": "stdout",
     "output_type": "stream",
     "text": [
      "3 4 21 36 10 28 35 5 24 42\n",
      "4 0\n"
     ]
    }
   ],
   "source": [
    "def breakingRecords(scores):\n",
    "    high  = low = scores[0]\n",
    "    high_freq = low_freq = 0\n",
    "    for i in range(1,len(scores)):\n",
    "        if scores[i] > high:\n",
    "            high = scores[i]\n",
    "            high_freq += 1\n",
    "        if scores[i] <  low:\n",
    "            low = scores[i]\n",
    "            low_freq += 1\n",
    "    return high_freq,low_freq\n",
    "\n",
    "scores = list(map(int, input().rstrip().split()))\n",
    "result = breakingRecords(scores)\n",
    "print((' '.join(map(str, result))))\n"
   ]
  },
  {
   "cell_type": "code",
   "execution_count": null,
   "metadata": {},
   "outputs": [],
   "source": []
  },
  {
   "cell_type": "code",
   "execution_count": null,
   "metadata": {},
   "outputs": [],
   "source": []
  }
 ],
 "metadata": {
  "kernelspec": {
   "display_name": "Python 3",
   "language": "python",
   "name": "python3"
  },
  "language_info": {
   "codemirror_mode": {
    "name": "ipython",
    "version": 3
   },
   "file_extension": ".py",
   "mimetype": "text/x-python",
   "name": "python",
   "nbconvert_exporter": "python",
   "pygments_lexer": "ipython3",
   "version": "3.7.4"
  }
 },
 "nbformat": 4,
 "nbformat_minor": 2
}
