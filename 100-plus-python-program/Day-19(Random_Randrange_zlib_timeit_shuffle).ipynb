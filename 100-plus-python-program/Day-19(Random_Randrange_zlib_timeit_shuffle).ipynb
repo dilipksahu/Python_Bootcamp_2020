{
 "cells": [
  {
   "cell_type": "markdown",
   "metadata": {},
   "source": [
    "# Question 75\n",
    "\n",
    "<h3>Question</h3>\n",
    "\n",
    "Please write a program to randomly print a integer number between 7 and 15 inclusive.\n",
    "\n",
    "<h3>Hints</h3>\n",
    "\n",
    "Use random.randrange() to a random integer in a given range.\n",
    "\n",
    "<h3>Solution:</h3>"
   ]
  },
  {
   "cell_type": "code",
   "execution_count": 19,
   "metadata": {},
   "outputs": [
    {
     "name": "stdout",
     "output_type": "stream",
     "text": [
      "7\n"
     ]
    }
   ],
   "source": [
    "import random\n",
    "\n",
    "print(random.randrange(7,16))     # syntax: random.randrange(start, stop, step)"
   ]
  },
  {
   "cell_type": "markdown",
   "metadata": {},
   "source": [
    "# Question 76\n",
    "\n",
    "<h3>Question</h3>\n",
    "\n",
    "Please write a program to compress and decompress the string \"hello world!hello world!hello world!hello world!\".\n",
    "\n",
    "<h3>Hints</h3>\n",
    "\n",
    "Use zlib.compress() and zlib.decompress() to compress and decompress a string.\n",
    "\n",
    "<h3>Solution:</h3>"
   ]
  },
  {
   "cell_type": "code",
   "execution_count": 24,
   "metadata": {},
   "outputs": [
    {
     "name": "stdout",
     "output_type": "stream",
     "text": [
      "b'x\\x9c\\xcbH\\xcd\\xc9\\xc9W(\\xcf/\\xcaIQ\\xcc \\x82\\r\\x00\\xbd[\\x11\\xf5'\n",
      "b'hello world!hello world!hello world!hello world!'\n"
     ]
    }
   ],
   "source": [
    "import zlib\n",
    "\n",
    "s = b\"hello world!hello world!hello world!hello world!\"     # convert datatype to byte\n",
    "c = zlib.compress(s)                                        \n",
    "print(c)\n",
    "print(zlib.decompress(c))"
   ]
  },
  {
   "cell_type": "markdown",
   "metadata": {},
   "source": [
    "# Question 77\n",
    "\n",
    "<h3>Question</h3>\n",
    "\n",
    "Please write a program to print the running time of execution of \"1+1\" for 100 times.\n",
    "\n",
    "<h3>Hints</h3>\n",
    "\n",
    "Use timeit() function to measure the running time.\n",
    "\n",
    "<h3>Solutions:</h3>"
   ]
  },
  {
   "cell_type": "code",
   "execution_count": 39,
   "metadata": {},
   "outputs": [
    {
     "name": "stdout",
     "output_type": "stream",
     "text": [
      "3.228534200000013\n"
     ]
    }
   ],
   "source": [
    "import timeit\n",
    "\n",
    "test_code = '''\n",
    "for i in range(100):\n",
    "    x = 1 * 1\n",
    "'''\n",
    "print(timeit.timeit(stmt=test_code))  # syntax: timeit.timeit(stmt, setup,timer, number)"
   ]
  },
  {
   "cell_type": "markdown",
   "metadata": {},
   "source": [
    "### OR"
   ]
  },
  {
   "cell_type": "code",
   "execution_count": 45,
   "metadata": {},
   "outputs": [
    {
     "name": "stdout",
     "output_type": "stream",
     "text": [
      "1003\n"
     ]
    }
   ],
   "source": [
    "# Effective\n",
    "import datetime\n",
    "\n",
    "before = datetime.datetime.now()\n",
    "for i in range(100):\n",
    "    x = 1 * 1\n",
    "after = datetime.datetime.now()\n",
    "execution_time = after - before\n",
    "print(execution_time.microseconds)"
   ]
  },
  {
   "cell_type": "markdown",
   "metadata": {},
   "source": [
    "### OR"
   ]
  },
  {
   "cell_type": "code",
   "execution_count": 55,
   "metadata": {},
   "outputs": [
    {
     "name": "stdout",
     "output_type": "stream",
     "text": [
      "-0.0009975433349609375\n"
     ]
    }
   ],
   "source": [
    "import time\n",
    "\n",
    "after = time.time()\n",
    "for i in range(100):\n",
    "    x = 1 * 1\n",
    "before = time.time()\n",
    "execution_time = after - before\n",
    "print(execution_time)"
   ]
  },
  {
   "cell_type": "markdown",
   "metadata": {},
   "source": [
    "# Question 78\n",
    "\n",
    "<h3>Question</h3>\n",
    "\n",
    "Please write a program to shuffle and print the list [3,6,7,8].\n",
    "\n",
    "<h3>Hints</h3>\n",
    "\n",
    "Use shuffle() function to shuffle a list.\n",
    "\n",
    "<h3>Solutions:</h3>"
   ]
  },
  {
   "cell_type": "code",
   "execution_count": 61,
   "metadata": {},
   "outputs": [
    {
     "name": "stdout",
     "output_type": "stream",
     "text": [
      "[8, 6, 7, 3]\n"
     ]
    }
   ],
   "source": [
    "import random\n",
    "\n",
    "lst = [3,6,7,8]\n",
    "random.shuffle(lst)       # syntax: random.shuffle(sequence, function)\n",
    "print(lst)"
   ]
  },
  {
   "cell_type": "markdown",
   "metadata": {},
   "source": [
    "### OR"
   ]
  },
  {
   "cell_type": "code",
   "execution_count": 68,
   "metadata": {},
   "outputs": [
    {
     "name": "stdout",
     "output_type": "stream",
     "text": [
      "[8, 6, 3, 7]\n"
     ]
    }
   ],
   "source": [
    "import random\n",
    "\n",
    "lst = [3,6,7,8]\n",
    "seed = 7              # The random number generator needs a number to start with (a seed value), to be able to generate a random number.\n",
    "random.Random(seed).shuffle(lst)  \n",
    "print(lst)"
   ]
  },
  {
   "cell_type": "markdown",
   "metadata": {},
   "source": [
    "# Question 79\n",
    "\n",
    "<h3>Question</h3>\n",
    "\n",
    "Please write a program to generate all sentences where subject is in [\"I\", \"You\"] and verb is in [\"Play\", \"Love\"] and the object is in [\"Hockey\",\"Football\"].\n",
    "\n",
    "<h3>Hints</h3>\n",
    "\n",
    "Use list[index] notation to get a element from a list.\n",
    "\n",
    "<h3>Solutions:</h3>"
   ]
  },
  {
   "cell_type": "code",
   "execution_count": 73,
   "metadata": {},
   "outputs": [
    {
     "name": "stdout",
     "output_type": "stream",
     "text": [
      "I Play Hockey\n",
      "I Play Football\n",
      "I Love Hockey\n",
      "I Love Football\n",
      "You Play Hockey\n",
      "You Play Football\n",
      "You Love Hockey\n",
      "You Love Football\n"
     ]
    }
   ],
   "source": [
    "subjects =  [\"I\", \"You\"]\n",
    "verbs = [\"Play\", \"Love\"]\n",
    "objects = [\"Hockey\",\"Football\"]\n",
    "\n",
    "for subject in subjects:\n",
    "    for verb in verbs:\n",
    "        for object in objects:\n",
    "            print(f\"{subject} {verb} {object}\")\n"
   ]
  },
  {
   "cell_type": "code",
   "execution_count": null,
   "metadata": {},
   "outputs": [],
   "source": []
  }
 ],
 "metadata": {
  "kernelspec": {
   "display_name": "Python 3",
   "language": "python",
   "name": "python3"
  },
  "language_info": {
   "codemirror_mode": {
    "name": "ipython",
    "version": 3
   },
   "file_extension": ".py",
   "mimetype": "text/x-python",
   "name": "python",
   "nbconvert_exporter": "python",
   "pygments_lexer": "ipython3",
   "version": "3.7.4"
  }
 },
 "nbformat": 4,
 "nbformat_minor": 2
}
