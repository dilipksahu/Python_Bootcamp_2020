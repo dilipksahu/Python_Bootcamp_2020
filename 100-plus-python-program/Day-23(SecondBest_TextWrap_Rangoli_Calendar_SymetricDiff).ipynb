{
 "cells": [
  {
   "cell_type": "markdown",
   "metadata": {},
   "source": [
    "# Question 95\n",
    "\n",
    "<h3>Question</h3>\n",
    "\n",
    "Given the participants' score sheet for your University Sports Day, you are required to find the runner-up score. You are given scores. Store them in a list and find the score of the runner-up.\n",
    "\n",
    "If the following string is given as input to the program:\n",
    "\n",
    "<b>5 2 3 6 6 5</b>\n",
    "\n",
    "Then, the output of the program should be:\n",
    "\n",
    "<b>5</b>\n",
    "\n",
    "<h3>Hints</h3>\n",
    "\n",
    "Make the scores unique and then find 2nd best number\n",
    "\n",
    "<h3>Solutions:</h3>"
   ]
  },
  {
   "cell_type": "code",
   "execution_count": 7,
   "metadata": {},
   "outputs": [
    {
     "name": "stdout",
     "output_type": "stream",
     "text": [
      "4 5 2 4 8 5 7 8\n",
      "[4, 5, 2, 4, 8, 5, 7, 8]\n",
      "8\n"
     ]
    }
   ],
   "source": [
    "scores = list(map(int,input().split()))\n",
    "if scores[0] > scores[1]:\n",
    "    winner,runup  = scores[0],scores[1]\n",
    "else:\n",
    "    winner,runup  = scores[1],scores[0]\n",
    "    \n",
    "for i in range(2,len(scores)):\n",
    "    if scores[i] > winner:\n",
    "        runup = winner\n",
    "        winner = scores[i]\n",
    "    elif scores[i] > runup:\n",
    "        runup = scores[i]\n",
    "\n",
    "print(scores)\n",
    "print(runup)"
   ]
  },
  {
   "cell_type": "markdown",
   "metadata": {},
   "source": [
    "### OR"
   ]
  },
  {
   "cell_type": "code",
   "execution_count": 10,
   "metadata": {},
   "outputs": [
    {
     "name": "stdout",
     "output_type": "stream",
     "text": [
      "5 2 3 6 8 4 9 8 \n",
      "8\n"
     ]
    }
   ],
   "source": [
    "scores = list(map(int,input().split()))\n",
    "scores = list(set(scores))\n",
    "scores.sort()\n",
    "print(scores[-2])"
   ]
  },
  {
   "cell_type": "markdown",
   "metadata": {},
   "source": [
    "# Question 96\n",
    "\n",
    "<h3>Question</h3>\n",
    "\n",
    "You are given a string S and width W. Your task is to wrap the string into a paragraph of width.\n",
    "\n",
    "If the following string is given as input to the program:\n",
    "\n",
    "<b>ABCDEFGHIJKLIMNOQRSTUVWXYZ 4</b>\n",
    "\n",
    "Then, the output of the program should be:\n",
    "\n",
    "<b>ABCD EFGH IJKL IMNO QRST UVWX YZ</b>\n",
    "\n",
    "<h3>Hints</h3>\n",
    "\n",
    "Use wrap function of textwrap module\n",
    "\n",
    "<h3>Solutions:</h3>"
   ]
  },
  {
   "cell_type": "code",
   "execution_count": 51,
   "metadata": {},
   "outputs": [
    {
     "name": "stdout",
     "output_type": "stream",
     "text": [
      "ABCDEFGHIJKLIMNOQRSTUVWXYZ \n",
      "4\n",
      "ABCD EFGH IJKL IMNO QRST UVWX YZ\n"
     ]
    }
   ],
   "source": [
    "# textwrap.fill\n",
    "import textwrap\n",
    "\n",
    "string,width = input(), int(input())\n",
    "\n",
    "res = textwrap.fill(string,width).split()  # syntax : textwrap.fill(sample_text, width = 50) return text of string\n",
    "print(\" \".join(res))"
   ]
  },
  {
   "cell_type": "markdown",
   "metadata": {},
   "source": [
    "### OR"
   ]
  },
  {
   "cell_type": "code",
   "execution_count": 54,
   "metadata": {},
   "outputs": [
    {
     "name": "stdout",
     "output_type": "stream",
     "text": [
      "ABCDEFGHIJKLIMNOQRSTUVWXYZ 4\n",
      "ABCD EFGH IJKL IMNO QRST UVWX YZ\n"
     ]
    }
   ],
   "source": [
    "#textwrap.wrap\n",
    "import textwrap\n",
    "\n",
    "def wrap(string,width):\n",
    "    ns = textwrap.wrap(string,width)\n",
    "    return ns\n",
    "\n",
    "string,width =  map(str,input().split())    # syntax : textwrap.fill(sample_text, width = 50) return text of List\n",
    "result = wrap(string,int(width))\n",
    "print(\" \".join(result))"
   ]
  },
  {
   "cell_type": "markdown",
   "metadata": {},
   "source": [
    "### OR"
   ]
  },
  {
   "cell_type": "code",
   "execution_count": 38,
   "metadata": {},
   "outputs": [
    {
     "name": "stdout",
     "output_type": "stream",
     "text": [
      "ABCDEFGHIJKLIMNOQRSTUVWXYZ 4\n",
      "ABCD EFGH IJKL IMNO QRST UVWX YZ\n"
     ]
    }
   ],
   "source": [
    "# General\n",
    "S,W = map(str,input().split())\n",
    "temp = \"\"\n",
    "for i in S:\n",
    "    temp += i\n",
    "    if len(temp)% int(W) == 0:\n",
    "        print(temp,end=\" \")\n",
    "        temp = \"\"\n",
    "print(temp)"
   ]
  },
  {
   "cell_type": "markdown",
   "metadata": {},
   "source": [
    "# Question 97\n",
    "\n",
    "<h3>Question</h3>\n",
    "\n",
    "You are given an integer, N. Your task is to print an alphabet rangoli of size N. (Rangoli is a form of Indian folk art based on creation of patterns.)\n",
    "\n",
    "Different sizes of alphabet rangoli are shown below:\n",
    "\n",
    "<b>\n",
    "$size = 3$\n",
    "\n",
    "----c----\n",
    "\n",
    "--c-b-c--\n",
    "\n",
    "c-b-a-b-c\n",
    "\n",
    "--c-b-c--\n",
    "\n",
    "----c----\n",
    "\n",
    "$size = 5$\n",
    "\n",
    "--------e--------\n",
    "\n",
    "------e-d-e------\n",
    "\n",
    "----e-d-c-d-e----\n",
    "\n",
    "--e-d-c-b-c-d-e--\n",
    "\n",
    "e-d-c-b-a-b-c-d-e\n",
    "\n",
    "--e-d-c-b-c-d-e--\n",
    "\n",
    "----e-d-c-d-e----\n",
    "\n",
    "------e-d-e------\n",
    "\n",
    "--------e--------\n",
    "\n",
    "</b>\n",
    "<h3>Hints</h3>\n",
    "\n",
    "First print the half of the Rangoli in the given way and save each line in a list. Then print the list in reverse order to get the rest.\n",
    "\n",
    "<h3>Solutions:</h3>"
   ]
  },
  {
   "cell_type": "code",
   "execution_count": 87,
   "metadata": {},
   "outputs": [
    {
     "name": "stdout",
     "output_type": "stream",
     "text": [
      "5\n",
      "--------e--------\n",
      "------e-d-e------\n",
      "----e-d-c-d-e----\n",
      "--e-d-c-b-c-d-e--\n",
      "e-d-c-b-a-b-c-d-e\n",
      "--e-d-c-b-c-d-e--\n",
      "----e-d-c-d-e----\n",
      "------e-d-e------\n",
      "--------e--------\n"
     ]
    }
   ],
   "source": [
    "import string\n",
    "\n",
    "\n",
    "def print_rangoli(size):\n",
    "    n = size\n",
    "    alph = string.ascii_lowercase\n",
    "    width = 4 * n - 3\n",
    "\n",
    "    ans = []\n",
    "    for i in range(n):\n",
    "        left = \"-\".join(alph[n - i - 1 : n])\n",
    "        mid = left[-1:0:-1] + left            # reverse of left-1\n",
    "        final = mid.center(width,\"-\")\n",
    "        ans.append(final)\n",
    "        print(final)\n",
    "    if len(ans) >1:\n",
    "        for i in ans[-2::-1]:\n",
    "            print(i)\n",
    "        \n",
    "if __name__ == \"__main__\":\n",
    "    n = int(input())\n",
    "    print_rangoli(n)"
   ]
  },
  {
   "cell_type": "code",
   "execution_count": 78,
   "metadata": {},
   "outputs": [
    {
     "data": {
      "text/plain": [
       "'c-b-'"
      ]
     },
     "execution_count": 78,
     "metadata": {},
     "output_type": "execute_result"
    }
   ],
   "source": [
    "left = \"a-b-c\"\n",
    "left[-1:0:-1]"
   ]
  },
  {
   "cell_type": "code",
   "execution_count": 79,
   "metadata": {},
   "outputs": [
    {
     "data": {
      "text/plain": [
       "'fedcb'"
      ]
     },
     "execution_count": 79,
     "metadata": {},
     "output_type": "execute_result"
    }
   ],
   "source": [
    "left = 'abcdef'\n",
    "left[-1:0:-1]"
   ]
  },
  {
   "cell_type": "markdown",
   "metadata": {},
   "source": [
    "# Question 98\n",
    "\n",
    "<h3>Question</h3>\n",
    "\n",
    "You are given a date. Your task is to find what the day is on that date.\n",
    "\n",
    "Input\n",
    "\n",
    "A single line of input containing the space separated month, day and year, respectively, in MM DD YYYY format.\n",
    "\n",
    "<b>08 05 2015</b>\n",
    "\n",
    "Output\n",
    "\n",
    "Output the correct day in capital letters.\n",
    "\n",
    "<b>WEDNESDAY</b>\n",
    "\n",
    "<h3>Hints</h3>\n",
    "\n",
    "Use weekday function of calender module\n",
    "\n",
    "<h3>Solution:</h3>"
   ]
  },
  {
   "cell_type": "code",
   "execution_count": 100,
   "metadata": {},
   "outputs": [
    {
     "name": "stdout",
     "output_type": "stream",
     "text": [
      "08 05 2015\n",
      "WEDNESDAY\n"
     ]
    }
   ],
   "source": [
    "import calendar\n",
    "\n",
    "month,day,year = map(int,input().split())\n",
    "dayId = calendar.weekday(year,month,day)\n",
    "dayName = calendar.day_name[dayId].upper()\n",
    "print(dayName)"
   ]
  },
  {
   "cell_type": "markdown",
   "metadata": {},
   "source": [
    "# Question 99\n",
    "\n",
    "<h3>Question</h3>\n",
    "\n",
    "Given 2 sets of integers, M and N, print their symmetric difference in ascending order. The term symmetric difference indicates those values that exist in either M or N but do not exist in both.\n",
    "\n",
    "Input\n",
    "\n",
    "The first line of input contains an integer, M.The second line contains M space-separated integers.The third line contains an integer, N.The fourth line contains N space-separated integers.\n",
    "\n",
    "<b>4 2 4 5 9 4 2 4 11 12</b>\n",
    "\n",
    "Output\n",
    "\n",
    "Output the symmetric difference integers in ascending order, one per line.\n",
    "\n",
    "<b>5 9 11 12</b>\n",
    "\n",
    "<h3>Hints</h3>\n",
    "\n",
    "Use \\'^\\' to make symmetric difference operation.\n",
    "\n",
    "<h3>Solution:</h3>"
   ]
  },
  {
   "cell_type": "code",
   "execution_count": 3,
   "metadata": {},
   "outputs": [
    {
     "name": "stdout",
     "output_type": "stream",
     "text": [
      "4\n",
      "1 5 3 4\n",
      "6 \n",
      "5 2 4 6 7 4\n",
      "1\n",
      "2\n",
      "3\n",
      "6\n",
      "7\n"
     ]
    }
   ],
   "source": [
    "n = int(input())\n",
    "set1 = set(map(int, input().split()))\n",
    "\n",
    "m = int(input())\n",
    "set2 = set(map(int, input().split()))\n",
    "\n",
    "ans = list(set1 ^ set2)          \n",
    "ans.sort()\n",
    "for i in ans:\n",
    "    print(i)"
   ]
  },
  {
   "cell_type": "code",
   "execution_count": null,
   "metadata": {},
   "outputs": [],
   "source": []
  }
 ],
 "metadata": {
  "kernelspec": {
   "display_name": "Python 3",
   "language": "python",
   "name": "python3"
  },
  "language_info": {
   "codemirror_mode": {
    "name": "ipython",
    "version": 3
   },
   "file_extension": ".py",
   "mimetype": "text/x-python",
   "name": "python",
   "nbconvert_exporter": "python",
   "pygments_lexer": "ipython3",
   "version": "3.7.4"
  }
 },
 "nbformat": 4,
 "nbformat_minor": 2
}
