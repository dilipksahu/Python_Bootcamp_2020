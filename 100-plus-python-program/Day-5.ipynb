{
 "cells": [
  {
   "cell_type": "markdown",
   "metadata": {},
   "source": [
    "# Question 16"
   ]
  },
  {
   "cell_type": "markdown",
   "metadata": {},
   "source": [
    "### Question:\n",
    "    Use a list comprehension to square each odd number in a list. The list is input by a sequence of comma-separated numbers. >Suppose the following input is supplied to the program:\n",
    "\n",
    "    1,2,3,4,5,6,7,8,9\n",
    "\n",
    "    Then, the output should be:\n",
    "\n",
    "    1,9,25,49,81\n",
    "\n",
    "    Hints:\n",
    "    In case of input data being supplied to the question, it should be assumed to be a console input.\n",
    "\n",
    "### Solutions:"
   ]
  },
  {
   "cell_type": "code",
   "execution_count": 5,
   "metadata": {},
   "outputs": [
    {
     "name": "stdout",
     "output_type": "stream",
     "text": [
      "1,2,3,4,5,6,7,8,9\n",
      "1,9,25,49,81\n"
     ]
    }
   ],
   "source": [
    "lst = input().split(\",\")\n",
    "lst = [ str(int(i)**2) for i in lst if int(i)%2 != 0]\n",
    "print(\",\".join(lst))"
   ]
  },
  {
   "cell_type": "markdown",
   "metadata": {},
   "source": [
    "### OR"
   ]
  },
  {
   "cell_type": "code",
   "execution_count": 6,
   "metadata": {},
   "outputs": [
    {
     "name": "stdout",
     "output_type": "stream",
     "text": [
      "1,2,3,4,5,6,7,8,9\n",
      "1,9,25,49,81\n"
     ]
    }
   ],
   "source": [
    "print(\",\".join([ str(int(i)**2) for i in input().split(\",\") if int(i)%2 != 0]))"
   ]
  },
  {
   "cell_type": "markdown",
   "metadata": {},
   "source": [
    "### OR"
   ]
  },
  {
   "cell_type": "code",
   "execution_count": null,
   "metadata": {},
   "outputs": [],
   "source": [
    "\"\"\" Not Recommended \"\"\"\n",
    "\n",
    "lst = input().split(\",\")  # splits in comma position and set up in list\n",
    "\n",
    "seq = []\n",
    "lst = [int(i) for i in lst]  # converts string to integer\n",
    "for i in lst:\n",
    "    if i % 2 != 0:\n",
    "        i = i * i\n",
    "        seq.append(i)\n",
    "\n",
    "\n",
    "seq = [\n",
    "    str(i) for i in seq\n",
    "]  # All the integers are converted to string to be able to apply join operation\n",
    "print(\",\".join(seq))"
   ]
  },
  {
   "cell_type": "markdown",
   "metadata": {},
   "source": [
    "# Question 17"
   ]
  },
  {
   "cell_type": "markdown",
   "metadata": {},
   "source": [
    "### Question:\n",
    "    Write a program that computes the net amount of a bank account based a transaction log from console input. The transaction log format is shown as following:\n",
    "\n",
    "    D 100\n",
    "    W 200\n",
    "    D means deposit while W means withdrawal.\n",
    "    Suppose the following input is supplied to the program:\n",
    "\n",
    "    D 300\n",
    "    D 300\n",
    "    W 200\n",
    "    D 100\n",
    "    Then, the output should be:\n",
    "\n",
    "    500\n",
    "\n",
    "### Solutions:"
   ]
  },
  {
   "cell_type": "code",
   "execution_count": 23,
   "metadata": {},
   "outputs": [
    {
     "name": "stdout",
     "output_type": "stream",
     "text": [
      "D 200\n",
      "D 300\n",
      "W 200\n",
      "D 200\n",
      "\n",
      "500\n"
     ]
    }
   ],
   "source": [
    "total = 0\n",
    "while True:\n",
    "    s = input().split()\n",
    "    if not s:               # break if the string is empty\n",
    "        break         \n",
    "    cm, num = map(str, s)   # two inputs are distributed in cm and num in string data type\n",
    "    if cm == \"D\":\n",
    "        total += int(num)\n",
    "    if cm == \"W\":\n",
    "        total -= int(num)\n",
    "print(total)"
   ]
  },
  {
   "cell_type": "markdown",
   "metadata": {},
   "source": [
    "### OR"
   ]
  },
  {
   "cell_type": "code",
   "execution_count": 33,
   "metadata": {},
   "outputs": [
    {
     "name": "stdout",
     "output_type": "stream",
     "text": [
      "D 200\n",
      "D 300\n",
      "W 200\n",
      "D 300\n",
      "\n",
      "600\n"
     ]
    }
   ],
   "source": [
    "total = 0\n",
    "while True:\n",
    "    try:\n",
    "        cm, num = map(str,input().split())\n",
    "    except ValueError as e:\n",
    "        break\n",
    "        \n",
    "    if cm == \"D\":\n",
    "        total += int(num)\n",
    "    if cm == \"W\":\n",
    "        total -= int(num)\n",
    "print(total)"
   ]
  },
  {
   "cell_type": "code",
   "execution_count": 1,
   "metadata": {},
   "outputs": [
    {
     "name": "stdout",
     "output_type": "stream",
     "text": [
      "Deposit/Whitdrow/Balance/Quit? D/W/B/Q: d\n",
      "How much would you like to deposit? 200\n",
      "Deposit/Whitdrow/Balance/Quit? D/W/B/Q: w\n",
      "How much would you like to withdrow? 100\n",
      "Deposit/Whitdrow/Balance/Quit? D/W/B/Q: d\n",
      "How much would you like to deposit? 200\n",
      "Deposit/Whitdrow/Balance/Quit? D/W/B/Q: b\n",
      "300\n",
      "Deposit/Whitdrow/Balance/Quit? D/W/B/Q: q\n"
     ]
    }
   ],
   "source": [
    "account = 0\n",
    "while True:\n",
    "    action = input(\"Deposit/Whitdrow/Balance/Quit? D/W/B/Q: \").lower()\n",
    "    if action == \"d\":\n",
    "        deposit = input(\"How much would you like to deposit? \")\n",
    "        account = account + int(deposit)\n",
    "    elif action == \"w\":\n",
    "        withdrow = input(\"How much would you like to withdrow? \")\n",
    "        account = account - int(withdrow)\n",
    "    elif action == \"b\":\n",
    "        print(account)\n",
    "    else:\n",
    "        break"
   ]
  },
  {
   "cell_type": "markdown",
   "metadata": {},
   "source": [
    "### OR"
   ]
  },
  {
   "cell_type": "code",
   "execution_count": 5,
   "metadata": {},
   "outputs": [
    {
     "name": "stdout",
     "output_type": "stream",
     "text": [
      "D 200\n",
      "D 200\n",
      "W 100\n",
      "\n",
      "300\n"
     ]
    }
   ],
   "source": [
    "lines = []\n",
    "while True:\n",
    "    s = input()\n",
    "    if s == \"\":\n",
    "        break\n",
    "    else:\n",
    "        lines.append(s)\n",
    "        \n",
    "lst =  [ int(i[2:]) if i[0] == \"D\" else -int(i[2:]) for i in lines ]\n",
    "print(sum(lst))"
   ]
  },
  {
   "cell_type": "markdown",
   "metadata": {},
   "source": [
    "### OR"
   ]
  },
  {
   "cell_type": "code",
   "execution_count": 6,
   "metadata": {},
   "outputs": [
    {
     "name": "stdout",
     "output_type": "stream",
     "text": [
      "D 200\n",
      "D 300\n",
      "W 100\n",
      "\n",
      "400\n"
     ]
    }
   ],
   "source": [
    "lines = []\n",
    "while True:\n",
    "    s = input()\n",
    "    if s == \"\":\n",
    "        break\n",
    "    else:\n",
    "        lines.append(s)\n",
    "        \n",
    "lst =  (int(i[2:]) if i[0] == \"D\" else -int(i[2:]) for i in lines )\n",
    "print(sum(lst))"
   ]
  },
  {
   "cell_type": "code",
   "execution_count": null,
   "metadata": {},
   "outputs": [],
   "source": []
  }
 ],
 "metadata": {
  "kernelspec": {
   "display_name": "Python 3",
   "language": "python",
   "name": "python3"
  },
  "language_info": {
   "codemirror_mode": {
    "name": "ipython",
    "version": 3
   },
   "file_extension": ".py",
   "mimetype": "text/x-python",
   "name": "python",
   "nbconvert_exporter": "python",
   "pygments_lexer": "ipython3",
   "version": "3.7.4"
  }
 },
 "nbformat": 4,
 "nbformat_minor": 2
}
