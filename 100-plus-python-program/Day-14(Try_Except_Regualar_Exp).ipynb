{
 "cells": [
  {
   "cell_type": "markdown",
   "metadata": {},
   "source": [
    "# Question 51\n",
    "\n",
    "<h3>Question</h3>\n",
    "\n",
    "Write a function to compute 5/0 and use try/except to catch the exceptions.\n",
    "\n",
    "<h3>Hints</h3>\n",
    "\n",
    "Use try/except to catch exceptions.\n",
    "\n",
    "<h3>Solutions:</h3>"
   ]
  },
  {
   "cell_type": "code",
   "execution_count": 8,
   "metadata": {},
   "outputs": [
    {
     "name": "stdout",
     "output_type": "stream",
     "text": [
      "Why on earth you are dividing a number by ZERO!!\n"
     ]
    }
   ],
   "source": [
    "def compute():\n",
    "    return 5 / 0\n",
    "\n",
    "try:\n",
    "    print(compute())\n",
    "except ZeroDivisionError as ze:\n",
    "    print(\"Why on earth you are dividing a number by ZERO!!\")\n",
    "except:\n",
    "    print(\"Any other exception\")"
   ]
  },
  {
   "cell_type": "markdown",
   "metadata": {},
   "source": [
    "# Question 52\n",
    "\n",
    "<h3>Question</h3>\n",
    "\n",
    "Define a custom exception class which takes a string message as attribute.\n",
    "\n",
    "<h3>Hints</h3>\n",
    "\n",
    "To define a custom exception, we need to define a class inherited from Exception.\n",
    "\n",
    "<h3>Solutions:</h3>"
   ]
  },
  {
   "cell_type": "code",
   "execution_count": 13,
   "metadata": {},
   "outputs": [
    {
     "name": "stdout",
     "output_type": "stream",
     "text": [
      "10\n",
      "The error raised - You guess right\n"
     ]
    }
   ],
   "source": [
    "class CustomException(Exception):\n",
    "    \n",
    "    def __init__(self,message):\n",
    "        self.message = message\n",
    "        \n",
    "n = int(input())\n",
    "\n",
    "try:\n",
    "    if n < 10:\n",
    "        raise CustomException(\"Number is less than 10\")\n",
    "    elif n > 10:\n",
    "        raise CustomException(\"Number is greater than 10\")\n",
    "    else:\n",
    "        raise CustomException(\"You guess right\")\n",
    "except CustomException as ce:\n",
    "    print(\"The error raised - \" + ce.message)"
   ]
  },
  {
   "cell_type": "markdown",
   "metadata": {},
   "source": [
    "# Question 53\n",
    "\n",
    "<h3>Question</h3>\n",
    "\n",
    "Assuming that we have some email addresses in the \"username@companyname.com\" format, please write program to print the user name of a given email address. Both user names and company names are composed of letters only.\n",
    "\n",
    "Example: If the following email address is given as input to the program:\n",
    "\n",
    "<b>john@google.com</b>\n",
    "\n",
    "Then, the output of the program should be:\n",
    "\n",
    "<b>john</b>\n",
    "\n",
    "In case of input data being supplied to the question, it should be assumed to be a console input.\n",
    "\n",
    "<h3>Hints</h3>\n",
    "\n",
    "Use \\w to match letters.\n",
    "\n",
    "<h3>Solutions:</h3>"
   ]
  },
  {
   "cell_type": "code",
   "execution_count": 15,
   "metadata": {},
   "outputs": [
    {
     "name": "stdout",
     "output_type": "stream",
     "text": [
      "john@google.com\n",
      "john\n"
     ]
    }
   ],
   "source": [
    "email = input()\n",
    "username = \"\"\n",
    "for i in email:\n",
    "    if i == \"@\":\n",
    "        break\n",
    "    else:\n",
    "        username += i\n",
    "print(username)"
   ]
  },
  {
   "cell_type": "markdown",
   "metadata": {},
   "source": [
    "### OR"
   ]
  },
  {
   "cell_type": "code",
   "execution_count": 5,
   "metadata": {},
   "outputs": [
    {
     "name": "stdout",
     "output_type": "stream",
     "text": [
      "john@google.com elise@python.com\n",
      "john\n"
     ]
    }
   ],
   "source": [
    "# Split function\n",
    "email = input()\n",
    "email = email.split(\"@\")\n",
    "print(email[0])"
   ]
  },
  {
   "cell_type": "markdown",
   "metadata": {},
   "source": [
    "### OR"
   ]
  },
  {
   "cell_type": "code",
   "execution_count": 4,
   "metadata": {},
   "outputs": [
    {
     "name": "stdout",
     "output_type": "stream",
     "text": [
      "['john', 'elise']\n"
     ]
    }
   ],
   "source": [
    "# Regular expression\n",
    "import re\n",
    "\n",
    "email = \"john@google.com elise@python.com\"\n",
    "pattern = \"(\\w+)@\\w+.com\"\n",
    "username = re.findall(pattern,email)\n",
    "print(username)"
   ]
  },
  {
   "cell_type": "code",
   "execution_count": null,
   "metadata": {},
   "outputs": [],
   "source": []
  }
 ],
 "metadata": {
  "kernelspec": {
   "display_name": "Python 3",
   "language": "python",
   "name": "python3"
  },
  "language_info": {
   "codemirror_mode": {
    "name": "ipython",
    "version": 3
   },
   "file_extension": ".py",
   "mimetype": "text/x-python",
   "name": "python",
   "nbconvert_exporter": "python",
   "pygments_lexer": "ipython3",
   "version": "3.7.4"
  }
 },
 "nbformat": 4,
 "nbformat_minor": 2
}
