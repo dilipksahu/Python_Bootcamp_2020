{
 "cells": [
  {
   "cell_type": "markdown",
   "metadata": {},
   "source": [
    "# Question 18\n",
    "<strong>\n",
    "<h3>Question:</h3>\n",
    "    \n",
    "A website requires the users to input username and password to register. Write a program to check the validity of password input by users.\n",
    "\n",
    "Following are the criteria for checking the password:\n",
    "<ul>\n",
    "<li>At least 1 letter between [a-z]</li>\n",
    "<li>At least 1 number between [0-9]</li>\n",
    "<li>At least 1 letter between [A-Z]</li>\n",
    "<li>At least 1 character from [$#@]</li>\n",
    "<li>Minimum length of transaction password: 6</li>\n",
    "<li>Maximum length of transaction password: 12</li>\n",
    "<ul>\n",
    "\n",
    "Your program should accept a sequence of comma separated passwords and will check them according to the above criteria. Passwords that match the criteria are to be printed, each separated by a comma.\n",
    "\n",
    "Example\n",
    "\n",
    "If the following passwords are given as input to the program:\n",
    "\n",
    "\n",
    "ABd1234@1,aF1#,2w3E*,2We3345\n",
    "\n",
    "Then, the output of the program should be:\n",
    "\n",
    "ABd1234@1\n",
    "\n",
    "\n",
    "Hints:\n",
    "In case of input data being supplied to the question, it should be assumed to be a console input.\n",
    "</strong>\n",
    "<h3>Solutions:</h3>"
   ]
  },
  {
   "cell_type": "code",
   "execution_count": 14,
   "metadata": {},
   "outputs": [
    {
     "name": "stdout",
     "output_type": "stream",
     "text": [
      "ABd1234@1,aF1#,2w3E*,2We3345\n",
      "ABd1234@1\n"
     ]
    }
   ],
   "source": [
    "def is_low(x):          # Returns True  if the string has a lowercase\n",
    "    for i in x:\n",
    "        if \"a\" <= i <= \"z\":\n",
    "            return True\n",
    "    return False\n",
    "\n",
    "def is_up(x):            # Returns True  if the string has a uppercase\n",
    "    for i in x:\n",
    "        if \"A\" <= i <= \"Z\":\n",
    "            return True\n",
    "    return False\n",
    "    \n",
    "def is_num(x):          # Returns True  if the string has a numeric digit\n",
    "    for i in x:\n",
    "        if \"0\" <= i <= \"9\":\n",
    "            return True\n",
    "    return False\n",
    "    \n",
    "def is_other(x):        # Returns True if the string has any \"$#@\"\n",
    "    for i in x:\n",
    "        if i == \"$\" or i == \"#\" or i == \"@\":\n",
    "            return True\n",
    "    return False\n",
    "\n",
    "s = input().split(\",\")\n",
    "lst = []\n",
    "\n",
    "for i in s:\n",
    "    length = len(i)\n",
    "    if (6 <= length \n",
    "        and length <= 12\n",
    "        and is_low(i)\n",
    "        and is_up(i)\n",
    "        and is_num(i)\n",
    "        and is_other(i) ):   # Checks if all the requirments are fulfilled\n",
    "        lst.append(i)\n",
    "               \n",
    "print(\",\".join(lst))"
   ]
  },
  {
   "cell_type": "code",
   "execution_count": 28,
   "metadata": {},
   "outputs": [
    {
     "name": "stdout",
     "output_type": "stream",
     "text": [
      "ABd1234@1,aF1#,2w3E*,2We3345\n",
      "ABd1234@1\n"
     ]
    }
   ],
   "source": [
    "\n",
    "def check(x):\n",
    "    cnt = 6 <= len(x) and len(x) <= 12     # check condition and return True(1)/Flase(0) \n",
    "    \n",
    "    for i in x:                            # return 1 when condition True\n",
    "        if i.isupper():\n",
    "            cnt += 1\n",
    "            break\n",
    "    for i in x:                            # return 1 when condition True\n",
    "        if i.islower():\n",
    "            cnt += 1\n",
    "            break\n",
    "    for i in x:                            # return 1 when condition True\n",
    "        if i.isnumeric():\n",
    "            cnt += 1\n",
    "            break\n",
    "    for i in x:                            # return 1 when condition True\n",
    "        if i == \"@\" or i == \"#\" or i == \"$\":\n",
    "            cnt += 1\n",
    "            break\n",
    "#     print(cnt)\n",
    "    return (\n",
    "        cnt == 5\n",
    "    )  # counting if total 5 all conditions are fulfilled then returns True\n",
    "\n",
    "\n",
    "s = input().split(\",\")\n",
    "lst = filter(\n",
    "    check, s\n",
    ")  # Filter function pick the words from s, those returns True by check() function\n",
    "print(\",\".join(lst))"
   ]
  },
  {
   "cell_type": "code",
   "execution_count": 32,
   "metadata": {},
   "outputs": [
    {
     "name": "stdout",
     "output_type": "stream",
     "text": [
      "ABd1234@1,aF1#,2w3E*,2We3345\n",
      "ABd1234@1\n"
     ]
    }
   ],
   "source": [
    "import re\n",
    "\n",
    "s = input().split(\",\")\n",
    "lst = []\n",
    "for i in s:\n",
    "    cnt = 0\n",
    "    cnt += 6 <= len(i) <= 12                 # return 1 when condition True\n",
    "    cnt += bool(re.search(\"[a-z]\",i))        # return 1 when condition True\n",
    "    cnt += bool(re.search(\"[A-Z]\",i))        # return 1 when condition True\n",
    "    cnt += bool(re.search(\"[0-9]\",i))        # return 1 when condition True\n",
    "    cnt += bool(re.search(\"[$#@]\",i))        # return 1 when condition True\n",
    "    if cnt == 5:\n",
    "        lst.append(i)\n",
    "\n",
    "print(\",\".join(lst))"
   ]
  },
  {
   "cell_type": "markdown",
   "metadata": {},
   "source": [
    "# Question 19\n",
    "\n",
    "<h3>Question:</h3>\n",
    "\n",
    "<strong>    \n",
    "You are required to write a program to sort the (name, age, score) tuples by ascending order where name is string, age and score are numbers. The tuples are input by console. The sort criteria is:\n",
    "<ol>\n",
    "<li>: Sort based on name</li>\n",
    "<li>: Then sort based on age</li>\n",
    "<li>: Then sort by score</li>\n",
    "</ol>\n",
    "The priority is that name > age > score.\n",
    "\n",
    "If the following tuples are given as input to the program:\n",
    "\n",
    "Tom,19,80\n",
    "\n",
    "John,20,90\n",
    "\n",
    "Jony,17,91\n",
    "\n",
    "Jony,17,93\n",
    "\n",
    "Json,21,85\n",
    "\n",
    "Then, the output of the program should be:\n",
    "\n",
    "[('John', '20', '90'), ('Jony', '17', '91'), ('Jony', '17', '93'), ('Json', '21', '85'), ('Tom', '19', '80')]\n",
    "\n",
    "Hints:\n",
    "In case of input data being supplied to the question, it should be assumed to be a console input.We use itemgetter to enable multiple sort keys.\n",
    "</strong>"
   ]
  },
  {
   "cell_type": "code",
   "execution_count": 40,
   "metadata": {},
   "outputs": [
    {
     "name": "stdout",
     "output_type": "stream",
     "text": [
      "Tom,19,80\n",
      "Json,21,85\n",
      "Jony,17,93\n",
      "Jony,17,91\n",
      "John,20,90\n",
      "\n",
      "[('John', '20', '90'), ('Jony', '17', '91'), ('Jony', '17', '93'), ('Json', '21', '85'), ('Tom', '19', '80')]\n"
     ]
    }
   ],
   "source": [
    "lst = []\n",
    "while True:\n",
    "    s = input().split(\",\")\n",
    "    if not s[0]:\n",
    "        break\n",
    "    lst.append(tuple(s))\n",
    "\n",
    "# list.sort(reverse=True|False, key=myFunc)\n",
    "lst.sort(key = \n",
    "         lambda x: (x[0], x[1], x[2]))# here key is defined by lambda and the data is sorted by element priority 0>1>2 in accending order\n",
    "print(lst)"
   ]
  },
  {
   "cell_type": "code",
   "execution_count": null,
   "metadata": {},
   "outputs": [],
   "source": [
    "# list.sort(reverse=True|False, key=myFunc)\n",
    "# sorted(iterable, key=key, reverse=reverse)"
   ]
  },
  {
   "cell_type": "markdown",
   "metadata": {},
   "source": [
    "# Difference between sorted() and sort() functions"
   ]
  },
  {
   "cell_type": "markdown",
   "metadata": {},
   "source": [
    "## sorted()\n",
    "\n",
    "sorted() method sorts the given sequence either in ascending order or in descending order and always return the a sorted list. This method doesnot effect the original sequence.\n",
    "\n",
    "<b>Syntax: sorted(iterable, key, reverse=False)</b>\n",
    "\n",
    "<b>Parameters:</b>\n",
    "<ul>\n",
    "<li>Iterable: sequence (list, tuple, string) or collection (dictionary, set, frozenset) or any other iterator that needs to be sorted.</li>\n",
    "<li>Key(optional): A function that would serve as a key or a basis of sort comparison.</li>\n",
    "<li>Reverse(optional): If set True, then the iterable would be sorted in reverse (descending) order, by default it is set as False.</li>\n",
    "\n",
    "<li>Return Type: Returns a sorted list.</li>\n",
    "<ul>\n",
    "    \n",
    "### Example : Sorting different data types"
   ]
  },
  {
   "cell_type": "code",
   "execution_count": 41,
   "metadata": {},
   "outputs": [
    {
     "name": "stdout",
     "output_type": "stream",
     "text": [
      "['e', 'q', 'r', 't', 'w', 'y']\n",
      "['e', 'q', 'r', 't', 'w', 'y']\n",
      "['h', 'n', 'o', 'p', 't', 'y']\n",
      "['e', 'q', 'r', 't', 'w', 'y']\n",
      "['e', 'q', 'r', 't', 'w', 'y']\n"
     ]
    }
   ],
   "source": [
    "# List  \n",
    "x = ['q', 'w', 'r', 'e', 't', 'y']  \n",
    "print(sorted(x))  \n",
    "    \n",
    "# Tuple  \n",
    "x = ('q', 'w', 'e', 'r', 't', 'y')  \n",
    "print(sorted(x)) \n",
    "  \n",
    "# String-sorted based on ASCII translations  \n",
    "x = \"python\"\n",
    "print(sorted(x))  \n",
    "    \n",
    "# Dictionary  \n",
    "x = {'q':1, 'w':2, 'e':3, 'r':4, 't':5, 'y':6}  \n",
    "print(sorted(x))  \n",
    "    \n",
    "# Set  \n",
    "x = {'q', 'w', 'e', 'r', 't', 'y'}  \n",
    "print(sorted(x)) "
   ]
  },
  {
   "cell_type": "markdown",
   "metadata": {},
   "source": [
    "# sort()\n",
    "\n",
    "sort() function is very similar to sorted() but unlike sorted it returns nothing and makes changes to the original sequence. Moreover, sort() is a method of list class and can only be used with lists.\n",
    "\n",
    "<b>Syntax: List_name.sort(key, reverse=False)</b>\n",
    "\n",
    "<b>Parameters:</b>\n",
    "<ul>\n",
    "<li>key: A function that serves as a key for the sort comparison.</li>\n",
    "<li>reverse: If true, the list is sorted in descending order.</li>\n",
    "\n",
    "<li>Return type: None</li>\n",
    "</ul>\n",
    "\n",
    "### Example:"
   ]
  },
  {
   "cell_type": "code",
   "execution_count": 42,
   "metadata": {},
   "outputs": [
    {
     "name": "stdout",
     "output_type": "stream",
     "text": [
      "[1, 2, 3, 4]\n",
      "[1.68, 2.0, 2.01, 3.28, 3.67]\n",
      "['For', 'Geeks', 'Geeks']\n"
     ]
    }
   ],
   "source": [
    "# Python program to demonstrate \n",
    "# sort() \n",
    "  \n",
    "  \n",
    "# List of Integers  \n",
    "numbers = [1, 3, 4, 2]  \n",
    "    \n",
    "# Sorting list of Integers  \n",
    "numbers.sort()  \n",
    "    \n",
    "print(numbers)  \n",
    "    \n",
    "# List of Floating point numbers  \n",
    "decimalnumber = [2.01, 2.00, 3.67, 3.28, 1.68]  \n",
    "    \n",
    "# Sorting list of Floating point numbers  \n",
    "decimalnumber.sort()  \n",
    "    \n",
    "print(decimalnumber)  \n",
    "    \n",
    "# List of strings  \n",
    "words = [\"Geeks\", \"For\", \"Geeks\"]  \n",
    "    \n",
    "# Sorting list of strings  \n",
    "words.sort()  \n",
    "    \n",
    "print(words)  "
   ]
  },
  {
   "cell_type": "code",
   "execution_count": null,
   "metadata": {},
   "outputs": [],
   "source": []
  }
 ],
 "metadata": {
  "kernelspec": {
   "display_name": "Python 3",
   "language": "python",
   "name": "python3"
  },
  "language_info": {
   "codemirror_mode": {
    "name": "ipython",
    "version": 3
   },
   "file_extension": ".py",
   "mimetype": "text/x-python",
   "name": "python",
   "nbconvert_exporter": "python",
   "pygments_lexer": "ipython3",
   "version": "3.7.4"
  }
 },
 "nbformat": 4,
 "nbformat_minor": 2
}
