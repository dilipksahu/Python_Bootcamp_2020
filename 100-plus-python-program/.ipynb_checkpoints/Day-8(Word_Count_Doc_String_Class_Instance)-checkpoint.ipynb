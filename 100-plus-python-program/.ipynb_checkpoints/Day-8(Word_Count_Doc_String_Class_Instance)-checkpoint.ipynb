{
 "cells": [
  {
   "cell_type": "markdown",
   "metadata": {},
   "source": [
    "# Question 22\n",
    "\n",
    "<h3>Question:</h3>\n",
    "    \n",
    "Write a program to compute the frequency of the words from the input. The output should output after sorting the key alphanumerically.\n",
    "\n",
    "Suppose the following input is supplied to the program:\n",
    "\n",
    "New to Python or choosing between Python 2 and Python 3? Read Python 2 or Python 3.\n",
    "\n",
    "Then, the output should be:\n",
    "<ul>\n",
    "<li>2:2</li>\n",
    "<li>3.:1</li>\n",
    "<li>3?:1</li>\n",
    "<li>New:1</li>\n",
    "<li>Python:5</li>\n",
    "<li>Read:1</li>\n",
    "<li>and:1</li>\n",
    "<li>between:1</li>\n",
    "<li>choosing:1</li>\n",
    "<li>or:2</li>\n",
    "<li>to:1</li>\n",
    "</ul>   \n",
    "<h3>Hints</h3>\n",
    "In case of input data being supplied to the question, it should be assumed to be a console input.\n",
    "\n",
    "<h3>Solutions:</h3>"
   ]
  },
  {
   "cell_type": "code",
   "execution_count": 15,
   "metadata": {},
   "outputs": [
    {
     "name": "stdout",
     "output_type": "stream",
     "text": [
      "New to Python or choosing between Python 2 and Python 3? Read Python 2 or Python 3.\n",
      "<class 'list'>\n",
      "2:2\n",
      "3.:1\n",
      "3?:1\n",
      "New:1\n",
      "Python:5\n",
      "Read:1\n",
      "and:1\n",
      "between:1\n",
      "choosing:1\n",
      "or:2\n",
      "to:1\n"
     ]
    }
   ],
   "source": [
    "# general \n",
    "s = input().split(\" \")\n",
    "output = {}\n",
    "temp = \"\"\n",
    "s = (\" \".join(sorted(s))).split(\" \")\n",
    "# print(type(s))\n",
    "for i in s:\n",
    "    if i != temp:\n",
    "        temp = i\n",
    "        output[i] = 1\n",
    "    else:\n",
    "        output[i] += 1\n",
    "        \n",
    "for k,v in output.items():\n",
    "    print(f\"{k}:{v}\")"
   ]
  },
  {
   "cell_type": "markdown",
   "metadata": {},
   "source": [
    "### OR"
   ]
  },
  {
   "cell_type": "code",
   "execution_count": 17,
   "metadata": {},
   "outputs": [
    {
     "name": "stdout",
     "output_type": "stream",
     "text": [
      "New to Python or choosing between Python 2 and Python 3? Read Python 2 or Python 3.\n",
      "2:2\n",
      "3.:1\n",
      "3?:1\n",
      "New:1\n",
      "Python:5\n",
      "Read:1\n",
      "and:1\n",
      "between:1\n",
      "choosing:1\n",
      "or:2\n",
      "to:1\n"
     ]
    }
   ],
   "source": [
    "# set \n",
    "s = input().split()\n",
    "word = sorted(set(s))    # Unique words in sorted form\n",
    "\n",
    "for i in word:\n",
    "    print(f\"{i}:{s.count(i)}\")     # built-in function count"
   ]
  },
  {
   "cell_type": "markdown",
   "metadata": {},
   "source": [
    "### OR"
   ]
  },
  {
   "cell_type": "code",
   "execution_count": 26,
   "metadata": {},
   "outputs": [
    {
     "name": "stdout",
     "output_type": "stream",
     "text": [
      "New to Python or choosing between Python 2 and Python 3? Read Python 2 or Python 3.\n",
      "[('2', 2), ('3.', 1), ('3?', 1), ('New', 1), ('Python', 5), ('Read', 1), ('and', 1), ('between', 1), ('choosing', 1), ('or', 2), ('to', 1)]\n",
      "2:2\n",
      "3.:1\n",
      "3?:1\n",
      "New:1\n",
      "Python:5\n",
      "Read:1\n",
      "and:1\n",
      "between:1\n",
      "choosing:1\n",
      "or:2\n",
      "to:1\n"
     ]
    }
   ],
   "source": [
    "# setdefault\n",
    "s = input().split()\n",
    "output ={}\n",
    "for i in s:\n",
    "    output.setdefault(i,s.count(i))   # setdefault() function takes key & value to set it as dictionary.\n",
    "\n",
    "output = sorted(output.items())     # List containing tupples of key and value\n",
    "# print(output)      \n",
    "for i in output:\n",
    "    print(\"%s:%d\" %(i[0],i[1]))    # tuple slice"
   ]
  },
  {
   "cell_type": "markdown",
   "metadata": {},
   "source": [
    "### OR"
   ]
  },
  {
   "cell_type": "code",
   "execution_count": 30,
   "metadata": {},
   "outputs": [
    {
     "name": "stdout",
     "output_type": "stream",
     "text": [
      "New to Python or choosing between Python 2 and Python 3? Read Python 2 or Python 3.\n",
      "2:2\n",
      "3.:1\n",
      "3?:1\n",
      "New:1\n",
      "Python:5\n",
      "Read:1\n",
      "and:1\n",
      "between:1\n",
      "choosing:1\n",
      "or:2\n",
      "to:1\n"
     ]
    }
   ],
   "source": [
    "# dictionary format\n",
    "s = input().split()\n",
    "output = {i:s.count(i) for i in s}    # return dictionay\n",
    "output = sorted(output.items())       # return list containing tuples of key and value\n",
    "for i in output:\n",
    "    print(\"%s:%g\" %(i[0],i[1]))       # tuple slice"
   ]
  },
  {
   "cell_type": "markdown",
   "metadata": {},
   "source": [
    "### OR"
   ]
  },
  {
   "cell_type": "code",
   "execution_count": 35,
   "metadata": {},
   "outputs": [
    {
     "name": "stdout",
     "output_type": "stream",
     "text": [
      "New to Python or choosing between Python 2 and Python 3? Read Python 2 or Python 3.\n",
      "2:2\n",
      "3.:1\n",
      "3?:1\n",
      "New:1\n",
      "Python:5\n",
      "Read:1\n",
      "and:1\n",
      "between:1\n",
      "choosing:1\n",
      "or:2\n",
      "to:1\n"
     ]
    }
   ],
   "source": [
    "# Collections\n",
    "from collections import Counter\n",
    "s = input().split()         # convert string list\n",
    "s = Counter(s)              # return dictionary\n",
    "s = sorted(s.items())       # return tuples list\n",
    "for i in s:\n",
    "    print(f\"{i[0]}:{i[1]}\")"
   ]
  },
  {
   "cell_type": "markdown",
   "metadata": {},
   "source": [
    "### OR"
   ]
  },
  {
   "cell_type": "code",
   "execution_count": 36,
   "metadata": {},
   "outputs": [
    {
     "name": "stdout",
     "output_type": "stream",
     "text": [
      "New to Python or choosing between Python 2 and Python 3? Read Python 2 or Python 3.\n",
      "{'2': 2,\n",
      " '3.': 1,\n",
      " '3?': 1,\n",
      " 'New': 1,\n",
      " 'Python': 5,\n",
      " 'Read': 1,\n",
      " 'and': 1,\n",
      " 'between': 1,\n",
      " 'choosing': 1,\n",
      " 'or': 2,\n",
      " 'to': 1}\n"
     ]
    }
   ],
   "source": [
    "# pprint\n",
    "from pprint import pprint\n",
    "s = input().split()\n",
    "pprint({i:s.count(i) for i in s})"
   ]
  },
  {
   "cell_type": "markdown",
   "metadata": {},
   "source": [
    "# Question 23\n",
    "\n",
    "<h3>Question:</h3>\n",
    "    \n",
    "Write a method which can calculate square value of number\n",
    "\n",
    "<h3>Hints:</h3>\n",
    "Using the operator which can be written as np where means n^p\n",
    "\n",
    "<h3>Solutions:</h3>"
   ]
  },
  {
   "cell_type": "code",
   "execution_count": 37,
   "metadata": {},
   "outputs": [
    {
     "name": "stdout",
     "output_type": "stream",
     "text": [
      "2\n",
      "4\n"
     ]
    }
   ],
   "source": [
    "n = int(input())\n",
    "\n",
    "print(n**2)"
   ]
  },
  {
   "cell_type": "markdown",
   "metadata": {},
   "source": [
    "### Question 24\n",
    "\n",
    "<h3>Question:</h3>\n",
    "    \n",
    "Python has many built-in functions, and if you do not know how to use it, you can read document online or find some books. But Python has a built-in document function for every built-in functions.\n",
    "\n",
    "_Please write a program to print some Python built-in functions documents, such as abs(), int(), rawinput()\n",
    "\n",
    "And add document for your own function\n",
    "\n",
    "<h3>Hints:</h3>\n",
    "    \n",
    "The built-in document method is doc\n",
    "\n",
    "<h3>Solutions:</h3>"
   ]
  },
  {
   "cell_type": "code",
   "execution_count": 44,
   "metadata": {},
   "outputs": [
    {
     "name": "stdout",
     "output_type": "stream",
     "text": [
      "81\n",
      "\n",
      "    param n: This is any integer number\n",
      "    param p: This is power over n\n",
      "    return:  n to the power p = n^p\n",
      "    \n"
     ]
    }
   ],
   "source": [
    "# print(str.__doc__)\n",
    "# print(sorted.__doc__)\n",
    "\n",
    "# custome doc function\n",
    "def pow(n,p):\n",
    "    \"\"\"\n",
    "    param n: This is any integer number\n",
    "    param p: This is power over n\n",
    "    return:  n to the power p = n^p\n",
    "    \"\"\"\n",
    "    return (n ** p)\n",
    "\n",
    "print(pow(3,4))\n",
    "print(pow.__doc__)"
   ]
  },
  {
   "cell_type": "markdown",
   "metadata": {},
   "source": [
    "### Question 25\n",
    "\n",
    "<h3>Question:</h3>\n",
    "\n",
    "Define a class, which have a class parameter and have a same instance parameter.\n",
    "\n",
    "<h3>Hints:</h3>\n",
    "    \n",
    "Define an instance parameter, need add it in init method.You can init an object with construct parameter or set the value later\n",
    "\n",
    "<h3>Solutions:</h3>"
   ]
  },
  {
   "cell_type": "code",
   "execution_count": 48,
   "metadata": {},
   "outputs": [
    {
     "name": "stdout",
     "output_type": "stream",
     "text": [
      "Car name is Honda\n",
      "Car name is Toyota\n"
     ]
    }
   ],
   "source": [
    "class Car:\n",
    "    name = \"Car\"\n",
    "    \n",
    "    def __init__(self,name=None):\n",
    "        self.name = name\n",
    "\n",
    "# instance and pass value\n",
    "honda = Car(\"Honda\")\n",
    "print(f\"{Car.name} name is {honda.name}\")\n",
    "\n",
    "# instance and then pass value\n",
    "toyota = Car()\n",
    "toyota.name = \"Toyota\"\n",
    "print(f\"{Car.name} name is {toyota.name}\")"
   ]
  },
  {
   "cell_type": "code",
   "execution_count": null,
   "metadata": {},
   "outputs": [],
   "source": []
  }
 ],
 "metadata": {
  "kernelspec": {
   "display_name": "Python 3",
   "language": "python",
   "name": "python3"
  },
  "language_info": {
   "codemirror_mode": {
    "name": "ipython",
    "version": 3
   },
   "file_extension": ".py",
   "mimetype": "text/x-python",
   "name": "python",
   "nbconvert_exporter": "python",
   "pygments_lexer": "ipython3",
   "version": "3.7.4"
  }
 },
 "nbformat": 4,
 "nbformat_minor": 2
}
