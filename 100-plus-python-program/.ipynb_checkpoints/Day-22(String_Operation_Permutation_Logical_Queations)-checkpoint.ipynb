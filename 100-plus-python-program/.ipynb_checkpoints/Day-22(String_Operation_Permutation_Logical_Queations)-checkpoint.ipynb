{
 "cells": [
  {
   "cell_type": "markdown",
   "metadata": {},
   "source": [
    "# Question 90\n",
    "\n",
    "<h3>Question</h3>\n",
    "\n",
    "Please write a program which count and print the numbers of each character in a string input by console.\n",
    "\n",
    "Example: If the following string is given as input to the program:\n",
    "\n",
    "<b>abcdefgabc</b>\n",
    "\n",
    "Then, the output of the program should be:\n",
    "<dl>\n",
    "<dt>a,2</dt>\n",
    "<dt>c,2</dt>\n",
    "<dt>b,2</dt>\n",
    "<dt>e,1</dt>\n",
    "<dt>d,1</dt>\n",
    "<dt>g,1</dt>\n",
    "<dt>f,1</dt>\n",
    "</dl>\n",
    "<h3>Hints</h3>\n",
    "\n",
    "Use dict to store key/value pairs. Use dict.get() method to lookup a key with default value.\n",
    "\n",
    "<h3>Solutions:</h3>"
   ]
  },
  {
   "cell_type": "code",
   "execution_count": 6,
   "metadata": {},
   "outputs": [
    {
     "name": "stdout",
     "output_type": "stream",
     "text": [
      "abcdefgabc\n",
      "a,2\n",
      "b,2\n",
      "c,2\n",
      "d,1\n",
      "e,1\n",
      "f,1\n",
      "g,1\n"
     ]
    }
   ],
   "source": [
    "s = input()\n",
    "dic = {}\n",
    "for i in s:\n",
    "    if i not in dic:\n",
    "        dic[i] = 1\n",
    "    else:\n",
    "        dic[i] += 1\n",
    "for k,v in dic.items():\n",
    "    print(f\"{k},{v}\")\n",
    "   \n",
    "    "
   ]
  },
  {
   "cell_type": "markdown",
   "metadata": {},
   "source": [
    "### OR"
   ]
  },
  {
   "cell_type": "code",
   "execution_count": 11,
   "metadata": {},
   "outputs": [
    {
     "name": "stdout",
     "output_type": "stream",
     "text": [
      "abcdefgabc\n",
      "a,2\n",
      "b,2\n",
      "c,2\n",
      "d,1\n",
      "e,1\n",
      "f,1\n",
      "g,1\n"
     ]
    }
   ],
   "source": [
    "# String Method\n",
    "import string\n",
    "\n",
    "s= input()\n",
    "cnt = 0\n",
    "for letter in string.ascii_lowercase:\n",
    "    cnt = s.count(letter)\n",
    "    if cnt > 0:\n",
    "        print(f\"{letter},{cnt}\")"
   ]
  },
  {
   "cell_type": "markdown",
   "metadata": {},
   "source": [
    "### OR"
   ]
  },
  {
   "cell_type": "code",
   "execution_count": 14,
   "metadata": {},
   "outputs": [
    {
     "name": "stdout",
     "output_type": "stream",
     "text": [
      "abcdefgabc\n",
      "a,2\n",
      "b,2\n",
      "c,2\n",
      "d,1\n",
      "e,1\n",
      "f,1\n",
      "g,1\n"
     ]
    }
   ],
   "source": [
    "# ord() \n",
    "\n",
    "s = input()\n",
    "for letter in range(ord(\"a\") ,ord(\"z\")+1):    # ord() gets the ascii value of a char\n",
    "    letter = chr(letter)                      # chr() gets the char of an ascii value\n",
    "    cnt = s.count(letter)\n",
    "    if cnt > 0:\n",
    "        print(\"{},{}\".format(letter, cnt))"
   ]
  },
  {
   "cell_type": "markdown",
   "metadata": {},
   "source": [
    "# Question 91\n",
    "\n",
    "<h3>Question</h3>\n",
    "\n",
    "Please write a program which accepts a string from console and print it in reverse order.\n",
    "\n",
    "Example: If the following string is given as input to the program:*\n",
    "\n",
    "<b>rise to vote sir</b>\n",
    "\n",
    "Then, the output of the program should be:\n",
    "\n",
    "<b>ris etov ot esir</b>\n",
    "\n",
    "<h3>Hints</h3>\n",
    "\n",
    "Use list[::-1] to iterate a list in a reverse order.\n",
    "\n",
    "<h3>Solutions:</h3>"
   ]
  },
  {
   "cell_type": "code",
   "execution_count": 26,
   "metadata": {},
   "outputs": [
    {
     "name": "stdout",
     "output_type": "stream",
     "text": [
      "rise to vote sir\n",
      "ris etov ot esir\n"
     ]
    }
   ],
   "source": [
    "s = input()\n",
    "s = \"\".join(s[::-1])\n",
    "print(s)"
   ]
  },
  {
   "cell_type": "markdown",
   "metadata": {},
   "source": [
    "### OR"
   ]
  },
  {
   "cell_type": "code",
   "execution_count": 17,
   "metadata": {},
   "outputs": [
    {
     "name": "stdout",
     "output_type": "stream",
     "text": [
      "rise to vote sir\n",
      "ris etov ot esir\n"
     ]
    }
   ],
   "source": [
    "s = input()\n",
    "s = \"\".join(reversed(s))\n",
    "print(s)"
   ]
  },
  {
   "cell_type": "markdown",
   "metadata": {},
   "source": [
    "# Question 92\n",
    "\n",
    "<h3>Question</h3>\n",
    "\n",
    "Please write a program which accepts a string from console and print the characters that have even indexes.\n",
    "\n",
    "Example: If the following string is given as input to the program:\n",
    "\n",
    "<b>H1e2l3l4o5w6o7r8l9d</b>\n",
    "\n",
    "Then, the output of the program should be:\n",
    "\n",
    "<b>Helloworld</b>\n",
    "\n",
    "<h3>Hints</h3>\n",
    "\n",
    "Use list[::2] to iterate a list by step 2.\n",
    "\n",
    "<h3>Solutions:</h3>"
   ]
  },
  {
   "cell_type": "code",
   "execution_count": 27,
   "metadata": {},
   "outputs": [
    {
     "name": "stdout",
     "output_type": "stream",
     "text": [
      "H1e2l3l4o5w6o7r8l9d\n",
      "Helloworld\n"
     ]
    }
   ],
   "source": [
    "# string slice\n",
    "s = input()\n",
    "s = \"\".join(s[::2])\n",
    "print(s)"
   ]
  },
  {
   "cell_type": "markdown",
   "metadata": {},
   "source": [
    "### OR"
   ]
  },
  {
   "cell_type": "code",
   "execution_count": 29,
   "metadata": {},
   "outputs": [
    {
     "name": "stdout",
     "output_type": "stream",
     "text": [
      "H1e2l3l4o5w6o7r8l9d\n",
      "Helloworld\n"
     ]
    }
   ],
   "source": [
    "# len  and list comp\n",
    "s = input()\n",
    "lst = [ s[i] for i in range(len(s)) if i%2 == 0]\n",
    "print(\"\".join(lst))"
   ]
  },
  {
   "cell_type": "markdown",
   "metadata": {},
   "source": [
    "### OR"
   ]
  },
  {
   "cell_type": "code",
   "execution_count": 31,
   "metadata": {},
   "outputs": [
    {
     "name": "stdout",
     "output_type": "stream",
     "text": [
      "H1e2l3l4o5w6o7r8l9d\n",
      "Helloworld\n"
     ]
    }
   ],
   "source": [
    "# len and a variable\n",
    "s = input()\n",
    "ns = \"\"\n",
    "for i in range(len(s)):\n",
    "    if i%2 == 0:\n",
    "        ns += s[i]\n",
    "print(ns)"
   ]
  },
  {
   "cell_type": "markdown",
   "metadata": {},
   "source": [
    "# Question 93\n",
    "\n",
    "<h3>Question</h3>\n",
    "\n",
    "Please write a program which prints all permutations of [1,2,3]\n",
    "\n",
    "<h3>Hints</h3>\n",
    "\n",
    "Use itertools.permutations() to get permutations of list.\n",
    "\n",
    "<h3>Solution:</h3>"
   ]
  },
  {
   "cell_type": "code",
   "execution_count": 41,
   "metadata": {},
   "outputs": [
    {
     "name": "stdout",
     "output_type": "stream",
     "text": [
      "(1, 2, 3)\n",
      "(1, 3, 2)\n",
      "(2, 1, 3)\n",
      "(2, 3, 1)\n",
      "(3, 1, 2)\n",
      "(3, 2, 1)\n"
     ]
    }
   ],
   "source": [
    "import itertools\n",
    "\n",
    "li = [1,2,3]\n",
    "lst = list(itertools.permutations(li))\n",
    "for i in lst:\n",
    "    print(i)"
   ]
  },
  {
   "cell_type": "markdown",
   "metadata": {},
   "source": [
    "### OR"
   ]
  },
  {
   "cell_type": "code",
   "execution_count": 40,
   "metadata": {},
   "outputs": [
    {
     "name": "stdout",
     "output_type": "stream",
     "text": [
      "[(1, 2, 3), (1, 3, 2), (2, 1, 3), (2, 3, 1), (3, 1, 2), (3, 2, 1)]\n"
     ]
    }
   ],
   "source": [
    "import itertools\n",
    "\n",
    "li = [1,2,3]\n",
    "print(list(itertools.permutations(li)))"
   ]
  },
  {
   "cell_type": "markdown",
   "metadata": {},
   "source": [
    "# Question 94\n",
    "\n",
    "<h3>Question</h3>\n",
    "\n",
    "Write a program to solve a classic ancient Chinese puzzle: We count 35 heads and 94 legs among the chickens and rabbits in a farm. How many rabbits and how many chickens do we have?\n",
    "\n",
    "<h3>Hints</h3>\n",
    "\n",
    "Use for loop to iterate all possible solutions.\n",
    "\n",
    "<h3>Solution:</h3>"
   ]
  },
  {
   "cell_type": "code",
   "execution_count": 44,
   "metadata": {},
   "outputs": [
    {
     "name": "stdout",
     "output_type": "stream",
     "text": [
      "(23, 12)\n"
     ]
    }
   ],
   "source": [
    "def solve(numheads,numlegs):\n",
    "    ns = \"NO Solution!\"\n",
    "    for i in range(numheads + 1):\n",
    "        j = numheads - i\n",
    "        if 2 * i + 4 * j == numlegs:\n",
    "            return i,j\n",
    "    return ns,ns\n",
    "    \n",
    "numheads = 35\n",
    "numlegs = 94\n",
    "solution = solve(numheads,numlegs)\n",
    "print(solution)"
   ]
  },
  {
   "cell_type": "code",
   "execution_count": null,
   "metadata": {},
   "outputs": [],
   "source": []
  }
 ],
 "metadata": {
  "kernelspec": {
   "display_name": "Python 3",
   "language": "python",
   "name": "python3"
  },
  "language_info": {
   "codemirror_mode": {
    "name": "ipython",
    "version": 3
   },
   "file_extension": ".py",
   "mimetype": "text/x-python",
   "name": "python",
   "nbconvert_exporter": "python",
   "pygments_lexer": "ipython3",
   "version": "3.7.4"
  }
 },
 "nbformat": 4,
 "nbformat_minor": 2
}
