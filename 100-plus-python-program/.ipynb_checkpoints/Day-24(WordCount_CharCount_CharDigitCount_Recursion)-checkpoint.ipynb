{
 "cells": [
  {
   "cell_type": "markdown",
   "metadata": {},
   "source": [
    "# Question 100\n",
    "\n",
    "<h3>Question</h3>\n",
    "\n",
    "You are given words. Some words may repeat. For each word, output its number of occurrences. The output order should correspond with the input order of appearance of the word. See the sample input/output for clarification.\n",
    "\n",
    "If the following string is given as input to the program:\n",
    "\n",
    "<b>4 bcdef abcdefg bcde bcdef</b>\n",
    "\n",
    "Then, the output of the program should be:\n",
    "\n",
    "<b>3 2 1 1</b>\n",
    "\n",
    "<h3>Hints</h3>\n",
    "\n",
    "Make a list to get the input order and a dictionary to count the word frequency\n",
    "\n",
    "<h3>Solutions:</h3>"
   ]
  },
  {
   "cell_type": "code",
   "execution_count": 5,
   "metadata": {},
   "outputs": [
    {
     "name": "stdout",
     "output_type": "stream",
     "text": [
      "4\n",
      "bcdef\n",
      "abcdefg\n",
      "bcde\n",
      "bcdef\n",
      "3\n",
      "{'bcdef': 2, 'abcdefg': 1, 'bcde': 1}\n",
      "2 1 1 "
     ]
    }
   ],
   "source": [
    "n = int(input())\n",
    "\n",
    "word_list = []\n",
    "word_dic = {}\n",
    "\n",
    "for i in range(n):\n",
    "    word = input()\n",
    "    if word not in word_dic:\n",
    "        word_list.append(word)\n",
    "    word_dic[word] = word_dic.get(word,0) + 1 \n",
    "    \n",
    "print(len(word_list))\n",
    "print(word_dic)\n",
    "for word in word_list:\n",
    "    print(word_dic[word],end=\" \")"
   ]
  },
  {
   "cell_type": "markdown",
   "metadata": {},
   "source": [
    "# Question 101\n",
    "\n",
    "<h3>Question</h3>\n",
    "\n",
    "You are given a string.Your task is to count the frequency of letters of the string and print the letters in descending order of frequency.\n",
    "\n",
    "If the following string is given as input to the program:\n",
    "\n",
    "<b>aabbbccde</b>\n",
    "\n",
    "Then, the output of the program should be:\n",
    "\n",
    "<h3>b 3 a 2 c 2 d 1 e 1</h3>\n",
    "\n",
    "<h3>Hints</h3>\n",
    "\n",
    "Count frequency with dictionary and sort by Value from dictionary Items\n",
    "\n",
    "<h3>Solutions:</h3>"
   ]
  },
  {
   "cell_type": "code",
   "execution_count": 25,
   "metadata": {},
   "outputs": [
    {
     "name": "stdout",
     "output_type": "stream",
     "text": [
      "aabbbccde\n",
      "[('b', 3), ('a', 2), ('c', 2), ('d', 1), ('e', 1)]\n",
      "b 3 a 2 c 2 d 1 e 1 "
     ]
    }
   ],
   "source": [
    "# Dictionary\n",
    "s = input()\n",
    "\n",
    "dic = {}\n",
    "\n",
    "for ch in s:\n",
    "    dic[ch] = dic.get(ch, 0) + 1\n",
    "    \n",
    "dic = sorted(dic.items(), key = lambda x : (-x[1],x[0]))    # 0 = key , 1 = value\n",
    "print(dic)\n",
    "for k in dic:\n",
    "    print(k[0], k[1],end=\" \")\n"
   ]
  },
  {
   "cell_type": "markdown",
   "metadata": {},
   "source": [
    "### OR"
   ]
  },
  {
   "cell_type": "code",
   "execution_count": 32,
   "metadata": {},
   "outputs": [
    {
     "name": "stdout",
     "output_type": "stream",
     "text": [
      "aabbbccde\n",
      "[['b', 3], ['a', 2], ['c', 2], ['d', 1], ['e', 1]]\n",
      "b 3 a 2 c 2 d 1 e 1 "
     ]
    }
   ],
   "source": [
    "# List\n",
    "X = input()\n",
    "my_set = set(X)\n",
    "arr = []\n",
    "for item in my_set:\n",
    "    arr.append([item, X.count(item)])\n",
    "\n",
    "tmp = sorted(arr, key = lambda x : (-x[1],x[0]))\n",
    "print(tmp)\n",
    "for i in tmp:\n",
    "    print(i[0]+\" \"+str(i[1]),end=\" \")\n"
   ]
  },
  {
   "cell_type": "markdown",
   "metadata": {},
   "source": [
    "### OR"
   ]
  },
  {
   "cell_type": "code",
   "execution_count": 43,
   "metadata": {},
   "outputs": [
    {
     "name": "stdout",
     "output_type": "stream",
     "text": [
      "aabbbccde\n",
      "b 3 a 2 c 2 d 1 e 1 "
     ]
    }
   ],
   "source": [
    "# Dict comp...\n",
    "s = list(input())\n",
    "\n",
    "dic_count = { k: s.count(k) for k in s}\n",
    "dic_count = sorted(dic_count.items(),key=lambda x: (-x[1],x[0]))\n",
    "for i in dic_count:\n",
    "    print(i[0], i[1],end=\" \")"
   ]
  },
  {
   "cell_type": "markdown",
   "metadata": {},
   "source": [
    "### OR"
   ]
  },
  {
   "cell_type": "code",
   "execution_count": 41,
   "metadata": {},
   "outputs": [
    {
     "name": "stdout",
     "output_type": "stream",
     "text": [
      "aabbbccde\n",
      "b 3 a 2 c 2 d 1 e 1 "
     ]
    }
   ],
   "source": [
    "# Dict, List, Tuple\n",
    "s = list(input())\n",
    "\n",
    "dic_count = { k: s.count(k) for k in s}\n",
    "list_of_tuples = [ (k,v) for k,v in dic_count.items() ]\n",
    "list_of_tuples.sort(key= lambda x : x[1],reverse=True)\n",
    "for i in list_of_tuples:\n",
    "    print(i[0], i[1],end=\" \")"
   ]
  },
  {
   "cell_type": "markdown",
   "metadata": {},
   "source": [
    "# Question 102\n",
    "\n",
    "<h3>Question</h3>\n",
    "\n",
    "Write a Python program that accepts a string and calculate the number of digits and letters.\n",
    "\n",
    "Input\n",
    "\n",
    "<b>Hello321Bye360</b>\n",
    "\n",
    "Output\n",
    "\n",
    "<b>Digit - 6</b>\n",
    "\n",
    "<b>Letter - 8</b>\n",
    "\n",
    "<h3>Hints</h3>\n",
    "\n",
    "Use isdigit() and isalpha() function\n",
    "\n",
    "<h3>Solution:</h3>"
   ]
  },
  {
   "cell_type": "code",
   "execution_count": 46,
   "metadata": {},
   "outputs": [
    {
     "name": "stdout",
     "output_type": "stream",
     "text": [
      "Hello321Bye360\n",
      "Digit -  6\n",
      "Letter -  8\n"
     ]
    }
   ],
   "source": [
    "string = input()\n",
    "\n",
    "digits = letters = 0\n",
    "for i in string:\n",
    "    if i.isalpha():\n",
    "        letters += 1\n",
    "    if i.isdigit():\n",
    "        digits += 1\n",
    "        \n",
    "print(\"Digit - \",digits)\n",
    "print(\"Letter - \",letters)\n"
   ]
  },
  {
   "cell_type": "markdown",
   "metadata": {},
   "source": [
    "# Question 103\n",
    "\n",
    "<h3>Question</h3>\n",
    "\n",
    "Given a number N.Find Sum of 1 to N Using Recursion\n",
    "\n",
    "Input\n",
    "\n",
    "<b>5</b>\n",
    "\n",
    "Output\n",
    "\n",
    "<b>15</b>\n",
    "\n",
    "<h3>Hints</h3>\n",
    "\n",
    "Make a recursive function to get the sum\n",
    "\n",
    "<h3>Solution:</h3>"
   ]
  },
  {
   "cell_type": "code",
   "execution_count": 78,
   "metadata": {},
   "outputs": [
    {
     "name": "stdout",
     "output_type": "stream",
     "text": [
      "3\n",
      "6\n"
     ]
    }
   ],
   "source": [
    "# Recursion function\n",
    "def rec(n):\n",
    "    if n == 0:\n",
    "        return n\n",
    "    return rec(n - 1) + n\n",
    "\n",
    "\n",
    "n = int(input())\n",
    "sum = rec(n)\n",
    "print(sum)"
   ]
  },
  {
   "cell_type": "code",
   "execution_count": null,
   "metadata": {},
   "outputs": [],
   "source": []
  }
 ],
 "metadata": {
  "kernelspec": {
   "display_name": "Python 3",
   "language": "python",
   "name": "python3"
  },
  "language_info": {
   "codemirror_mode": {
    "name": "ipython",
    "version": 3
   },
   "file_extension": ".py",
   "mimetype": "text/x-python",
   "name": "python",
   "nbconvert_exporter": "python",
   "pygments_lexer": "ipython3",
   "version": "3.7.4"
  }
 },
 "nbformat": 4,
 "nbformat_minor": 2
}
