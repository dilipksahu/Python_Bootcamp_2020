{
 "cells": [
  {
   "cell_type": "markdown",
   "metadata": {},
   "source": [
    "# Question 38\n",
    "\n",
    "<h3>Question:</h3>\n",
    "    \n",
    "With a given tuple (1,2,3,4,5,6,7,8,9,10), write a program to print the first half values in one line and the last half values in one line.\n",
    "\n",
    "<h3>Hints:</h3>\n",
    "    \n",
    "Use [n1:n2] notation to get a slice from a tuple.\n",
    "\n",
    "<h3>Solutions:</h3>"
   ]
  },
  {
   "cell_type": "code",
   "execution_count": 7,
   "metadata": {},
   "outputs": [
    {
     "name": "stdout",
     "output_type": "stream",
     "text": [
      "(1, 2, 3, 4, 5)\n",
      "(6, 7, 8, 9, 10)\n"
     ]
    }
   ],
   "source": [
    "x =  (1,2,3,4,5,6,7,8,9,10)\n",
    "half = len(x)//2\n",
    "print(x[:half])\n",
    "print(x[half:])"
   ]
  },
  {
   "cell_type": "markdown",
   "metadata": {},
   "source": [
    "### OR"
   ]
  },
  {
   "cell_type": "code",
   "execution_count": 6,
   "metadata": {},
   "outputs": [
    {
     "name": "stdout",
     "output_type": "stream",
     "text": [
      "0 1 2 3 4 5 6 7 8 9 "
     ]
    }
   ],
   "source": [
    "tp  = (1,2,3,4,5,6,7,8,9,10)\n",
    "for i in range(0,5):\n",
    "    print(i,end=\" \")\n",
    "for i in range(5,10):\n",
    "    print(i,end=\" \")"
   ]
  },
  {
   "cell_type": "markdown",
   "metadata": {},
   "source": [
    "### OR"
   ]
  },
  {
   "cell_type": "code",
   "execution_count": 4,
   "metadata": {},
   "outputs": [
    {
     "name": "stdout",
     "output_type": "stream",
     "text": [
      "The Original Tuple: (1, 2, 3, 4, 5, 6, 7, 8, 9, 10)\n",
      "Splitted List :(1, 2, 3, 4, 5)\n",
      "Splitted List :(6, 7, 8, 9, 10)\n"
     ]
    },
    {
     "data": {
      "text/plain": [
       "[None, None]"
      ]
     },
     "execution_count": 4,
     "metadata": {},
     "output_type": "execute_result"
    }
   ],
   "source": [
    "# List Comp.. containing print \n",
    "tp = (1, 2, 3, 4, 5, 6, 7, 8, 9, 10)\n",
    "\n",
    "print(\"The Original Tuple:\", tp)\n",
    "\n",
    "[ print(\"Splitted List :{List}\".format(List=tp[x : x + 5])) for x in range(0, len(tp), 5) ]"
   ]
  },
  {
   "cell_type": "markdown",
   "metadata": {},
   "source": [
    "# Question 39\n",
    "\n",
    "<h3>Question:</h3>\n",
    "    \n",
    "Write a program to generate and print another tuple whose values are even numbers in the given tuple (1,2,3,4,5,6,7,8,9,10).\n",
    "\n",
    "<h3>Hints:</h3>\n",
    "    \n",
    "Use \"for\" to iterate the tuple. Use tuple() to generate a tuple from a list.\n",
    "\n",
    "<h3>Solutions</h3>"
   ]
  },
  {
   "cell_type": "code",
   "execution_count": 7,
   "metadata": {},
   "outputs": [
    {
     "name": "stdout",
     "output_type": "stream",
     "text": [
      "(2, 4, 6, 8, 10)\n"
     ]
    }
   ],
   "source": [
    "tp = (1,2,3,4,5,6,7,8,9,10)\n",
    "lst = []\n",
    "for i in tp:\n",
    "    if i%2 == 0:\n",
    "        lst.append(i)       # Tuple is immutable hence we use list\n",
    "print(tuple(lst))\n"
   ]
  },
  {
   "cell_type": "markdown",
   "metadata": {},
   "source": [
    "### OR"
   ]
  },
  {
   "cell_type": "code",
   "execution_count": 14,
   "metadata": {},
   "outputs": [
    {
     "name": "stdout",
     "output_type": "stream",
     "text": [
      "(2, 4, 6, 8, 10)\n"
     ]
    }
   ],
   "source": [
    "# Tuple Comp...\n",
    "tp = (1,2,3,4,5,6,7,8,9,10)\n",
    "tp1 = tuple(i for i in tp if i %2 == 0 )\n",
    "print(tp1)"
   ]
  },
  {
   "cell_type": "markdown",
   "metadata": {},
   "source": [
    "### OR"
   ]
  },
  {
   "cell_type": "code",
   "execution_count": 16,
   "metadata": {},
   "outputs": [
    {
     "name": "stdout",
     "output_type": "stream",
     "text": [
      "(2, 4, 6, 8, 10)\n"
     ]
    }
   ],
   "source": [
    "# Filter and Lambda\n",
    "tp = (1,2,3,4,5,6,7,8,9,10)\n",
    "tp1 = tuple(filter(lambda x : x % 2 == 0,tp) )     # sytntax - filter(func,iterator), filter based on condition\n",
    "print(tp1)"
   ]
  },
  {
   "cell_type": "markdown",
   "metadata": {},
   "source": [
    "# Question 40\n",
    "\n",
    "<h3>Question:</h3>\n",
    "    \n",
    "Write a program which accepts a string as input to print \"Yes\" if the string is \"yes\" or \"YES\" or \"Yes\", otherwise print \"No\".\n",
    "\n",
    "<h3>Hints:</h3>\n",
    "    \n",
    "Use if statement to judge condition.\n",
    "\n",
    "<h3>Solutions: python 3</h3>"
   ]
  },
  {
   "cell_type": "code",
   "execution_count": 23,
   "metadata": {},
   "outputs": [
    {
     "name": "stdout",
     "output_type": "stream",
     "text": [
      "YES\n",
      "Yes\n"
     ]
    }
   ],
   "source": [
    "s = input()\n",
    "if s == 'YES' or s == 'yes' or s == 'Yes':\n",
    "    print('Yes')\n",
    "else:\n",
    "    print('No')"
   ]
  },
  {
   "cell_type": "markdown",
   "metadata": {},
   "source": [
    "### OR"
   ]
  },
  {
   "cell_type": "code",
   "execution_count": 25,
   "metadata": {},
   "outputs": [
    {
     "name": "stdout",
     "output_type": "stream",
     "text": [
      "knds\n",
      "No\n"
     ]
    }
   ],
   "source": [
    "# List comp.. and join\n",
    "s = input()\n",
    "output = [ 'Yes' if s == 'YES' or s == 'yes' or s == 'Yes' else 'No' ]\n",
    "print(\"\".join(output))"
   ]
  },
  {
   "cell_type": "markdown",
   "metadata": {},
   "source": [
    "# Question 41\n",
    "\n",
    "<h3>Question:</h3>\n",
    "    \n",
    "Write a program which can map() to make a list whose elements are square of elements in [1,2,3,4,5,6,7,8,9,10].\n",
    "\n",
    "<h3>Hints:</h3>\n",
    "Use map() to generate a list.Use lambda to define anonymous functions.\n",
    "\n",
    "<h3>Solution:</h3>"
   ]
  },
  {
   "cell_type": "code",
   "execution_count": 35,
   "metadata": {},
   "outputs": [
    {
     "name": "stdout",
     "output_type": "stream",
     "text": [
      "[1, 4, 9, 16, 25, 36, 49, 64, 81, 100]\n"
     ]
    }
   ],
   "source": [
    "# No different way of code is written as the requirment is specificly mentioned in problem description\n",
    "\n",
    "lst = [1,2,3,4,5,6,7,8,9,10]\n",
    "output = list(map(lambda x : x**2 ,lst))     # syntax: map(func,iterator), map perform operation      \n",
    "print(output)"
   ]
  },
  {
   "cell_type": "markdown",
   "metadata": {},
   "source": [
    "### sytntax: filter(func,iterator), filter based on condition\n",
    "### syntax:  map(func,iterator), map perform operation"
   ]
  },
  {
   "cell_type": "markdown",
   "metadata": {},
   "source": [
    "# Question 42\n",
    "\n",
    "<h3>Question:</h3>\n",
    "    \n",
    "Write a program which can map() and filter() to make a list whose elements are square of even number in [1,2,3,4,5,6,7,8,9,10].\n",
    "\n",
    "<h3>Hints:</h3>\n",
    "Use map() to generate a list.Use filter() to filter elements of a list.Use lambda to define anonymous functions.\n",
    "\n",
    "<h3>Solutions:</h3>"
   ]
  },
  {
   "cell_type": "code",
   "execution_count": 40,
   "metadata": {},
   "outputs": [
    {
     "name": "stdout",
     "output_type": "stream",
     "text": [
      "[4, 16, 36, 64, 100]\n"
     ]
    }
   ],
   "source": [
    "lst = [1,2,3,4,5,6,7,8,9,10]\n",
    "\n",
    "output = list(filter(lambda x : x %2 == 0, lst) )    # filter() - filters even numbers\n",
    "output = list(map(lambda x : x**2, output) )         # map() -  square the even numbers\n",
    "print(output)"
   ]
  },
  {
   "cell_type": "code",
   "execution_count": 41,
   "metadata": {},
   "outputs": [
    {
     "name": "stdout",
     "output_type": "stream",
     "text": [
      "[4, 16, 36, 64, 100]\n"
     ]
    }
   ],
   "source": [
    "# Map and Filter together\n",
    "def even(n):\n",
    "    return n % 2 == 0\n",
    "\n",
    "def square(n):\n",
    "    return n**2\n",
    "\n",
    "lst = [1,2,3,4,5,6,7,8,9,10]\n",
    "output = list(map(square,filter(even,lst)))\n",
    "print(output)"
   ]
  },
  {
   "cell_type": "markdown",
   "metadata": {},
   "source": [
    "# Question 43\n",
    "\n",
    "<h3>Question:</h3>\n",
    "    \n",
    "Write a program which can filter() to make a list whose elements are even number between 1 and 20 (both included).\n",
    "\n",
    "<h3>Hints:</h3>\n",
    "    \n",
    "Use filter() to filter elements of a list.Use lambda to define anonymous functions.\n",
    "\n",
    "<h3>Solutions:</h3>"
   ]
  },
  {
   "cell_type": "code",
   "execution_count": 52,
   "metadata": {},
   "outputs": [
    {
     "name": "stdout",
     "output_type": "stream",
     "text": [
      "[2, 4, 6, 8, 10, 12, 14, 16, 18, 20]\n"
     ]
    }
   ],
   "source": [
    "output = list(filter(lambda x : x%2 == 0, range(1,21)))\n",
    "print(output)"
   ]
  },
  {
   "cell_type": "markdown",
   "metadata": {},
   "source": [
    "### OR"
   ]
  },
  {
   "cell_type": "code",
   "execution_count": 58,
   "metadata": {},
   "outputs": [
    {
     "name": "stdout",
     "output_type": "stream",
     "text": [
      "[2, 4, 6, 8, 10, 12, 14, 16, 18, 20]\n"
     ]
    }
   ],
   "source": [
    "def even(n):\n",
    "    return n%2 == 0\n",
    "\n",
    "output = list(filter(even, range(1,21)))\n",
    "print(output)"
   ]
  },
  {
   "cell_type": "code",
   "execution_count": null,
   "metadata": {},
   "outputs": [],
   "source": []
  }
 ],
 "metadata": {
  "kernelspec": {
   "display_name": "Python 3",
   "language": "python",
   "name": "python3"
  },
  "language_info": {
   "codemirror_mode": {
    "name": "ipython",
    "version": 3
   },
   "file_extension": ".py",
   "mimetype": "text/x-python",
   "name": "python",
   "nbconvert_exporter": "python",
   "pygments_lexer": "ipython3",
   "version": "3.7.4"
  }
 },
 "nbformat": 4,
 "nbformat_minor": 2
}
