{
 "cells": [
  {
   "cell_type": "markdown",
   "metadata": {},
   "source": [
    "# Question 60\n",
    "\n",
    "<h3>Question</h3>\n",
    "\n",
    "Write a program to compute:\n",
    "\n",
    "$f(n)=f(n-1)+100$ when n>0\n",
    "\n",
    "and $f(0)=0$\n",
    "\n",
    "with a given n input by console (n>0).\n",
    "\n",
    "Example: If the following n is given as input to the program:\n",
    "\n",
    "<b>5</b>\n",
    "\n",
    "Then, the output of the program should be:\n",
    "\n",
    "<b>500</b>\n",
    "\n",
    "In case of input data being supplied to the question, it should be assumed to be a console input.\n",
    "\n",
    "<h3>Hints</h3>\n",
    "\n",
    "We can define recursive function in Python.\n",
    "\n",
    "<h3>Solutions:</h3>"
   ]
  },
  {
   "cell_type": "code",
   "execution_count": 29,
   "metadata": {},
   "outputs": [
    {
     "name": "stdout",
     "output_type": "stream",
     "text": [
      "5\n",
      "500\n"
     ]
    }
   ],
   "source": [
    "def f(n):\n",
    "    if n == 0:\n",
    "        return 0\n",
    "    return f(n - 1) + 100\n",
    "\n",
    "n =  int(input())\n",
    "print(f(n))"
   ]
  },
  {
   "cell_type": "markdown",
   "metadata": {},
   "source": [
    "# Question 61\n",
    "\n",
    "<h3>Question</h3>\n",
    "\n",
    "The Fibonacci Sequence is computed based on the following formula:\n",
    "\n",
    "$f(n)=0$ if n=0\n",
    "\n",
    "$f(n)=1$ if n=1\n",
    "\n",
    "$f(n)=f(n-1)+f(n-2)$ if n>1\n",
    "\n",
    "Please write a program to compute the value of f(n) with a given n input by console.\n",
    "\n",
    "Example: If the following n is given as input to the program:\n",
    "\n",
    "<b>7</b>\n",
    "\n",
    "Then, the output of the program should be:\n",
    "\n",
    "<b>13</b>\n",
    "\n",
    "In case of input data being supplied to the question, it should be assumed to be a console input.\n",
    "\n",
    "<h3>Hints</h3>\n",
    "\n",
    "We can define recursive function in Python.\n",
    "\n",
    "<h3>Solutions:</h3>"
   ]
  },
  {
   "cell_type": "code",
   "execution_count": 28,
   "metadata": {},
   "outputs": [
    {
     "name": "stdout",
     "output_type": "stream",
     "text": [
      "7\n",
      "13\n"
     ]
    }
   ],
   "source": [
    "def f(n):\n",
    "    if n < 2:         # 𝑓(𝑛)=0  if n=0 and 𝑓(𝑛)=1  if n=1\n",
    "        return n\n",
    "    return f(n - 1) + f(n - 2)   # 𝑓(𝑛)=𝑓(𝑛−1)+𝑓(𝑛−2)  if n>1\n",
    "\n",
    "n - int(input())\n",
    "print(f(n))"
   ]
  },
  {
   "cell_type": "markdown",
   "metadata": {},
   "source": [
    "# Question 62\n",
    "\n",
    "<h3>Question</h3>\n",
    "\n",
    "The Fibonacci Sequence is computed based on the following formula:\n",
    "\n",
    "$f(n)=0$ if n=0\n",
    "\n",
    "$f(n)=1$ if n=1\n",
    "\n",
    "$f(n)=f(n-1)+f(n-2)$ if n>1\n",
    "\n",
    "Please write a program to compute the value of f(n) with a given n input by console.\n",
    "\n",
    "Example: If the following n is given as input to the program:\n",
    "\n",
    "<b>7</b>\n",
    "\n",
    "Then, the output of the program should be:\n",
    "\n",
    "<b>0,1,1,2,3,5,8,13</b>\n",
    "\n",
    "In case of input data being supplied to the question, it should be assumed to be a console input.\n",
    "\n",
    "<h3>Hints</h3>\n",
    "\n",
    "We can define recursive function in Python. Use list comprehension to generate a list from an existing list. Use string.join() to join a list of strings.\n",
    "\n",
    "<h3>Solutions:</h3>"
   ]
  },
  {
   "cell_type": "code",
   "execution_count": 41,
   "metadata": {},
   "outputs": [
    {
     "name": "stdout",
     "output_type": "stream",
     "text": [
      "7\n",
      "0,1,1,2,3,5,8,13\n"
     ]
    }
   ],
   "source": [
    "def f(n):\n",
    "    if n < 2:\n",
    "        fibo[n] = n            # assign value if index < 2\n",
    "        return fibo[n]\n",
    "    fibo[n] =  f(n-1) + f(n-2) # assign value to index > 2\n",
    "    return fibo[n]\n",
    "    \n",
    "n = int(input())\n",
    "fibo = [0] * (n+1)        # initialize a list of size (n+1)\n",
    "f(n)                      # call once and it will set value to fibo[0-n]\n",
    "lst = [ str(i) for i in fibo]   # converting integer data to string type\n",
    "print(\",\".join(lst))      # joining all string element of fibo with ',' character"
   ]
  },
  {
   "cell_type": "markdown",
   "metadata": {},
   "source": [
    "# Question 63\n",
    "\n",
    "<h3>Question</h3>\n",
    "\n",
    "Please write a program using generator to print the even numbers between 0 and n in comma separated form while n is input by console.\n",
    "\n",
    "Example: If the following n is given as input to the program:\n",
    "\n",
    "<b>10</b>\n",
    "\n",
    "Then, the output of the program should be:\n",
    "\n",
    "<b>0,2,4,6,8,10</b>\n",
    "\n",
    "In case of input data being supplied to the question, it should be assumed to be a console input.\n",
    "\n",
    "<b>Hints</b>\n",
    "\n",
    "Use yield to produce the next value in generator.\n",
    "\n",
    "<h3>Solution:</h3>"
   ]
  },
  {
   "cell_type": "code",
   "execution_count": 63,
   "metadata": {},
   "outputs": [
    {
     "name": "stdout",
     "output_type": "stream",
     "text": [
      "10\n",
      "0,2,4,6,8,10\n"
     ]
    }
   ],
   "source": [
    "# For Loop\n",
    "def genarator(x):\n",
    "    for i in range(n+1):\n",
    "        if i % 2 == 0:\n",
    "            yield i\n",
    "    \n",
    "n = int(input())\n",
    "lst = []\n",
    "for i in genarator(n):\n",
    "    lst.append(str(i))\n",
    "print(\",\".join(lst))"
   ]
  },
  {
   "cell_type": "markdown",
   "metadata": {},
   "source": [
    "### OR"
   ]
  },
  {
   "cell_type": "code",
   "execution_count": 65,
   "metadata": {},
   "outputs": [
    {
     "name": "stdout",
     "output_type": "stream",
     "text": [
      "10\n",
      "0,2,4,6,8,10\n"
     ]
    }
   ],
   "source": [
    "# While loop\n",
    "def genarator(x):\n",
    "    i = 0\n",
    "    while i <= n:\n",
    "        if i % 2 ==0:\n",
    "            yield i\n",
    "        i += 1\n",
    "    \n",
    "n = int(input())\n",
    "lst = []\n",
    "for i in genarator(n):\n",
    "    lst.append(str(i))\n",
    "print(\",\".join(lst))"
   ]
  },
  {
   "cell_type": "markdown",
   "metadata": {},
   "source": [
    "### OR"
   ]
  },
  {
   "cell_type": "code",
   "execution_count": 73,
   "metadata": {},
   "outputs": [
    {
     "name": "stdout",
     "output_type": "stream",
     "text": [
      "10\n",
      "0,2,4,6,8,10\n"
     ]
    }
   ],
   "source": [
    "# Filter and Lambda\n",
    "lst = list(filter(lambda x : x%2==0, range(0,int(input())+1) ))\n",
    "lst = [str(i) for i in lst]\n",
    "print(\",\".join(lst))"
   ]
  },
  {
   "cell_type": "markdown",
   "metadata": {},
   "source": [
    "### OR"
   ]
  },
  {
   "cell_type": "code",
   "execution_count": 66,
   "metadata": {},
   "outputs": [
    {
     "name": "stdout",
     "output_type": "stream",
     "text": [
      "10\n",
      "0,2,4,6,8,10,"
     ]
    }
   ],
   "source": [
    "# genaral method\n",
    "n = int(input())\n",
    "\n",
    "for i in range(0,n+1):\n",
    "    if i % 2 == 0:\n",
    "        print(i,end=\",\")"
   ]
  },
  {
   "cell_type": "markdown",
   "metadata": {},
   "source": [
    "### OR"
   ]
  },
  {
   "cell_type": "code",
   "execution_count": 67,
   "metadata": {},
   "outputs": [
    {
     "name": "stdout",
     "output_type": "stream",
     "text": [
      "10\n",
      "0,2,4,6,8,10\n"
     ]
    }
   ],
   "source": [
    "# Solution by: StartZer0\n",
    "n = int(input())\n",
    "\n",
    "for i in range(0, n + 1, 2):\n",
    "    if i < n - 1:\n",
    "        print(i, end=\",\")\n",
    "    else:\n",
    "        print(i)"
   ]
  },
  {
   "cell_type": "markdown",
   "metadata": {},
   "source": [
    "# Question 64\n",
    "\n",
    "<h3>Question</h3>\n",
    "\n",
    "Please write a program using generator to print the numbers which can be divisible by 5 and 7 between 0 and n in comma separated form while n is input by console.\n",
    "\n",
    "Example: If the following n is given as input to the program:\n",
    "\n",
    "<b>100</b>\n",
    "\n",
    "Then, the output of the program should be:\n",
    "\n",
    "<b>0,35,70</b>\n",
    "\n",
    "In case of input data being supplied to the question, it should be assumed to be a console input.\n",
    "\n",
    "<h3>Hints</h3>\n",
    "\n",
    "Use yield to produce the next value in generator.\n",
    "\n",
    "<h3>Solutions:</h3>"
   ]
  },
  {
   "cell_type": "code",
   "execution_count": 76,
   "metadata": {},
   "outputs": [
    {
     "name": "stdout",
     "output_type": "stream",
     "text": [
      "100\n",
      "0,35,70\n"
     ]
    }
   ],
   "source": [
    "def genDivisible(n):\n",
    "    for i in range(n+1):\n",
    "        if (i % 5 == 0) and (i % 7 == 0):\n",
    "            yield i\n",
    "            \n",
    "n = int(input())\n",
    "lst = [ str(i) for i in genDivisible(n)]\n",
    "print(\",\".join(lst))"
   ]
  },
  {
   "cell_type": "markdown",
   "metadata": {},
   "source": [
    "### OR"
   ]
  },
  {
   "cell_type": "code",
   "execution_count": 77,
   "metadata": {},
   "outputs": [
    {
     "name": "stdout",
     "output_type": "stream",
     "text": [
      "100\n",
      "0,35,70\n"
     ]
    }
   ],
   "source": [
    "def genDivisible(n):\n",
    "    for i in range(n+1):\n",
    "        if i % 35 == 0:     # 5*7 = 35, if a number is divisible by a & b then it is also divisible by a*b\n",
    "            yield i\n",
    "            \n",
    "n = int(input())\n",
    "lst = [ str(i) for i in genDivisible(n)]\n",
    "print(\",\".join(lst))"
   ]
  },
  {
   "cell_type": "code",
   "execution_count": null,
   "metadata": {},
   "outputs": [],
   "source": []
  }
 ],
 "metadata": {
  "kernelspec": {
   "display_name": "Python 3",
   "language": "python",
   "name": "python3"
  },
  "language_info": {
   "codemirror_mode": {
    "name": "ipython",
    "version": 3
   },
   "file_extension": ".py",
   "mimetype": "text/x-python",
   "name": "python",
   "nbconvert_exporter": "python",
   "pygments_lexer": "ipython3",
   "version": "3.7.4"
  }
 },
 "nbformat": 4,
 "nbformat_minor": 2
}
