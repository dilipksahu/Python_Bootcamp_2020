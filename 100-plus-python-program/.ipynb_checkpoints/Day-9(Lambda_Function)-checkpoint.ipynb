{
 "cells": [
  {
   "cell_type": "markdown",
   "metadata": {},
   "source": [
    "### Question 26\n",
    "\n",
    "<h3>Question:</h3>\n",
    "    \n",
    "Define a function which can compute the sum of two numbers.\n",
    "\n",
    "<h3>Hints:</h3>\n",
    "    \n",
    "Define a function with two numbers as arguments. You can compute the sum in the function and return the value.\n",
    "\n",
    "<h3>Solutions:</h3>"
   ]
  },
  {
   "cell_type": "code",
   "execution_count": 1,
   "metadata": {},
   "outputs": [
    {
     "name": "stdout",
     "output_type": "stream",
     "text": [
      "55\n"
     ]
    }
   ],
   "source": [
    "def cumpute_sum(a,b):\n",
    "    return (a+b)\n",
    "\n",
    "print(cumpute_sum(30,25))"
   ]
  },
  {
   "cell_type": "markdown",
   "metadata": {},
   "source": [
    "### OR"
   ]
  },
  {
   "cell_type": "code",
   "execution_count": 6,
   "metadata": {},
   "outputs": [
    {
     "name": "stdout",
     "output_type": "stream",
     "text": [
      "55\n"
     ]
    }
   ],
   "source": [
    "# Lambda short function\n",
    "cumpute_sum = lambda a,b : a+b       # here lambda is use to define little function as compute_sum\n",
    "print(cumpute_sum(30,25))"
   ]
  },
  {
   "cell_type": "markdown",
   "metadata": {},
   "source": [
    "### Question 27\n",
    "\n",
    "<h3>Question:</h3>\n",
    "    \n",
    "Define a function that can convert a integer into a string and print it in console.\n",
    "\n",
    "<h3>Hints:</h3>\n",
    "    \n",
    "Use str() to convert a number to string.\n",
    "\n",
    "<h3>Solutions:</h3>"
   ]
  },
  {
   "cell_type": "code",
   "execution_count": 10,
   "metadata": {},
   "outputs": [
    {
     "name": "stdout",
     "output_type": "stream",
     "text": [
      "25\n",
      "<class 'str'>\n"
     ]
    }
   ],
   "source": [
    "convert = lambda a : str(a)     # here use lambda with function name as convert\n",
    "s = convert(25)\n",
    "print(s)\n",
    "print(type(s))            # check type of variable"
   ]
  },
  {
   "cell_type": "markdown",
   "metadata": {},
   "source": [
    "### Question 28\n",
    "\n",
    "<h3>Question:</h3>\n",
    "    \n",
    "Define a function that can receive two integer numbers in string form and compute their sum and then print it in console.\n",
    "\n",
    "<h3>Hints:<h3>\n",
    "    \n",
    "Use int() to convert a string to integer.\n",
    "\n",
    "<h3>Solutions:<h3>"
   ]
  },
  {
   "cell_type": "code",
   "execution_count": 5,
   "metadata": {},
   "outputs": [
    {
     "name": "stdout",
     "output_type": "stream",
     "text": [
      "20 25\n",
      "45\n"
     ]
    }
   ],
   "source": [
    "a,b = map(str,input().split())\n",
    "convert = lambda a, b : int(a) + int(b)\n",
    "print(convert(a,b))         # return integer"
   ]
  },
  {
   "cell_type": "markdown",
   "metadata": {},
   "source": [
    "### Question 29\n",
    "\n",
    "<h3>Question:</h3>\n",
    "    \n",
    "Define a function that can accept two strings as input and concatenate them and then print it in console.\n",
    "\n",
    "<h3>Hints:</h3>\n",
    "    \n",
    "Use + sign to concatenate the strings.\n",
    "\n",
    "<h3>Solution:</h3>"
   ]
  },
  {
   "cell_type": "code",
   "execution_count": 7,
   "metadata": {},
   "outputs": [
    {
     "name": "stdout",
     "output_type": "stream",
     "text": [
      "10 45\n",
      "1045\n"
     ]
    }
   ],
   "source": [
    "a,b = map(str,input().split())\n",
    "concat = lambda a, b : a + b\n",
    "print(concat(a,b))            # return string "
   ]
  },
  {
   "cell_type": "markdown",
   "metadata": {},
   "source": [
    "### Question 30\n",
    "\n",
    "<h3>Question:</h3>\n",
    "    \n",
    "Define a function that can accept two strings as input and print the string with maximum length in console. If two strings have the same length, then the function should print all strings line by line.\n",
    "\n",
    "<h3>Hints:</h3>\n",
    "Use len() function to get the length of a string.\n",
    "\n",
    "<h3>Solutions:</h3>"
   ]
  },
  {
   "cell_type": "code",
   "execution_count": 20,
   "metadata": {},
   "outputs": [
    {
     "name": "stdout",
     "output_type": "stream",
     "text": [
      "dilip sahu\n",
      "dilip\n"
     ]
    }
   ],
   "source": [
    "def length(a,b):\n",
    "    la,lb= len(a),len(b)\n",
    "    string = []\n",
    "    if la > lb:\n",
    "        print(a)\n",
    "    elif lb>la:\n",
    "        print(b)\n",
    "    else:\n",
    "        print(a,\"\\n\",b)\n",
    "\n",
    "a,b = input().split()\n",
    "length(a,b)"
   ]
  },
  {
   "cell_type": "markdown",
   "metadata": {},
   "source": [
    "### OR"
   ]
  },
  {
   "cell_type": "code",
   "execution_count": 23,
   "metadata": {},
   "outputs": [
    {
     "name": "stdout",
     "output_type": "stream",
     "text": [
      " dilip sahu\n",
      "dilip\n"
     ]
    }
   ],
   "source": [
    "func = (lambda a,b : print(max((a,b), key=len)) if len(a) != len(b) else print(a,\"\\n\",b))  # max(parameters,key=func)\n",
    "a,b = input().split()\n",
    "func(a,b)"
   ]
  },
  {
   "cell_type": "code",
   "execution_count": null,
   "metadata": {},
   "outputs": [],
   "source": []
  }
 ],
 "metadata": {
  "kernelspec": {
   "display_name": "Python 3",
   "language": "python",
   "name": "python3"
  },
  "language_info": {
   "codemirror_mode": {
    "name": "ipython",
    "version": 3
   },
   "file_extension": ".py",
   "mimetype": "text/x-python",
   "name": "python",
   "nbconvert_exporter": "python",
   "pygments_lexer": "ipython3",
   "version": "3.7.4"
  }
 },
 "nbformat": 4,
 "nbformat_minor": 2
}
