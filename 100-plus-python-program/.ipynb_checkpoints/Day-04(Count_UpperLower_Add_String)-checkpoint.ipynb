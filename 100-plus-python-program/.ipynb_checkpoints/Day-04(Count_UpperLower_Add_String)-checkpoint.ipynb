{
 "cells": [
  {
   "cell_type": "markdown",
   "metadata": {},
   "source": [
    "## Question:"
   ]
  },
  {
   "cell_type": "markdown",
   "metadata": {},
   "source": [
    "'''Write a program that accepts a sentence and calculate the number of upper case letters and lower case letters.\n",
    "\n",
    "Suppose the following input is supplied to the program:\n",
    "\n",
    "Hello world!\n",
    "\n",
    "Then, the output should be:\n",
    "\n",
    "UPPER CASE 1\n",
    "\n",
    "LOWER CASE 9\n",
    "'''"
   ]
  },
  {
   "cell_type": "code",
   "execution_count": 9,
   "metadata": {},
   "outputs": [
    {
     "name": "stdout",
     "output_type": "stream",
     "text": [
      "Hello world!\n",
      "UPPER CASE 1\n",
      "LOWER CASE 9\n"
     ]
    }
   ],
   "source": [
    "words = input()\n",
    "\n",
    "upper = lower = 0\n",
    "for i in words:\n",
    "    if \"a\" <= i and i <= \"z\":\n",
    "        lower += 1\n",
    "    elif \"A\" <= i and i <= \"Z\":\n",
    "        upper += 1\n",
    "print(f\"UPPER CASE {upper}\\nLOWER CASE {lower}\")"
   ]
  },
  {
   "cell_type": "code",
   "execution_count": 10,
   "metadata": {},
   "outputs": [
    {
     "name": "stdout",
     "output_type": "stream",
     "text": [
      "Hello world!\n",
      "UPPER CASE 1\n",
      "LOWER CASE 9\n"
     ]
    }
   ],
   "source": [
    "# OR\n",
    "words = input()\n",
    "\n",
    "upper = lower = 0\n",
    "for i in words:\n",
    "    upper += i.isupper()\n",
    "    lower += i.islower()\n",
    "print(f\"UPPER CASE {upper}\\nLOWER CASE {lower}\")"
   ]
  },
  {
   "cell_type": "code",
   "execution_count": 12,
   "metadata": {},
   "outputs": [
    {
     "name": "stdout",
     "output_type": "stream",
     "text": [
      "Hello world!\n",
      "UPPER CASE 1\n",
      "LOWER CASE 9\n"
     ]
    }
   ],
   "source": [
    "# OR\n",
    "words = input()\n",
    "upper = sum( 1 for i in words if i.isupper() )   # sum function cumulatively sum up 1's if the condition is True\n",
    "lower = sum( 1 for i in words if i.islower() )\n",
    "print(f\"UPPER CASE {upper}\\nLOWER CASE {lower}\")"
   ]
  },
  {
   "cell_type": "code",
   "execution_count": null,
   "metadata": {},
   "outputs": [],
   "source": []
  }
 ],
 "metadata": {
  "kernelspec": {
   "display_name": "Python 3",
   "language": "python",
   "name": "python3"
  },
  "language_info": {
   "codemirror_mode": {
    "name": "ipython",
    "version": 3
   },
   "file_extension": ".py",
   "mimetype": "text/x-python",
   "name": "python",
   "nbconvert_exporter": "python",
   "pygments_lexer": "ipython3",
   "version": "3.7.4"
  }
 },
 "nbformat": 4,
 "nbformat_minor": 2
}
