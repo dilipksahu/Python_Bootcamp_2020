{
 "cells": [
  {
   "cell_type": "markdown",
   "metadata": {},
   "source": [
    "# Question 20\n",
    "\n",
    "<h3>Question:</h3>\n",
    "    \n",
    "Define a class with a generator which can iterate the numbers, which are divisible by 7, between a given range 0 and n.\n",
    "\n",
    "Hints:\n",
    "Consider use class, function and comprehension.\n",
    "\n",
    "<h3>Solution:</h3>"
   ]
  },
  {
   "cell_type": "code",
   "execution_count": 4,
   "metadata": {},
   "outputs": [
    {
     "name": "stdout",
     "output_type": "stream",
     "text": [
      "Please enter a number... 12\n",
      "0\n",
      "7\n"
     ]
    }
   ],
   "source": [
    "class MyGen:\n",
    "    def by_seven(self, n):\n",
    "        for i in range(0, int(n / 7) + 1):\n",
    "            yield i * 7\n",
    "\n",
    "\n",
    "for i in MyGen().by_seven(int(input(\"Please enter a number... \"))):\n",
    "    print(i)"
   ]
  },
  {
   "cell_type": "code",
   "execution_count": 7,
   "metadata": {},
   "outputs": [
    {
     "name": "stdout",
     "output_type": "stream",
     "text": [
      "Please enter a number.....50\n",
      "0\n",
      "7\n",
      "14\n",
      "21\n",
      "28\n",
      "35\n",
      "42\n",
      "49\n"
     ]
    }
   ],
   "source": [
    "# OR\n",
    "class MyGen:\n",
    "    def by_seven(self,n):\n",
    "        for i in range(n+1):\n",
    "            if i % 7 == 0:\n",
    "                yield i\n",
    "                \n",
    "divisible = MyGen()\n",
    "divisible = divisible.by_seven(int(input(\"Please enter a number.....\")))\n",
    "for i in divisible:\n",
    "    print(i)"
   ]
  },
  {
   "cell_type": "markdown",
   "metadata": {},
   "source": [
    "# Question 21\n",
    "\n",
    "<h3>Question:</h3>\n",
    "\n",
    "A robot moves in a plane starting from the original point (0,0). The robot can move toward UP, DOWN, LEFT and RIGHT with a given steps. The trace of robot movement is shown as the following:\n",
    "<ul>\n",
    "<li>UP 5</li>\n",
    "<li>DOWN 3</li>\n",
    "<li>LEFT 3</li>\n",
    "<li>RIGHT 2</li>\n",
    "</ul>\n",
    "The numbers after the direction are steps. Please write a program to compute the distance from current position after a sequence of movement and original point. If the distance is a float, then just print the nearest integer. Example: If the following tuples are given as input to the program:\n",
    "<ul>\n",
    "<li>UP 5</li>\n",
    "<li>DOWN 3</li>\n",
    "<li>LEFT 3</li>\n",
    "<li>RIGHT 2</li>\n",
    "</ul>\n",
    "Then, the output of the program should be:\n",
    "\n",
    "2\n",
    "\n",
    "<h3>Hints:</h3>\n",
    "    \n",
    "In case of input data being supplied to the question, it should be assumed to be a console input.Here distance indicates to euclidean distance.Import math module to use sqrt function.\n",
    "\n",
    "<h3>Solutions:</h3>"
   ]
  },
  {
   "cell_type": "code",
   "execution_count": 23,
   "metadata": {},
   "outputs": [
    {
     "name": "stdout",
     "output_type": "stream",
     "text": [
      "up 5\n",
      "down 3\n",
      "left 3\n",
      "right 2\n",
      "\n",
      "2\n"
     ]
    }
   ],
   "source": [
    "import math\n",
    "\n",
    "x, y = 0,0\n",
    "while True:\n",
    "    s = input().split()    \n",
    "    if not s:\n",
    "        break\n",
    "    if s[0].upper() == \"UP\":  # s[0] indicates command\n",
    "        x -= int(s[1])        # s[1] indicates unit of move\n",
    "    if s[0].upper() == \"DOWN\":\n",
    "        x += int(s[1])\n",
    "    if s[0].upper() == \"LEFT\":\n",
    "        y -= int(s[1])\n",
    "    if s[0].upper() == \"RIGHT\":\n",
    "        y += int(s[1])\n",
    "        \n",
    "distance = round(math.sqrt(x**2 + y**2))\n",
    "print(distance)"
   ]
  },
  {
   "cell_type": "code",
   "execution_count": null,
   "metadata": {},
   "outputs": [],
   "source": []
  }
 ],
 "metadata": {
  "kernelspec": {
   "display_name": "Python 3",
   "language": "python",
   "name": "python3"
  },
  "language_info": {
   "codemirror_mode": {
    "name": "ipython",
    "version": 3
   },
   "file_extension": ".py",
   "mimetype": "text/x-python",
   "name": "python",
   "nbconvert_exporter": "python",
   "pygments_lexer": "ipython3",
   "version": "3.7.4"
  }
 },
 "nbformat": 4,
 "nbformat_minor": 2
}
