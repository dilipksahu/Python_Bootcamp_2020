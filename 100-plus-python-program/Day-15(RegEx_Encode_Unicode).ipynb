{
 "cells": [
  {
   "cell_type": "markdown",
   "metadata": {},
   "source": [
    "# Question 54\n",
    "\n",
    "<h3>Question</h3>\n",
    "\n",
    "Assuming that we have some email addresses in the \"username@companyname.com\" format, please write program to print the company name of a given email address. Both user names and company names are composed of letters only.\n",
    "\n",
    "Example: If the following email address is given as input to the program:\n",
    "\n",
    "<b>john@google.com</b>\n",
    "\n",
    "Then, the output of the program should be:\n",
    "\n",
    "<b>google</b>\n",
    "\n",
    "In case of input data being supplied to the question, it should be assumed to be a console input.\n",
    "\n",
    "<h3>Hints</h3>\n",
    "\n",
    "Use \\w to match letters.\n",
    "\n",
    "https://www.w3schools.com/python/python_regex.asp\n",
    "\n",
    "<h3>Solutions:</h3>"
   ]
  },
  {
   "cell_type": "code",
   "execution_count": 4,
   "metadata": {},
   "outputs": [
    {
     "name": "stdout",
     "output_type": "stream",
     "text": [
      "google,yahoo,redhat\n"
     ]
    }
   ],
   "source": [
    "# email = input()\n",
    "email = \"john@google.com john@yahoo.com john@redhat.com\"\n",
    "\n",
    "import re\n",
    "\n",
    "pattern = \"\\w+@(\\w+).com\"\n",
    "cn = re.findall(pattern,email)\n",
    "print(\",\".join(cn))"
   ]
  },
  {
   "cell_type": "code",
   "execution_count": 3,
   "metadata": {},
   "outputs": [
    {
     "name": "stdout",
     "output_type": "stream",
     "text": [
      "['google', 'yahoo', 'redhat']\n"
     ]
    }
   ],
   "source": [
    "emails = \"john@google.com john@yahoo.com john@redhat.com\"\n",
    "\n",
    "emails = emails.split(\" \")\n",
    "domain = []\n",
    "company = []\n",
    "for email in emails:\n",
    "    domain.append(email.split(\"@\")[1])\n",
    "for cn in domain:\n",
    "    company.append(cn.split(\".\")[0])\n",
    "print(company)"
   ]
  },
  {
   "cell_type": "markdown",
   "metadata": {},
   "source": [
    "# Question 55\n",
    "\n",
    "<h3>Question</h3>\n",
    "\n",
    "Write a program which accepts a sequence of words separated by whitespace as input to print the words composed of digits only.\n",
    "\n",
    "Example: If the following words is given as input to the program:\n",
    "\n",
    "<b>2 cats and 3 dogs.</b>\n",
    "\n",
    "Then, the output of the program should be:\n",
    "\n",
    "<b>['2', '3']</b>\n",
    "\n",
    "In case of input data being supplied to the question, it should be assumed to be a console input.\n",
    "\n",
    "<h3>Hints</h3>\n",
    "\n",
    "Use re.findall() to find all substring using regex.\n",
    "\n",
    "<h3>Solutions:</h3>"
   ]
  },
  {
   "cell_type": "code",
   "execution_count": 5,
   "metadata": {},
   "outputs": [
    {
     "name": "stdout",
     "output_type": "stream",
     "text": [
      "2 cats and 3 dogs.\n",
      "['2', '3']\n"
     ]
    }
   ],
   "source": [
    "import re\n",
    "\n",
    "s = input()\n",
    "pattern = \"\\d+\"             # regex to find all digits in string\n",
    "digits = re.findall(pattern,s)\n",
    "print(digits)"
   ]
  },
  {
   "cell_type": "markdown",
   "metadata": {},
   "source": [
    "### OR"
   ]
  },
  {
   "cell_type": "code",
   "execution_count": 11,
   "metadata": {},
   "outputs": [
    {
     "name": "stdout",
     "output_type": "stream",
     "text": [
      "2 cats and 3 dogs.\n",
      "['2', '3']\n"
     ]
    }
   ],
   "source": [
    "# for loop and isdigit function\n",
    "s = input().split()\n",
    "ans = []\n",
    "for word in s:\n",
    "    if word.isdigit():         # can also use isnumeric() / isdecimal() function instead\n",
    "        ans.append(word)\n",
    "print(ans)"
   ]
  },
  {
   "cell_type": "markdown",
   "metadata": {},
   "source": [
    "### OR"
   ]
  },
  {
   "cell_type": "code",
   "execution_count": 9,
   "metadata": {},
   "outputs": [
    {
     "name": "stdout",
     "output_type": "stream",
     "text": [
      "2 cats and 3 dogs.\n",
      "['2', '3']\n"
     ]
    }
   ],
   "source": [
    "# List comp...\n",
    "s = input().split()\n",
    "ans = [ word for word in s if word.isdigit()]\n",
    "print(ans)"
   ]
  },
  {
   "cell_type": "markdown",
   "metadata": {},
   "source": [
    "# Question 56\n",
    "<h3>Question</h3>\n",
    "\n",
    "Print a unicode string \"hello world\".\n",
    "\n",
    "<h3>Hints</h3>\n",
    "\n",
    "Use u'strings' format to define unicode string.\n",
    "\n",
    "# Question 57\n",
    "\n",
    "<h3>Question</h3>\n",
    "\n",
    "Write a program to read an ASCII string and to convert it to a unicode string encoded by utf-8.\n",
    "\n",
    "<h3>Hints</h3>\n",
    "\n",
    "Use unicode()/encode() function to convert.\n",
    "\n",
    "<h3>Solutions:</h3>"
   ]
  },
  {
   "cell_type": "code",
   "execution_count": 14,
   "metadata": {},
   "outputs": [
    {
     "name": "stdout",
     "output_type": "stream",
     "text": [
      "Hello world...!\n",
      "b'Hello world...!'\n"
     ]
    }
   ],
   "source": [
    "s = input()\n",
    "ans = s.encode(\"utf-8\")\n",
    "print(ans)"
   ]
  },
  {
   "cell_type": "markdown",
   "metadata": {},
   "source": [
    "# Question 58\n",
    "\n",
    "<h3>Question</h3>\n",
    "\n",
    "Write a special comment to indicate a Python source code file is in unicode.\n",
    "\n",
    "<h3>Hints</h3>\n",
    "\n",
    "Use unicode() function to convert.\n",
    "\n",
    "<h3>Solution:</h3>"
   ]
  },
  {
   "cell_type": "code",
   "execution_count": 15,
   "metadata": {},
   "outputs": [],
   "source": [
    "# -*- coding: utf-8 -*-"
   ]
  },
  {
   "cell_type": "markdown",
   "metadata": {},
   "source": [
    "# Question 59\n",
    "\n",
    "<h3>Question</h3>\n",
    "\n",
    "Write a program to compute 1/2+2/3+3/4+...+n/n+1 with a given n input by console (n>0).\n",
    "\n",
    "Example: If the following n is given as input to the program:\n",
    "\n",
    "<b>5</b>\n",
    "\n",
    "Then, the output of the program should be:\n",
    "\n",
    "<b>3.55</b>\n",
    "\n",
    "In case of input data being supplied to the question, it should be assumed to be a console input.\n",
    "\n",
    "<h3>Hints</h3>\n",
    "\n",
    "Use float() to convert an integer to a float.Even if not converted it wont cause a problem because python by default understands the data type of a value\n",
    "\n",
    "<h3>Solutions:</h3>"
   ]
  },
  {
   "cell_type": "code",
   "execution_count": 20,
   "metadata": {},
   "outputs": [
    {
     "name": "stdout",
     "output_type": "stream",
     "text": [
      "5\n",
      "3.55\n"
     ]
    }
   ],
   "source": [
    "n = int(input())\n",
    "total = 0\n",
    "for i in range(1,n+1):\n",
    "    total += i / (i+1)      # (i / i + 1)   ans=10.0  (incorrect)\n",
    "print(round(total,2))       # rounded to 2 decimal point"
   ]
  },
  {
   "cell_type": "code",
   "execution_count": null,
   "metadata": {},
   "outputs": [],
   "source": []
  }
 ],
 "metadata": {
  "kernelspec": {
   "display_name": "Python 3",
   "language": "python",
   "name": "python3"
  }
 },
 "nbformat": 4,
 "nbformat_minor": 2
}
