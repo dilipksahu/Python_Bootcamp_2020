{
 "cells": [
  {
   "cell_type": "markdown",
   "metadata": {},
   "source": [
    "# Question 31\n",
    "\n",
    "<h3>Question:</h3>\n",
    "    \n",
    "Define a function which can print a dictionary where the keys are numbers between 1 and 20 (both included) and the values are square of keys.\n",
    "\n",
    "<h3>Hints:</h3>\n",
    "    \n",
    "Use dict[key]=value pattern to put entry into a dictionary.Use ** operator to get power of a number.Use range() for loops.\n",
    "\n",
    "<h3>Solutions:</h3>"
   ]
  },
  {
   "cell_type": "code",
   "execution_count": 4,
   "metadata": {},
   "outputs": [
    {
     "name": "stdout",
     "output_type": "stream",
     "text": [
      "{1: 1, 2: 4, 3: 9, 4: 16, 5: 25, 6: 36, 7: 49, 8: 64, 9: 81, 10: 100, 11: 121, 12: 144, 13: 169, 14: 196, 15: 225, 16: 256, 17: 289, 18: 324, 19: 361, 20: 400}\n"
     ]
    }
   ],
   "source": [
    "# General\n",
    "dic = {}\n",
    "def square(n):\n",
    "    dic[n] = n**2\n",
    "    \n",
    "\n",
    "for i in range(1,21):\n",
    "    square(i)\n",
    "print(dic)"
   ]
  },
  {
   "cell_type": "markdown",
   "metadata": {},
   "source": [
    "### OR"
   ]
  },
  {
   "cell_type": "code",
   "execution_count": 5,
   "metadata": {},
   "outputs": [
    {
     "name": "stdout",
     "output_type": "stream",
     "text": [
      "{1: 1, 2: 4, 3: 9, 4: 16, 5: 25, 6: 36, 7: 49, 8: 64, 9: 81, 10: 100, 11: 121, 12: 144, 13: 169, 14: 196, 15: 225, 16: 256, 17: 289, 18: 324, 19: 361, 20: 400}\n"
     ]
    }
   ],
   "source": [
    "# Dict comprehension\n",
    "print({i:(i**2) for i in range(1,21)})"
   ]
  },
  {
   "cell_type": "markdown",
   "metadata": {},
   "source": [
    "### OR"
   ]
  },
  {
   "cell_type": "code",
   "execution_count": 7,
   "metadata": {},
   "outputs": [
    {
     "name": "stdout",
     "output_type": "stream",
     "text": [
      "{1: 1, 2: 4, 3: 9, 4: 16, 5: 25, 6: 36, 7: 49, 8: 64, 9: 81, 10: 100, 11: 121, 12: 144, 13: 169, 14: 196, 15: 225, 16: 256, 17: 289, 18: 324, 19: 361, 20: 400}\n"
     ]
    }
   ],
   "source": [
    "# Lambda and dict comp...\n",
    "dic = lambda x: x**2\n",
    "print({i:dic(i) for i in range(1,21)})"
   ]
  },
  {
   "cell_type": "markdown",
   "metadata": {},
   "source": [
    "# Question 32\n",
    "\n",
    "<h3>Question:</h3>\n",
    "    \n",
    "Define a function which can generate a dictionary where the keys are numbers between 1 and 20 (both included) and the values are square of keys. The function should just print the keys only.\n",
    "\n",
    "<h3>Hints:</h3>\n",
    "    \n",
    "Use dict[key]=value pattern to put entry into a dictionary.Use ** operator to get power of a number.Use range() for loops.Use keys() to iterate keys in the dictionary. Also we can use item() to get key/value pairs.\n",
    "\n",
    "<h3>Solutions:</h3>"
   ]
  },
  {
   "cell_type": "code",
   "execution_count": 16,
   "metadata": {},
   "outputs": [
    {
     "name": "stdout",
     "output_type": "stream",
     "text": [
      "dict_keys([1, 2, 3, 4, 5, 6, 7, 8, 9, 10, 11, 12, 13, 14, 15, 16, 17, 18, 19, 20])\n"
     ]
    }
   ],
   "source": [
    "def printdic():\n",
    "    dic = {i:i**2 for i in range(1,21)}\n",
    "    print(dic.keys())          # print keys of a dictionary\n",
    "\n",
    "    \n",
    "printdic()"
   ]
  },
  {
   "cell_type": "markdown",
   "metadata": {},
   "source": [
    "# Question 33\n",
    "\n",
    "<h3>Question:</h3>\n",
    "    \n",
    "Define a function which can generate and print a list where the values are square of numbers between 1 and 20 (both included).\n",
    "\n",
    "<h3>Hints:</h3>\n",
    "    \n",
    "Use ** operator to get power of a number.Use range() for loops.Use list.append() to add values into a list.\n",
    "\n",
    "<h3>Solutions:</h3>"
   ]
  },
  {
   "cell_type": "code",
   "execution_count": 18,
   "metadata": {},
   "outputs": [
    {
     "name": "stdout",
     "output_type": "stream",
     "text": [
      "[1, 4, 9, 16, 25, 36, 49, 64, 81, 100, 121, 144, 169, 196, 225, 256, 289, 324, 361, 400]\n"
     ]
    }
   ],
   "source": [
    "def printlist():\n",
    "    lst = [ i ** 2 for i in range(1,21)]\n",
    "    print(lst)\n",
    "    \n",
    "printlist()"
   ]
  },
  {
   "cell_type": "markdown",
   "metadata": {},
   "source": [
    "# Question 34\n",
    "\n",
    "<h3>Question:</h3>\n",
    "\n",
    "Define a function which can generate a list where the values are square of numbers between 1 and 20 (both included). Then the function needs to print the first 5 elements in the list.\n",
    "\n",
    "<h3>Hints:</h3>\n",
    "    \n",
    "Use ** operator to get power of a number.Use range() for loops.Use list.append() to add values into a list.Use [n1:n2] to slice a list\n",
    "\n",
    "<h3>Solutions:</h3>"
   ]
  },
  {
   "cell_type": "code",
   "execution_count": 25,
   "metadata": {},
   "outputs": [
    {
     "name": "stdout",
     "output_type": "stream",
     "text": [
      "1\n",
      "4\n",
      "9\n",
      "16\n",
      "25\n"
     ]
    }
   ],
   "source": [
    "def printfive():\n",
    "    lst = [ i ** 2 for i in range(1,21)]\n",
    "    for i in lst[:5]:\n",
    "        print(i)\n",
    "    \n",
    "printfive()"
   ]
  },
  {
   "cell_type": "markdown",
   "metadata": {},
   "source": [
    "### OR"
   ]
  },
  {
   "cell_type": "code",
   "execution_count": 31,
   "metadata": {},
   "outputs": [
    {
     "name": "stdout",
     "output_type": "stream",
     "text": [
      "1\n",
      "4\n",
      "9\n",
      "16\n",
      "25\n"
     ]
    }
   ],
   "source": [
    "# Lambda\n",
    "func = lambda: ( i ** 2 for i in range(1,21)[:5])        # input none\n",
    "print(*(func()), sep='\\n')"
   ]
  },
  {
   "cell_type": "markdown",
   "metadata": {},
   "source": [
    "# Question 35\n",
    "\n",
    "<h3>Question:</h3>\n",
    "    \n",
    "Define a function which can generate a list where the values are square of numbers between 1 and 20 (both included). Then the function needs to print the last 5 elements in the list.\n",
    "\n",
    "<h3>Hints:</h3>\n",
    "    \n",
    "Use ** operator to get power of a number.Use range() for loops.Use list.append() to add values into a list.Use [n1:n2] to slice a list\n",
    "\n",
    "<h3>Solutions:</h3>"
   ]
  },
  {
   "cell_type": "code",
   "execution_count": 46,
   "metadata": {},
   "outputs": [
    {
     "name": "stdout",
     "output_type": "stream",
     "text": [
      "400\n",
      "361\n",
      "324\n",
      "289\n",
      "256\n"
     ]
    }
   ],
   "source": [
    "def printfive():\n",
    "    lst = [ i ** 2 for i in range(1,21)]\n",
    "    for i in range(19,14,-1):\n",
    "        print(lst[i])\n",
    "\n",
    "printfive()"
   ]
  },
  {
   "cell_type": "markdown",
   "metadata": {},
   "source": [
    "### OR"
   ]
  },
  {
   "cell_type": "code",
   "execution_count": 53,
   "metadata": {},
   "outputs": [
    {
     "name": "stdout",
     "output_type": "stream",
     "text": [
      "400\n",
      "361\n",
      "324\n",
      "289\n",
      "256\n"
     ]
    }
   ],
   "source": [
    "func = lambda: ( i ** 2 for i in range(1,21)[19:14:-1])         # NO input\n",
    "print(*(func()), sep='\\n')"
   ]
  },
  {
   "cell_type": "markdown",
   "metadata": {},
   "source": [
    "# Question 36\n",
    "\n",
    "<h3>Question:</h3>\n",
    "    \n",
    "Define a function which can generate a list where the values are square of numbers between 1 and 20 (both included). Then the function needs to print all values except the first 5 elements in the list.\n",
    "\n",
    "<h3>Hints:</h3>\n",
    "    \n",
    "Use ** operator to get power of a number.Use range() for loops.Use list.append() to add values into a list.Use [n1:n2] to slice a list\n",
    "\n",
    "<h3>Solutions:</h3>"
   ]
  },
  {
   "cell_type": "code",
   "execution_count": 57,
   "metadata": {},
   "outputs": [
    {
     "name": "stdout",
     "output_type": "stream",
     "text": [
      "36\n",
      "49\n",
      "64\n",
      "81\n",
      "100\n",
      "121\n",
      "144\n",
      "169\n",
      "196\n",
      "225\n",
      "256\n",
      "289\n",
      "324\n",
      "361\n",
      "400\n"
     ]
    }
   ],
   "source": [
    "def printexceptfive():\n",
    "    lst = [ i ** 2 for i in range(1,21)]\n",
    "    for i in range(5,20):\n",
    "        print(lst[i])\n",
    "        \n",
    "printexceptfive()"
   ]
  },
  {
   "cell_type": "markdown",
   "metadata": {},
   "source": [
    "# Question 37\n",
    "\n",
    "<h3>Question:</h3>\n",
    "    \n",
    "Define a function which can generate and print a tuple where the value are square of numbers between 1 and 20 (both included).\n",
    "\n",
    "<h3>Hints:</h3>\n",
    "\n",
    "Use ** operator to get power of a number.Use range() for loops.Use list.append() to add values into a list.Use tuple() to get a tuple from a list.\n",
    "\n",
    "<h3>Solutions:</h3>"
   ]
  },
  {
   "cell_type": "code",
   "execution_count": 62,
   "metadata": {},
   "outputs": [
    {
     "name": "stdout",
     "output_type": "stream",
     "text": [
      "1 4 9 16 25 36 49 64 81 100 121 144 169 196 225 256 289 324 361 400\n",
      "<class 'generator'>\n"
     ]
    }
   ],
   "source": [
    "def printtuple():\n",
    "    tup = (i ** 2 for i in range(1,21))\n",
    "    print(*(tup))\n",
    "    print(type(tup))\n",
    "    \n",
    "printtuple()"
   ]
  },
  {
   "cell_type": "markdown",
   "metadata": {},
   "source": [
    "### OR"
   ]
  },
  {
   "cell_type": "code",
   "execution_count": 61,
   "metadata": {},
   "outputs": [
    {
     "name": "stdout",
     "output_type": "stream",
     "text": [
      "(1, 4, 9, 16, 25, 36, 49, 64, 81, 100, 121, 144, 169, 196, 225, 256, 289, 324, 361, 400)\n"
     ]
    }
   ],
   "source": [
    "def printtuple():\n",
    "    lst = [ i ** 2 for i in range(1,21)]\n",
    "    print(tuple(lst))\n",
    "    \n",
    "printtuple()"
   ]
  },
  {
   "cell_type": "code",
   "execution_count": null,
   "metadata": {},
   "outputs": [],
   "source": []
  }
 ],
 "metadata": {
  "kernelspec": {
   "display_name": "Python 3",
   "language": "python",
   "name": "python3"
  },
  "language_info": {
   "codemirror_mode": {
    "name": "ipython",
    "version": 3
   },
   "file_extension": ".py",
   "mimetype": "text/x-python",
   "name": "python",
   "nbconvert_exporter": "python",
   "pygments_lexer": "ipython3",
   "version": "3.7.4"
  }
 },
 "nbformat": 4,
 "nbformat_minor": 2
}
