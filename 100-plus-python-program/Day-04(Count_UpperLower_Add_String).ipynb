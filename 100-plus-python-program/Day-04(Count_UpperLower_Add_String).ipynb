{
 "cells": [
  {
   "cell_type": "markdown",
   "metadata": {},
   "source": [
    "# Question 14"
   ]
  },
  {
   "cell_type": "markdown",
   "metadata": {},
   "source": [
    "###  Question:\n",
    "    Write a program that accepts a sentence and calculate the number of upper case letters and lower case letters.\n",
    "\n",
    "    Suppose the following input is supplied to the program:\n",
    "\n",
    "    Hello world!\n",
    "\n",
    "    Then, the output should be:\n",
    "\n",
    "    UPPER CASE 1\n",
    "\n",
    "    LOWER CASE 9\n",
    "\n",
    "### Solution :"
   ]
  },
  {
   "cell_type": "code",
   "execution_count": 9,
   "metadata": {},
   "outputs": [
    {
     "name": "stdout",
     "output_type": "stream",
     "text": [
      "Hello world!\n",
      "UPPER CASE 1\n",
      "LOWER CASE 9\n"
     ]
    }
   ],
   "source": [
    "words = input()\n",
    "\n",
    "upper = lower = 0\n",
    "for i in words:\n",
    "    if \"a\" <= i and i <= \"z\":\n",
    "        lower += 1\n",
    "    elif \"A\" <= i and i <= \"Z\":\n",
    "        upper += 1\n",
    "print(f\"UPPER CASE {upper}\\nLOWER CASE {lower}\")"
   ]
  },
  {
   "cell_type": "markdown",
   "metadata": {},
   "source": [
    "OR"
   ]
  },
  {
   "cell_type": "code",
   "execution_count": 10,
   "metadata": {},
   "outputs": [
    {
     "name": "stdout",
     "output_type": "stream",
     "text": [
      "Hello world!\n",
      "UPPER CASE 1\n",
      "LOWER CASE 9\n"
     ]
    }
   ],
   "source": [
    "words = input()\n",
    "\n",
    "upper = lower = 0\n",
    "for i in words:\n",
    "    upper += i.isupper()\n",
    "    lower += i.islower()\n",
    "print(f\"UPPER CASE {upper}\\nLOWER CASE {lower}\")"
   ]
  },
  {
   "cell_type": "markdown",
   "metadata": {},
   "source": [
    "OR"
   ]
  },
  {
   "cell_type": "code",
   "execution_count": 12,
   "metadata": {},
   "outputs": [
    {
     "name": "stdout",
     "output_type": "stream",
     "text": [
      "Hello world!\n",
      "UPPER CASE 1\n",
      "LOWER CASE 9\n"
     ]
    }
   ],
   "source": [
    "words = input()\n",
    "upper = sum( 1 for i in words if i.isupper() )   # sum function cumulatively sum up 1's if the condition is True\n",
    "lower = sum( 1 for i in words if i.islower() )\n",
    "print(f\"UPPER CASE {upper}\\nLOWER CASE {lower}\")"
   ]
  },
  {
   "cell_type": "markdown",
   "metadata": {},
   "source": [
    "OR"
   ]
  },
  {
   "cell_type": "code",
   "execution_count": 14,
   "metadata": {},
   "outputs": [
    {
     "name": "stdout",
     "output_type": "stream",
     "text": [
      "Hello world!\n",
      "UPPER CASE 1\n",
      "LOWER CASE 9\n"
     ]
    }
   ],
   "source": [
    "words = input()\n",
    "upper = lower = 0\n",
    "for i in words:\n",
    "    if i.isupper():\n",
    "        upper += 1\n",
    "    if i.islower():\n",
    "        lower += 1\n",
    "print(f\"UPPER CASE {upper}\\nLOWER CASE {lower}\")"
   ]
  },
  {
   "cell_type": "markdown",
   "metadata": {},
   "source": [
    "# Question 15"
   ]
  },
  {
   "cell_type": "markdown",
   "metadata": {},
   "source": [
    " ### Question:\n",
    "    Write a program that computes the value of a+aa+aaa+aaaa with a given digit as the value of a.\n",
    "\n",
    "    Suppose the following input is supplied to the program:\n",
    "\n",
    "    9\n",
    "\n",
    "    Then, the output should be:\n",
    "\n",
    "    11106\n",
    "\n",
    "    Hints:\n",
    "    In case of input data being supplied to the question, it should be assumed to be a console input.\n",
    "\n",
    "### Solution :"
   ]
  },
  {
   "cell_type": "code",
   "execution_count": 19,
   "metadata": {},
   "outputs": [
    {
     "name": "stdout",
     "output_type": "stream",
     "text": [
      "9\n",
      "36\n"
     ]
    }
   ],
   "source": [
    "a = input()\n",
    "\n",
    "total, tmp = 0, str()\n",
    "for i in range(4):\n",
    "    tmp += a\n",
    "    total += int(tmp)\n",
    "print(total)    "
   ]
  },
  {
   "cell_type": "code",
   "execution_count": 25,
   "metadata": {},
   "outputs": [
    {
     "name": "stdout",
     "output_type": "stream",
     "text": [
      "9\n",
      "11106\n"
     ]
    }
   ],
   "source": [
    "a = input() \n",
    "total = int(a) + int(2*a) + int(3*a) + int(4*a)\n",
    "print(total)"
   ]
  },
  {
   "cell_type": "code",
   "execution_count": null,
   "metadata": {},
   "outputs": [],
   "source": []
  }
 ],
 "metadata": {
  "kernelspec": {
   "display_name": "Python 3",
   "language": "python",
   "name": "python3"
  },
  "language_info": {
   "codemirror_mode": {
    "name": "ipython",
    "version": 3
   },
   "file_extension": ".py",
   "mimetype": "text/x-python",
   "name": "python",
   "nbconvert_exporter": "python",
   "pygments_lexer": "ipython3",
   "version": "3.8.5"
  }
 },
 "nbformat": 4,
 "nbformat_minor": 2
}
