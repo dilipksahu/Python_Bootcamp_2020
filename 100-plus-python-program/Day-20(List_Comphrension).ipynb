{
 "cells": [
  {
   "cell_type": "markdown",
   "metadata": {},
   "source": [
    "# Question 80\n",
    "\n",
    "<h3>Question</h3>\n",
    "\n",
    "Please write a program to print the list after removing even numbers in [5,6,77,45,22,12,24].\n",
    "\n",
    "<h3>Hints</h3>\n",
    "\n",
    "Use list comprehension to delete a bunch of element from a list.\n",
    "\n",
    "<h3>Solutions:</h3>"
   ]
  },
  {
   "cell_type": "code",
   "execution_count": 7,
   "metadata": {},
   "outputs": [
    {
     "name": "stdout",
     "output_type": "stream",
     "text": [
      "[5, 77, 45]\n"
     ]
    }
   ],
   "source": [
    "lst = [5,6,77,45,22,12,24]\n",
    "lst = [ i for i in lst if i%2 != 0]\n",
    "print(lst)"
   ]
  },
  {
   "cell_type": "markdown",
   "metadata": {},
   "source": [
    "### OR"
   ]
  },
  {
   "cell_type": "code",
   "execution_count": 4,
   "metadata": {},
   "outputs": [
    {
     "name": "stdout",
     "output_type": "stream",
     "text": [
      "[5, 77, 45]\n"
     ]
    }
   ],
   "source": [
    "# Filter\n",
    "def isEven(x):\n",
    "    return x%2 != 0\n",
    "\n",
    "lst = [5,6,77,45,22,12,24]\n",
    "lst = list(filter(isEven,lst))\n",
    "print(lst)"
   ]
  },
  {
   "cell_type": "markdown",
   "metadata": {},
   "source": [
    "### OR"
   ]
  },
  {
   "cell_type": "code",
   "execution_count": 6,
   "metadata": {},
   "outputs": [
    {
     "name": "stdout",
     "output_type": "stream",
     "text": [
      "[5, 77, 45]\n"
     ]
    }
   ],
   "source": [
    "# Filter and lambda\n",
    "lst = [5,6,77,45,22,12,24]\n",
    "lst = list(filter(lambda x: x%2 != 0,lst))\n",
    "print(lst)"
   ]
  },
  {
   "cell_type": "markdown",
   "metadata": {},
   "source": [
    "# Question 81\n",
    "\n",
    "<h3>Question</h3>\n",
    "\n",
    "By using list comprehension, please write a program to print the list after removing numbers \n",
    "which are divisible by 5 and 7 in [12,24,35,70,88,120,155].\n",
    "\n",
    "<h3>Hints</h3>\n",
    "\n",
    "Use list comprehension to delete a bunch of element from a list.\n",
    "\n",
    "<h3>Solutions:</h3>"
   ]
  },
  {
   "cell_type": "code",
   "execution_count": 10,
   "metadata": {},
   "outputs": [
    {
     "name": "stdout",
     "output_type": "stream",
     "text": [
      "[35, 70]\n"
     ]
    }
   ],
   "source": [
    "li = [12,24,35,70,88,120,155]\n",
    "lst = [ i for i in li if i%35 == 0]\n",
    "print(lst)"
   ]
  },
  {
   "cell_type": "markdown",
   "metadata": {},
   "source": [
    "# Question 82\n",
    "\n",
    "<h3>Question</h3>\n",
    "\n",
    "By using list comprehension, please write a program to print the list after removing the 0th, 2nd, \n",
    "4th,6th numbers in [12,24,35,70,88,120,155].\n",
    "\n",
    "<h3>Hints</h3>\n",
    "\n",
    "Use list comprehension to delete a bunch of element from a list. Use enumerate() to get (index, value) tuple.\n",
    "\n",
    "<h3>Solutions:</h3>"
   ]
  },
  {
   "cell_type": "code",
   "execution_count": 12,
   "metadata": {},
   "outputs": [
    {
     "name": "stdout",
     "output_type": "stream",
     "text": [
      "[24, 70, 120]\n"
     ]
    }
   ],
   "source": [
    "# Enumerate \n",
    "li = [12,24,35,70,88,120,155]\n",
    "lst = [ val for ind,val in enumerate(li) if ind % 2 != 0]\n",
    "print(lst)"
   ]
  },
  {
   "cell_type": "markdown",
   "metadata": {},
   "source": [
    "### OR"
   ]
  },
  {
   "cell_type": "code",
   "execution_count": 13,
   "metadata": {},
   "outputs": [
    {
     "name": "stdout",
     "output_type": "stream",
     "text": [
      "[24, 70, 120]\n"
     ]
    }
   ],
   "source": [
    "# Range\n",
    "li = [12,24,35,70,88,120,155]\n",
    "lst = [ li[i] for i in range(len(li)) if i%2 != 0]  # 0 - 7 \n",
    "print(lst)"
   ]
  },
  {
   "cell_type": "markdown",
   "metadata": {},
   "source": [
    "# Question 83\n",
    "\n",
    "<h3>Question</h3>\n",
    "\n",
    "By using list comprehension, please write a program to print the list after removing the 2nd - 4th numbers in [12,24,35,70,88,120,155].\n",
    "\n",
    "<h3>Hints</h3>\n",
    "\n",
    "Use list comprehension to delete a bunch of element from a list. Use enumerate() to get (index, value) tuple.\n",
    "\n",
    "<h3>Solutions:</h3>"
   ]
  },
  {
   "cell_type": "code",
   "execution_count": 20,
   "metadata": {},
   "outputs": [
    {
     "name": "stdout",
     "output_type": "stream",
     "text": [
      "[12, 24, 120, 155]\n"
     ]
    }
   ],
   "source": [
    "# Enumerate \n",
    "li = [12,24,35,70,88,120,155]\n",
    "lst = [ val for ind,val in enumerate(li) if ind < 2 or ind > 4 ]\n",
    "print(lst)"
   ]
  },
  {
   "cell_type": "markdown",
   "metadata": {},
   "source": [
    "### OR"
   ]
  },
  {
   "cell_type": "code",
   "execution_count": 24,
   "metadata": {},
   "outputs": [
    {
     "name": "stdout",
     "output_type": "stream",
     "text": [
      "[12, 24, 120, 155]\n"
     ]
    }
   ],
   "source": [
    "# Range\n",
    "li = [12,24,35,70,88,120,155]\n",
    "lst = [ li[i] for i in range(len(li)) if i < 2 or i > 4]\n",
    "print(lst)"
   ]
  },
  {
   "cell_type": "markdown",
   "metadata": {},
   "source": [
    "# Question 84\n",
    "\n",
    "<h3>Question</h3>\n",
    "\n",
    "<p>By using list comprehension, please write a program generate a 3*5*8 3D array whose each element is 0.</p>\n",
    "\n",
    "<h3>Hints</h3>\n",
    "\n",
    "Use list comprehension to make an array.\n",
    "\n",
    "<h3>Solution:</h3>"
   ]
  },
  {
   "cell_type": "code",
   "execution_count": 28,
   "metadata": {},
   "outputs": [
    {
     "data": {
      "text/plain": [
       "[[[0, 0, 0, 0, 0, 0, 0, 0],\n",
       "  [0, 0, 0, 0, 0, 0, 0, 0],\n",
       "  [0, 0, 0, 0, 0, 0, 0, 0],\n",
       "  [0, 0, 0, 0, 0, 0, 0, 0],\n",
       "  [0, 0, 0, 0, 0, 0, 0, 0]],\n",
       " [[0, 0, 0, 0, 0, 0, 0, 0],\n",
       "  [0, 0, 0, 0, 0, 0, 0, 0],\n",
       "  [0, 0, 0, 0, 0, 0, 0, 0],\n",
       "  [0, 0, 0, 0, 0, 0, 0, 0],\n",
       "  [0, 0, 0, 0, 0, 0, 0, 0]],\n",
       " [[0, 0, 0, 0, 0, 0, 0, 0],\n",
       "  [0, 0, 0, 0, 0, 0, 0, 0],\n",
       "  [0, 0, 0, 0, 0, 0, 0, 0],\n",
       "  [0, 0, 0, 0, 0, 0, 0, 0],\n",
       "  [0, 0, 0, 0, 0, 0, 0, 0]]]"
      ]
     },
     "execution_count": 28,
     "metadata": {},
     "output_type": "execute_result"
    }
   ],
   "source": [
    "lst = [ [ [ 0 for k in range(8)] for j in range(5)] for i in range(3)]\n",
    "lst"
   ]
  }
 ],
 "metadata": {
  "kernelspec": {
   "display_name": "Python 3",
   "language": "python",
   "name": "python3"
  },
  "language_info": {
   "codemirror_mode": {
    "name": "ipython",
    "version": 3
   },
   "file_extension": ".py",
   "mimetype": "text/x-python",
   "name": "python",
   "nbconvert_exporter": "python",
   "pygments_lexer": "ipython3",
   "version": "3.7.4"
  }
 },
 "nbformat": 4,
 "nbformat_minor": 2
}
