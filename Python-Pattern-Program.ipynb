{
 "cells": [
  {
   "cell_type": "markdown",
   "metadata": {},
   "source": [
    "# Pattern #1: Simple Number Triangle Pattern\n",
    "\n",
    "Pattern:\n",
    "\n",
    "1  \n",
    "\n",
    "2 2  \n",
    "\n",
    "3 3 3  \n",
    "\n",
    "4 4 4 4  \n",
    "\n",
    "5 5 5 5 5"
   ]
  },
  {
   "cell_type": "code",
   "execution_count": 16,
   "metadata": {},
   "outputs": [
    {
     "name": "stdout",
     "output_type": "stream",
     "text": [
      "5\n",
      "1  \n",
      "\n",
      "2 2  \n",
      "\n",
      "3 3 3  \n",
      "\n",
      "4 4 4 4  \n",
      "\n",
      "5 5 5 5 5  \n",
      "\n"
     ]
    }
   ],
   "source": [
    "# One loop and arithmaetic operator(*)\n",
    "rows = int(input())\n",
    "for i in range(1,rows + 1):\n",
    "    print(f'{i} '*i,'\\n')"
   ]
  },
  {
   "cell_type": "code",
   "execution_count": 4,
   "metadata": {},
   "outputs": [
    {
     "name": "stdout",
     "output_type": "stream",
     "text": [
      "5\n",
      "1 \n",
      "\n",
      "2 2 \n",
      "\n",
      "3 3 3 \n",
      "\n",
      "4 4 4 4 \n",
      "\n",
      "5 5 5 5 5 \n",
      "\n"
     ]
    }
   ],
   "source": [
    "# Two loops\n",
    "rows = int(input())\n",
    "for i in range(1,rows + 1):            # number of rows\n",
    "    for j in range(i):               # number of time print\n",
    "        print(i,end=\" \")\n",
    "    print('\\n')"
   ]
  },
  {
   "cell_type": "markdown",
   "metadata": {},
   "source": [
    "# Pattern #2: Inverted Pyramid of Numbers\n",
    "\n",
    "Pattern:\n",
    "\n",
    "1 1 1 1 1 \n",
    "\n",
    "2 2 2 2 \n",
    "\n",
    "3 3 3 \n",
    "\n",
    "4 4 \n",
    "\n",
    "5"
   ]
  },
  {
   "cell_type": "code",
   "execution_count": 14,
   "metadata": {},
   "outputs": [
    {
     "name": "stdout",
     "output_type": "stream",
     "text": [
      "5\n",
      "1 1 1 1 1  \n",
      "\n",
      "2 2 2 2  \n",
      "\n",
      "3 3 3  \n",
      "\n",
      "4 4  \n",
      "\n",
      "5  \n",
      "\n"
     ]
    }
   ],
   "source": [
    "pt = rows = int(input())\n",
    "for i in range(1,rows + 1):\n",
    "    print(f'{i} '* pt,'\\n')\n",
    "    pt -= 1"
   ]
  },
  {
   "cell_type": "code",
   "execution_count": 15,
   "metadata": {},
   "outputs": [
    {
     "name": "stdout",
     "output_type": "stream",
     "text": [
      "5\n",
      "1 1 1 1 1 \n",
      "\n",
      "2 2 2 2 \n",
      "\n",
      "3 3 3 \n",
      "\n",
      "4 4 \n",
      "\n",
      "5 \n",
      "\n"
     ]
    }
   ],
   "source": [
    "rows = int(input())\n",
    "b = 0\n",
    "for i in range(rows,0,-1):\n",
    "    b += 1\n",
    "    for j in range(i):\n",
    "        print(b,end=\" \")\n",
    "    print('\\n')"
   ]
  },
  {
   "cell_type": "markdown",
   "metadata": {},
   "source": [
    "# Pattern #3: Half Pyramid Pattern of Numbers\n",
    "\n",
    "Pattern:\n",
    "\n",
    "1 \n",
    "\n",
    "1 2 \n",
    "\n",
    "1 2 3 \n",
    "\n",
    "1 2 3 4 \n",
    "\n",
    "1 2 3 4 5"
   ]
  },
  {
   "cell_type": "code",
   "execution_count": 13,
   "metadata": {},
   "outputs": [
    {
     "name": "stdout",
     "output_type": "stream",
     "text": [
      "5\n",
      "1 \n",
      "\n",
      "1 2 \n",
      "\n",
      "1 2 3 \n",
      "\n",
      "1 2 3 4 \n",
      "\n",
      "1 2 3 4 5 \n",
      "\n"
     ]
    }
   ],
   "source": [
    "rows = int(input())\n",
    "for row in range(1,rows+1):  \n",
    "    for col in range(1,row+1):\n",
    "        print(col,end=\" \") \n",
    "    print('\\n')"
   ]
  },
  {
   "cell_type": "markdown",
   "metadata": {},
   "source": [
    "# Pattern #4: Inverted Pyramid of Descending Numbers\n",
    "\n",
    "Pattern:\n",
    "\n",
    "5 5 5 5 5 \n",
    "\n",
    "4 4 4 4 \n",
    "\n",
    "3 3 3 \n",
    "\n",
    "2 2 \n",
    "\n",
    "1"
   ]
  },
  {
   "cell_type": "code",
   "execution_count": 12,
   "metadata": {},
   "outputs": [
    {
     "name": "stdout",
     "output_type": "stream",
     "text": [
      "5\n",
      "5 5 5 5 5 \n",
      "\n",
      "4 4 4 4 \n",
      "\n",
      "3 3 3 \n",
      "\n",
      "2 2 \n",
      "\n",
      "1 \n",
      "\n"
     ]
    }
   ],
   "source": [
    "b = rows = int(input())\n",
    "\n",
    "for row in range(rows,0,-1):\n",
    "    for col in range(row):\n",
    "        print(b,end=\" \")\n",
    "    b -= 1\n",
    "    print('\\n')"
   ]
  },
  {
   "cell_type": "markdown",
   "metadata": {},
   "source": [
    "# Pattern #5: Inverted Pyramid of the Same Digit\n",
    "\n",
    "Pattern:\n",
    "\n",
    "5 5 5 5 5 \n",
    "\n",
    "5 5 5 5 \n",
    "\n",
    "5 5 5 \n",
    "\n",
    "5 5 \n",
    "\n",
    "5"
   ]
  },
  {
   "cell_type": "code",
   "execution_count": 11,
   "metadata": {},
   "outputs": [
    {
     "name": "stdout",
     "output_type": "stream",
     "text": [
      "5\n",
      "5 5 5 5 5 \n",
      "\n",
      "5 5 5 5 \n",
      "\n",
      "5 5 5 \n",
      "\n",
      "5 5 \n",
      "\n",
      "5 \n",
      "\n"
     ]
    }
   ],
   "source": [
    "b = rows = int(input())\n",
    "\n",
    "for row in range(rows,0,-1):\n",
    "    for col in range(row):\n",
    "        print(b,end=\" \")\n",
    "    print('\\n')"
   ]
  },
  {
   "cell_type": "markdown",
   "metadata": {},
   "source": [
    "# Pattern #6: Reverse Pyramid of Numbers\n",
    "\n",
    "Pattern:\n",
    "\n",
    "1 \n",
    "\n",
    "2 1 \n",
    "\n",
    "3 2 1 \n",
    "\n",
    "4 3 2 1 \n",
    "\n",
    "5 4 3 2 1"
   ]
  },
  {
   "cell_type": "code",
   "execution_count": 9,
   "metadata": {},
   "outputs": [
    {
     "name": "stdout",
     "output_type": "stream",
     "text": [
      "5\n",
      "\n",
      "\n",
      "1 \n",
      "\n",
      "2 1 \n",
      "\n",
      "3 2 1 \n",
      "\n",
      "4 3 2 1 \n",
      "\n",
      "5 4 3 2 1 \n",
      "\n"
     ]
    }
   ],
   "source": [
    "rows = int(input())\n",
    "b = 0\n",
    "for row in range(rows+1):\n",
    "    for col in range(row,0,-1):\n",
    "        print(col,end=\" \")\n",
    "    print('\\n')"
   ]
  },
  {
   "cell_type": "markdown",
   "metadata": {},
   "source": [
    "# Pattern #7: Inverted Half Pyramid Number Pattern\n",
    "\n",
    "Pattern:\n",
    "\n",
    "0 1 2 3 4 5 \n",
    "\n",
    "0 1 2 3 4 \n",
    "\n",
    "0 1 2 3 \n",
    "\n",
    "0 1 2 \n",
    "\n",
    "0 1"
   ]
  },
  {
   "cell_type": "code",
   "execution_count": 23,
   "metadata": {},
   "outputs": [
    {
     "name": "stdout",
     "output_type": "stream",
     "text": [
      "5\n",
      "0 1 2 3 4 5 \n",
      "\n",
      "0 1 2 3 4 \n",
      "\n",
      "0 1 2 3 \n",
      "\n",
      "0 1 2 \n",
      "\n",
      "0 1 \n",
      "\n"
     ]
    }
   ],
   "source": [
    "rows = int(input())\n",
    "for row in range(rows,0,-1):\n",
    "    for col in range(row+1):\n",
    "        print(col,end=\" \")\n",
    "    print('\\n')\n",
    "        "
   ]
  },
  {
   "cell_type": "markdown",
   "metadata": {},
   "source": [
    "# Pattern #8: Pyramid of Natural Numbers Less Than 10\n",
    "\n",
    "Pattern:\n",
    "\n",
    "1 \n",
    "\n",
    "2 3 4 \n",
    "\n",
    "5 6 7 8 9"
   ]
  },
  {
   "cell_type": "code",
   "execution_count": 29,
   "metadata": {},
   "outputs": [
    {
     "name": "stdout",
     "output_type": "stream",
     "text": [
      "10 2\n",
      "1 \n",
      "\n",
      "2 3 4 \n",
      "\n",
      "5 6 7 8 9 \n",
      "\n"
     ]
    }
   ],
   "source": [
    "num,stop = map(int,input().split())\n",
    "currentNo = 1\n",
    "for row in range(num//3): # 0,1,2\n",
    "    for col in range(1,stop):\n",
    "        print(currentNo,end=\" \")\n",
    "        currentNo += 1\n",
    "    print('\\n')\n",
    "    stop += 2"
   ]
  },
  {
   "cell_type": "markdown",
   "metadata": {},
   "source": [
    "# Pattern #9: Reverse Pattern of Digits from 10 \n",
    "# check it out\n",
    "\n",
    "Pattern:\n",
    "\n",
    "1\n",
    "\n",
    "3 2\n",
    "\n",
    "6 5 4\n",
    "\n",
    "10 9 8 7"
   ]
  },
  {
   "cell_type": "code",
   "execution_count": 3,
   "metadata": {},
   "outputs": [
    {
     "name": "stdout",
     "output_type": "stream",
     "text": [
      "4\n",
      "1 \n",
      "\n",
      "3 2 \n",
      "\n",
      "6 5 4 \n",
      "\n",
      "10 9 8 7 \n",
      "\n"
     ]
    }
   ],
   "source": [
    "rows = int(input())\n",
    "start  = 1\n",
    "currentNo = stop = 2\n",
    "\n",
    "for row in range(2,rows+2):\n",
    "    for col in range(start,stop):\n",
    "        currentNo -= 1\n",
    "        print(currentNo,end=\" \")\n",
    "    print(\"\\n\")\n",
    "    start = stop\n",
    "    stop += row\n",
    "    currentNo = stop"
   ]
  },
  {
   "cell_type": "markdown",
   "metadata": {},
   "source": [
    "# Pattern #10: Unique Pyramid Pattern of Digits\n",
    "\n",
    "Pattern:\n",
    "\n",
    "1 \n",
    "\n",
    "1 2 1 \n",
    "\n",
    "1 2 3 2 1 \n",
    "\n",
    "1 2 3 4 3 2 1 \n",
    "\n",
    "1 2 3 4 5 4 3 2 1"
   ]
  },
  {
   "cell_type": "code",
   "execution_count": 8,
   "metadata": {},
   "outputs": [
    {
     "name": "stdout",
     "output_type": "stream",
     "text": [
      "5\n",
      "1 \n",
      "\n",
      "1 2 1 \n",
      "\n",
      "1 2 3 2 1 \n",
      "\n",
      "1 2 3 4 3 2 1 \n",
      "\n",
      "1 2 3 4 5 4 3 2 1 \n",
      "\n"
     ]
    }
   ],
   "source": [
    "rows = int(input())\n",
    "\n",
    "for row in range(1,rows+1):\n",
    "    for col in range(1,row+1):\n",
    "        print(col,end=\" \")\n",
    "    for col in range(row-1,0,-1):\n",
    "        print(col,end=\" \")\n",
    "        \n",
    "    print('\\n')\n",
    "    "
   ]
  },
  {
   "cell_type": "markdown",
   "metadata": {},
   "source": [
    "# Pattern #11: Connected Inverted Pyramid Pattern of Numbers\n",
    "\n",
    "Pattern:\n",
    "\n",
    "5 4 3 2 1 1 2 3 4 5 \n",
    "\n",
    "5 4 3 2 2 3 4 5 \n",
    "\n",
    "5 4 3 3 4 5 \n",
    "\n",
    "5 4 4 5 \n",
    "\n",
    "5 5"
   ]
  },
  {
   "cell_type": "code",
   "execution_count": 5,
   "metadata": {},
   "outputs": [
    {
     "name": "stdout",
     "output_type": "stream",
     "text": [
      "5\n",
      "5 4 3 2 1 1 2 3 4 5 \n",
      "\n",
      "5 4 3 2 2 3 4 5 \n",
      "\n",
      "5 4 3 3 4 5 \n",
      "\n",
      "5 4 4 5 \n",
      "\n",
      "5 5 \n",
      "\n"
     ]
    }
   ],
   "source": [
    "rows = int(input())\n",
    "start,stop = 1,0\n",
    "for row in range(rows,0,-1):\n",
    "    for col in range(5,stop,-1):\n",
    "        print(col,end=\" \")\n",
    "    for col in range(start,6):\n",
    "        print(col,end=\" \")\n",
    "    stop += 1\n",
    "    start += 1\n",
    "    print('\\n')"
   ]
  },
  {
   "cell_type": "markdown",
   "metadata": {},
   "source": [
    "# Pattern #12: Even Number Pyramid Pattern\n",
    "\n",
    "Pattern:\n",
    "\n",
    "10 \n",
    "\n",
    "10 8 \n",
    "\n",
    "10 8 6 \n",
    "\n",
    "10 8 6 4 \n",
    "\n",
    "10 8 6 4 2"
   ]
  },
  {
   "cell_type": "code",
   "execution_count": 6,
   "metadata": {},
   "outputs": [
    {
     "name": "stdout",
     "output_type": "stream",
     "text": [
      "5\n",
      "10 \n",
      "\n",
      "10 8 \n",
      "\n",
      "10 8 6 \n",
      "\n",
      "10 8 6 4 \n",
      "\n",
      "10 8 6 4 2 \n",
      "\n"
     ]
    }
   ],
   "source": [
    "rows = int(input())\n",
    "\n",
    "for row in range(1,rows+1):\n",
    "    currentNo = 10\n",
    "    for col in range(row):\n",
    "        print(currentNo,end=\" \")\n",
    "        currentNo -= 2\n",
    "    print('\\n')"
   ]
  },
  {
   "cell_type": "markdown",
   "metadata": {},
   "source": [
    "# Pattern #13: Pyramid of Horizontal Tables\n",
    "\n",
    "Pattern:\n",
    "\n",
    "0  \n",
    "\n",
    "0 1  \n",
    "\n",
    "0 2 4  \n",
    "\n",
    "0 3 6 9  \n",
    "\n",
    "0 4 8 12 16  \n",
    "\n",
    "0 5 10 15 20 25  \n",
    "\n",
    "0 6 12 18 24 30 36"
   ]
  },
  {
   "cell_type": "code",
   "execution_count": 1,
   "metadata": {},
   "outputs": [
    {
     "name": "stdout",
     "output_type": "stream",
     "text": [
      "7\n",
      "0 \n",
      "\n",
      "0 1 \n",
      "\n",
      "0 2 4 \n",
      "\n",
      "0 3 6 9 \n",
      "\n",
      "0 4 8 12 16 \n",
      "\n",
      "0 5 10 15 20 25 \n",
      "\n",
      "0 6 12 18 24 30 36 \n",
      "\n"
     ]
    }
   ],
   "source": [
    "rows = int(input())  # 7\n",
    "\n",
    "for row in range(rows):           # 0,1,2,3,4,5,6\n",
    "    for col in range(row+1):      \n",
    "        print((row*col),end=\" \")\n",
    "    print('\\n')"
   ]
  },
  {
   "cell_type": "markdown",
   "metadata": {},
   "source": [
    "# Pattern #14: Pyramid Pattern of Alternate Numbers\n",
    "\n",
    "Pattern:\n",
    "\n",
    "1 \n",
    "\n",
    "3 3 \n",
    "\n",
    "5 5 5 \n",
    "\n",
    "7 7 7 7 \n",
    "\n",
    "9 9 9 9 9"
   ]
  },
  {
   "cell_type": "code",
   "execution_count": 4,
   "metadata": {},
   "outputs": [
    {
     "name": "stdout",
     "output_type": "stream",
     "text": [
      "5\n",
      "1 \n",
      "\n",
      "3 3 \n",
      "\n",
      "5 5 5 \n",
      "\n",
      "7 7 7 7 \n",
      "\n",
      "9 9 9 9 9 \n",
      "\n"
     ]
    }
   ],
   "source": [
    "rows  = int(input())    # 5\n",
    "currentNo = 1\n",
    "for row in range(1,rows+1):    # 1,2,3,4,5\n",
    "    for col in range(row):\n",
    "        print(currentNo,end=\" \")\n",
    "    print('\\n')\n",
    "    currentNo += 2"
   ]
  },
  {
   "cell_type": "code",
   "execution_count": 7,
   "metadata": {},
   "outputs": [
    {
     "name": "stdout",
     "output_type": "stream",
     "text": [
      "5\n",
      "1 \n",
      "3 3 \n",
      "5 5 5 \n",
      "7 7 7 7 \n",
      "9 9 9 9 9 \n"
     ]
    }
   ],
   "source": [
    "# OR\n",
    "\n",
    "rows  = int(input())    # 5\n",
    "i = 1\n",
    "\n",
    "while i <= rows:\n",
    "\n",
    "    j = 1\n",
    "\n",
    "    while j <= i:\n",
    "\n",
    "        print((i * 2 - 1), end=\" \")\n",
    "\n",
    "        j = j + 1\n",
    "\n",
    "    i = i + 1\n",
    "\n",
    "    print()"
   ]
  },
  {
   "cell_type": "markdown",
   "metadata": {},
   "source": [
    "# Pattern #15: Mirrored Pyramid (Right-angled Triangle) Pattern of Numbers\n",
    "<p>\n",
    "Pattern:\n",
    "\n",
    "           1 \n",
    "\n",
    "         1 2 \n",
    "\n",
    "       1 2 3 \n",
    "\n",
    "     1 2 3 4 \n",
    "\n",
    "    1 2 3 4 5\n",
    "</p>"
   ]
  },
  {
   "cell_type": "code",
   "execution_count": 30,
   "metadata": {},
   "outputs": [
    {
     "name": "stdout",
     "output_type": "stream",
     "text": [
      "5\n",
      "        1 \n",
      "\n",
      "      1 2 \n",
      "\n",
      "    1 2 3 \n",
      "\n",
      "  1 2 3 4 \n",
      "\n",
      "1 2 3 4 5 \n",
      "\n"
     ]
    }
   ],
   "source": [
    "start = rows = int(input())\n",
    "for row in range(1,rows+1):\n",
    "    for col in range(start,1,-1):\n",
    "        print(\" \",end=\" \")\n",
    "    for col in range(1,row+1):\n",
    "        print(col,end=\" \")\n",
    "    print('\\n')\n",
    "    start -= 1"
   ]
  },
  {
   "cell_type": "code",
   "execution_count": 25,
   "metadata": {},
   "outputs": [
    {
     "name": "stdout",
     "output_type": "stream",
     "text": [
      "5\n",
      "        1 \n",
      "\n",
      "      1 2 \n",
      "\n",
      "    1 2 3 \n",
      "\n",
      "  1 2 3 4 \n",
      "\n",
      "1 2 3 4 5 \n",
      "\n"
     ]
    }
   ],
   "source": [
    "# OR \n",
    "rows = int(input())\n",
    "\n",
    "for row in range(1,rows+1):\n",
    "    currentNo = 1\n",
    "    for col in range(rows,0,-1):\n",
    "        if col > row:\n",
    "            print(\" \",end=\" \")\n",
    "        else:\n",
    "            print(currentNo,end=\" \")\n",
    "            currentNo += 1\n",
    "    print('\\n')\n",
    "    "
   ]
  },
  {
   "cell_type": "markdown",
   "metadata": {},
   "source": [
    "# Pattern #16: Equilateral Triangle with Stars (Asterisk Symbol)\n",
    "\n",
    "Pattern:\n",
    "\n",
    "            *   \n",
    "\n",
    "           * *   \n",
    "\n",
    "          * * *   \n",
    "\n",
    "         * * * *   \n",
    "\n",
    "        * * * * *   \n",
    "\n",
    "       * * * * * *   \n",
    "\n",
    "      * * * * * * *"
   ]
  },
  {
   "cell_type": "code",
   "execution_count": 45,
   "metadata": {},
   "outputs": [
    {
     "name": "stdout",
     "output_type": "stream",
     "text": [
      "7\n",
      "              * \n",
      "\n",
      "             * * \n",
      "\n",
      "            * * * \n",
      "\n",
      "           * * * * \n",
      "\n",
      "          * * * * * \n",
      "\n",
      "         * * * * * * \n",
      "\n",
      "        * * * * * * * \n",
      "\n"
     ]
    }
   ],
   "source": [
    "rows = int(input())\n",
    "stop = (2*rows)\n",
    "for row in range(1,rows+1):            # rows\n",
    "    for col in range(0,stop):          # space\n",
    "        print(' ',end=\"\")\n",
    "    for col in range(row):             # print\n",
    "        print('* ',end=\"\")\n",
    "        \n",
    "    print('\\n')\n",
    "    stop -= 1"
   ]
  },
  {
   "cell_type": "code",
   "execution_count": 9,
   "metadata": {},
   "outputs": [
    {
     "name": "stdout",
     "output_type": "stream",
     "text": [
      "7\n",
      "                *                 \n",
      "               * *                \n",
      "              * * *               \n",
      "             * * * *              \n",
      "            * * * * *             \n",
      "           * * * * * *            \n",
      "          * * * * * * *           \n"
     ]
    }
   ],
   "source": [
    "rows = int(input())\n",
    "columns = (5 * rows) -1\n",
    "for row in range(1,rows+1):\n",
    "    pattern = '* '*row\n",
    "    print(pattern.center(columns))\n",
    "#     print('\\n')\n",
    "    "
   ]
  },
  {
   "cell_type": "code",
   "execution_count": 15,
   "metadata": {},
   "outputs": [
    {
     "name": "stdout",
     "output_type": "stream",
     "text": [
      "7\n",
      "      *      \n",
      "     ***     \n",
      "    *****    \n",
      "   *******   \n",
      "  *********  \n",
      " *********** \n",
      "*************\n"
     ]
    }
   ],
   "source": [
    "# Similar not same\n",
    "thickness = int(input()) #This must be an odd number\n",
    "c = '*'\n",
    "\n",
    "#Top Cone\n",
    "for i in range(thickness):\n",
    "    print((c*i).rjust(thickness-1)+c+(c*i).ljust(thickness-1))"
   ]
  },
  {
   "cell_type": "markdown",
   "metadata": {},
   "source": [
    "# Pattern #17: Downward Triangle Pattern of Stars\n",
    "\n",
    "Pattern:\n",
    "\n",
    "        * * * * * * \n",
    "\n",
    "         * * * * * \n",
    "\n",
    "          * * * * \n",
    "\n",
    "           * * * \n",
    "\n",
    "            * * \n",
    "\n",
    "             * "
   ]
  },
  {
   "cell_type": "code",
   "execution_count": 48,
   "metadata": {},
   "outputs": [
    {
     "name": "stdout",
     "output_type": "stream",
     "text": [
      "6\n",
      "                         * * * * * * \n",
      "\n",
      "                          * * * * * \n",
      "\n",
      "                           * * * * \n",
      "\n",
      "                            * * * \n",
      "\n",
      "                             * * \n",
      "\n",
      "                              * \n",
      "\n"
     ]
    }
   ],
   "source": [
    "start = rows = int(input())\n",
    "stop = 25\n",
    "for row in range(1,rows+1):\n",
    "    for col in range(0,stop):\n",
    "        print(' ',end=\"\")\n",
    "    stop += 1\n",
    "    for col in range(start,0,-1):\n",
    "        print('* ',end=\"\")\n",
    "    start -= 1\n",
    "    print('\\n')"
   ]
  },
  {
   "cell_type": "code",
   "execution_count": 49,
   "metadata": {},
   "outputs": [
    {
     "name": "stdout",
     "output_type": "stream",
     "text": [
      "6\n",
      "                         * * * * * * \n",
      "\n",
      "                          * * * * * \n",
      "\n",
      "                           * * * * \n",
      "\n",
      "                            * * * \n",
      "\n",
      "                             * * \n",
      "\n",
      "                              * \n",
      "\n"
     ]
    }
   ],
   "source": [
    "# OR\n",
    "start = rows = int(input())\n",
    "stop = 25\n",
    "for row in range(rows,0,-1):\n",
    "    for col in range(0,stop):\n",
    "        print(' ',end=\"\")\n",
    "    stop += 1\n",
    "    for col in range(0,row):\n",
    "        print('* ',end=\"\")\n",
    "    start -= 1\n",
    "    print('\\n')"
   ]
  },
  {
   "cell_type": "markdown",
   "metadata": {},
   "source": [
    "# Pattern #18: Pyramid Pattern of Stars"
   ]
  },
  {
   "cell_type": "code",
   "execution_count": 51,
   "metadata": {},
   "outputs": [
    {
     "data": {
      "text/plain": [
       "'\\nPattern:\\n\\n* \\n\\n* * \\n\\n* * * \\n\\n* * * * \\n\\n* * * * *\\n'"
      ]
     },
     "execution_count": 51,
     "metadata": {},
     "output_type": "execute_result"
    }
   ],
   "source": [
    "'''\n",
    "Pattern:\n",
    "\n",
    "* \n",
    "\n",
    "* * \n",
    "\n",
    "* * * \n",
    "\n",
    "* * * * \n",
    "\n",
    "* * * * *\n",
    "'''"
   ]
  },
  {
   "cell_type": "code",
   "execution_count": 52,
   "metadata": {},
   "outputs": [
    {
     "name": "stdout",
     "output_type": "stream",
     "text": [
      "5\n",
      "* \n",
      "\n",
      "* * \n",
      "\n",
      "* * * \n",
      "\n",
      "* * * * \n",
      "\n",
      "* * * * * \n",
      "\n"
     ]
    }
   ],
   "source": [
    "rows = int(input())\n",
    "for row in range(1,rows+1):\n",
    "    for col in range(row):\n",
    "        print('* ',end=\"\")\n",
    "    print('\\n')"
   ]
  },
  {
   "cell_type": "code",
   "execution_count": 21,
   "metadata": {},
   "outputs": [
    {
     "name": "stdout",
     "output_type": "stream",
     "text": [
      "5\n",
      "*    \n",
      "\n",
      "* *  \n",
      "\n",
      "* * * \n",
      "\n",
      "* * * * \n",
      "\n",
      "* * * * * \n",
      "\n"
     ]
    }
   ],
   "source": [
    "rows = int(input())\n",
    "c = \"* \"\n",
    "for row in range(1,rows+1):\n",
    "    print((c*row).ljust(rows))\n",
    "    print()"
   ]
  },
  {
   "cell_type": "code",
   "execution_count": null,
   "metadata": {},
   "outputs": [],
   "source": []
  }
 ],
 "metadata": {
  "kernelspec": {
   "display_name": "Python 3",
   "language": "python",
   "name": "python3"
  },
  "language_info": {
   "codemirror_mode": {
    "name": "ipython",
    "version": 3
   },
   "file_extension": ".py",
   "mimetype": "text/x-python",
   "name": "python",
   "nbconvert_exporter": "python",
   "pygments_lexer": "ipython3",
   "version": "3.8.5"
  }
 },
 "nbformat": 4,
 "nbformat_minor": 2
}
