{
 "cells": [
  {
   "cell_type": "markdown",
   "metadata": {},
   "source": [
    "# Example - 1\n",
    "### Python3 code to demonstrate working of  \n",
    "### Nested Dictionary with List \n",
    "### Using loop + zip()"
   ]
  },
  {
   "cell_type": "code",
   "execution_count": 15,
   "metadata": {},
   "outputs": [
    {
     "name": "stdout",
     "output_type": "stream",
     "text": [
      "The original dictionary is : {'Gfg': 4, 'is': 5, 'best': 9}\n",
      "The original list is : [8, 3, 2]\n",
      "The mapped dictionary : {8: {'Gfg': 4}, 3: {'is': 5}, 2: {'best': 9}}\n"
     ]
    }
   ],
   "source": [
    "# initializing dictionary and list \n",
    "test_dict = {'Gfg' : 4, 'is' : 5, 'best' : 9}  \n",
    "test_list = [8, 3, 2] \n",
    "\n",
    "# printing original dictionary and list \n",
    "print(\"The original dictionary is : \" + str(test_dict)) \n",
    "print(\"The original list is : \" + str(test_list))\n",
    "\n",
    "# using zip() and loop to perform  \n",
    "# combining and assignment respectively.\n",
    "res = {}\n",
    "for key,ele in zip(test_list,test_dict.items()):\n",
    "    res[key] = dict([ele])\n",
    "    \n",
    "# printing result  \n",
    "print(\"The mapped dictionary : \" + str(res))  "
   ]
  },
  {
   "cell_type": "markdown",
   "metadata": {},
   "source": [
    "### OR"
   ]
  },
  {
   "cell_type": "code",
   "execution_count": 17,
   "metadata": {},
   "outputs": [
    {
     "name": "stdout",
     "output_type": "stream",
     "text": [
      "The original dictionary is : {'Gfg': 4, 'is': 5, 'best': 9}\n",
      "The original list is : [8, 3, 2]\n",
      "The mapped dictionary : {8: {'Gfg': 4}, 3: {'is': 5}, 2: {'best': 9}}\n"
     ]
    }
   ],
   "source": [
    "# initializing dictionary and list \n",
    "test_dict = {'Gfg' : 4, 'is' : 5, 'best' : 9}  \n",
    "test_list = [8, 3, 2] \n",
    "  \n",
    "# printing original dictionary and list \n",
    "print(\"The original dictionary is : \" + str(test_dict)) \n",
    "print(\"The original list is : \" + str(test_list)) \n",
    "  \n",
    "# zip() and dictionary comprehension mapped in one liner to solve \n",
    "res = { idx: {key : test_dict[key]} for idx,key in zip(test_list,test_dict)}\n",
    "\n",
    "# printing result  \n",
    "print(\"The mapped dictionary : \" + str(res))"
   ]
  },
  {
   "cell_type": "markdown",
   "metadata": {},
   "source": [
    "### Example - 2\n",
    "#### Access Nested Dictionary"
   ]
  },
  {
   "cell_type": "code",
   "execution_count": 1,
   "metadata": {},
   "outputs": [],
   "source": [
    "D1={1: {2: {3: 4, 5: 6}, 3: {4: 5, 6: 7}}, 2: {3: {4: 5}, 4: {6: 7}}}"
   ]
  },
  {
   "cell_type": "code",
   "execution_count": 12,
   "metadata": {},
   "outputs": [
    {
     "name": "stdout",
     "output_type": "stream",
     "text": [
      "{2: {3: 4, 5: 6}, 3: {4: 5, 6: 7}}\n",
      "{3: {4: 5}, 4: {6: 7}}\n"
     ]
    }
   ],
   "source": [
    "def recurdict(d):\n",
    "    for i in d:\n",
    "        print(d[i])\n",
    "recurdict(D1)        "
   ]
  },
  {
   "cell_type": "code",
   "execution_count": 13,
   "metadata": {},
   "outputs": [
    {
     "data": {
      "text/plain": [
       "{4: 5, 6: 7}"
      ]
     },
     "execution_count": 13,
     "metadata": {},
     "output_type": "execute_result"
    }
   ],
   "source": [
    "# For finding specific key\n",
    "def _finditem(obj,key):\n",
    "    if key in obj: \n",
    "        return obj[key]\n",
    "    for k, v in obj.items():\n",
    "        if isinstance(v,dict):\n",
    "            return _finditem(v, key)\n",
    "_finditem(D1,3)"
   ]
  },
  {
   "cell_type": "markdown",
   "metadata": {},
   "source": [
    "#### Following recursive function is called repetitively if the value component of each item in directory is a directory itself.\n"
   ]
  },
  {
   "cell_type": "code",
   "execution_count": 23,
   "metadata": {},
   "outputs": [
    {
     "name": "stdout",
     "output_type": "stream",
     "text": [
      "{3, ':', 4}\n"
     ]
    }
   ],
   "source": [
    "def interdict(d):\n",
    "    for k,v in d.items():\n",
    "        if isinstance(v,dict):\n",
    "            return interdict(v)\n",
    "        else:\n",
    "            return {k,\":\",d[k]}\n",
    "        \n",
    "print(interdict(D1))"
   ]
  },
  {
   "cell_type": "markdown",
   "metadata": {},
   "source": [
    "### Example - 3\n",
    "#### Number of () brackets"
   ]
  },
  {
   "cell_type": "code",
   "execution_count": 13,
   "metadata": {},
   "outputs": [
    {
     "name": "stdout",
     "output_type": "stream",
     "text": [
      "()()(()()(()((()\n",
      "6 10\n",
      "6\n"
     ]
    }
   ],
   "source": [
    "s = input()\n",
    "lst = [ i for i in s]\n",
    "closed = opened = 0\n",
    "closed = lst.count(')')\n",
    "opened = lst.count('(')\n",
    "print(closed,opened)\n",
    "if closed <= opened:\n",
    "    print(closed)\n",
    "elif closed >= opened:\n",
    "    print(opened)"
   ]
  },
  {
   "cell_type": "code",
   "execution_count": 22,
   "metadata": {},
   "outputs": [
    {
     "name": "stdout",
     "output_type": "stream",
     "text": [
      "AAAAADDDDDCCCCDDDDEEEFFF\n",
      "6\n",
      "AAAAAD\n",
      "AD\n",
      "DDDDCC\n",
      "DC\n",
      "CCDDDD\n",
      "CD\n",
      "EEEFFF\n",
      "EF\n"
     ]
    }
   ],
   "source": [
    "def merge_the_tools(string, k):\n",
    "    for i in range(0,len(string),k):\n",
    "        sub = string[i:i+k]\n",
    "        print(sub)\n",
    "        temp = ''\n",
    "        for j in sub:\n",
    "            if j not in temp:\n",
    "                temp += j\n",
    "        print(temp)  \n",
    "        \n",
    "if __name__ == '__main__':\n",
    "    string, k = input(), int(input())\n",
    "    merge_the_tools(string, k)"
   ]
  },
  {
   "cell_type": "code",
   "execution_count": null,
   "metadata": {},
   "outputs": [],
   "source": []
  }
 ],
 "metadata": {
  "kernelspec": {
   "display_name": "Python 3",
   "language": "python",
   "name": "python3"
  },
  "language_info": {
   "codemirror_mode": {
    "name": "ipython",
    "version": 3
   },
   "file_extension": ".py",
   "mimetype": "text/x-python",
   "name": "python",
   "nbconvert_exporter": "python",
   "pygments_lexer": "ipython3",
   "version": "3.8.5"
  }
 },
 "nbformat": 4,
 "nbformat_minor": 4
}
